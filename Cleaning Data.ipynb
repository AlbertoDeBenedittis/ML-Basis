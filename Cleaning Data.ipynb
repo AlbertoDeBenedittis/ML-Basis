{
 "cells": [
  {
   "cell_type": "markdown",
   "id": "6a3a9ccc",
   "metadata": {},
   "source": [
    "# Cleaning Data"
   ]
  },
  {
   "cell_type": "markdown",
   "id": "db7dae36",
   "metadata": {},
   "source": [
    "## Column Names"
   ]
  },
  {
   "cell_type": "markdown",
   "id": "2cebc578",
   "metadata": {},
   "source": [
    "When using pandas, having Python-friendly column names makes attribute access possible. The pyjanitor `clean_names` function will return a DataFrame with columns in lowercase and spaces replaced by underscores:"
   ]
  },
  {
   "cell_type": "code",
   "execution_count": 1,
   "id": "2fed14de",
   "metadata": {},
   "outputs": [],
   "source": [
    "#! pip install pyjanitor\n"
   ]
  },
  {
   "cell_type": "code",
   "execution_count": 2,
   "id": "4a19d04b",
   "metadata": {},
   "outputs": [
    {
     "data": {
      "text/html": [
       "<div>\n",
       "<style scoped>\n",
       "    .dataframe tbody tr th:only-of-type {\n",
       "        vertical-align: middle;\n",
       "    }\n",
       "\n",
       "    .dataframe tbody tr th {\n",
       "        vertical-align: top;\n",
       "    }\n",
       "\n",
       "    .dataframe thead th {\n",
       "        text-align: right;\n",
       "    }\n",
       "</style>\n",
       "<table border=\"1\" class=\"dataframe\">\n",
       "  <thead>\n",
       "    <tr style=\"text-align: right;\">\n",
       "      <th></th>\n",
       "      <th>A</th>\n",
       "      <th>sales numbers</th>\n",
       "    </tr>\n",
       "  </thead>\n",
       "  <tbody>\n",
       "    <tr>\n",
       "      <th>0</th>\n",
       "      <td>1.0</td>\n",
       "      <td>20.0</td>\n",
       "    </tr>\n",
       "    <tr>\n",
       "      <th>1</th>\n",
       "      <td>NaN</td>\n",
       "      <td>30.0</td>\n",
       "    </tr>\n",
       "    <tr>\n",
       "      <th>2</th>\n",
       "      <td>3.0</td>\n",
       "      <td>NaN</td>\n",
       "    </tr>\n",
       "  </tbody>\n",
       "</table>\n",
       "</div>"
      ],
      "text/plain": [
       "     A    sales numbers \n",
       "0  1.0              20.0\n",
       "1  NaN              30.0\n",
       "2  3.0               NaN"
      ]
     },
     "execution_count": 2,
     "metadata": {},
     "output_type": "execute_result"
    }
   ],
   "source": [
    "import janitor as jn \n",
    "import pandas as pd \n",
    "\n",
    "Xbad = pd.DataFrame(\n",
    "    {\n",
    "        'A': [1, None, 3],\n",
    "        '  sales numbers ': [20.0, 30.0, None]\n",
    "    }\n",
    ")\n",
    "Xbad"
   ]
  },
  {
   "cell_type": "code",
   "execution_count": 6,
   "id": "25dc6f24",
   "metadata": {},
   "outputs": [
    {
     "data": {
      "text/html": [
       "<div>\n",
       "<style scoped>\n",
       "    .dataframe tbody tr th:only-of-type {\n",
       "        vertical-align: middle;\n",
       "    }\n",
       "\n",
       "    .dataframe tbody tr th {\n",
       "        vertical-align: top;\n",
       "    }\n",
       "\n",
       "    .dataframe thead th {\n",
       "        text-align: right;\n",
       "    }\n",
       "</style>\n",
       "<table border=\"1\" class=\"dataframe\">\n",
       "  <thead>\n",
       "    <tr style=\"text-align: right;\">\n",
       "      <th></th>\n",
       "      <th>a</th>\n",
       "      <th>_sales_numbers_</th>\n",
       "    </tr>\n",
       "  </thead>\n",
       "  <tbody>\n",
       "    <tr>\n",
       "      <th>0</th>\n",
       "      <td>1.0</td>\n",
       "      <td>20.0</td>\n",
       "    </tr>\n",
       "    <tr>\n",
       "      <th>1</th>\n",
       "      <td>NaN</td>\n",
       "      <td>30.0</td>\n",
       "    </tr>\n",
       "    <tr>\n",
       "      <th>2</th>\n",
       "      <td>3.0</td>\n",
       "      <td>NaN</td>\n",
       "    </tr>\n",
       "  </tbody>\n",
       "</table>\n",
       "</div>"
      ],
      "text/plain": [
       "     a  _sales_numbers_\n",
       "0  1.0             20.0\n",
       "1  NaN             30.0\n",
       "2  3.0              NaN"
      ]
     },
     "execution_count": 6,
     "metadata": {},
     "output_type": "execute_result"
    }
   ],
   "source": [
    "Xbad = jn.clean_names(Xbad)\n",
    "Xbad"
   ]
  },
  {
   "cell_type": "markdown",
   "id": "e2080428",
   "metadata": {},
   "source": [
    "### TIP "
   ]
  },
  {
   "cell_type": "markdown",
   "id": "66538cb3",
   "metadata": {},
   "source": [
    "It is recommended updating columns using index assignement, the `.assign` method, `.loc` or `iloc` assignements. It also recommendednot using attribute assignement to update columns in pandas. Due to the risk of overwriting existing methods with the same name as a column, attribute, assignement is not guaranted to work. "
   ]
  },
  {
   "cell_type": "markdown",
   "id": "f1020a9e",
   "metadata": {},
   "source": [
    "The pyjanitor library is handy, nut does not allow to strip whitespaces around columns. We can use pandas to have more fine-grained control of the column renaming:\n"
   ]
  },
  {
   "cell_type": "code",
   "execution_count": 7,
   "id": "c16f7744",
   "metadata": {},
   "outputs": [],
   "source": [
    "def clean_col(name):\n",
    "    return (\n",
    "    name.strip().lower().replace(' ','_'))"
   ]
  },
  {
   "cell_type": "code",
   "execution_count": 8,
   "id": "2bafa8f0",
   "metadata": {},
   "outputs": [],
   "source": [
    "Xbad = pd.DataFrame(\n",
    "    {\n",
    "        'A': [1, None, 3],\n",
    "        '  sales numbers ': [20.0, 30.0, None]\n",
    "    }\n",
    ")"
   ]
  },
  {
   "cell_type": "code",
   "execution_count": 10,
   "id": "ef86f06a",
   "metadata": {},
   "outputs": [
    {
     "data": {
      "text/html": [
       "<div>\n",
       "<style scoped>\n",
       "    .dataframe tbody tr th:only-of-type {\n",
       "        vertical-align: middle;\n",
       "    }\n",
       "\n",
       "    .dataframe tbody tr th {\n",
       "        vertical-align: top;\n",
       "    }\n",
       "\n",
       "    .dataframe thead th {\n",
       "        text-align: right;\n",
       "    }\n",
       "</style>\n",
       "<table border=\"1\" class=\"dataframe\">\n",
       "  <thead>\n",
       "    <tr style=\"text-align: right;\">\n",
       "      <th></th>\n",
       "      <th>a</th>\n",
       "      <th>sales_numbers</th>\n",
       "    </tr>\n",
       "  </thead>\n",
       "  <tbody>\n",
       "    <tr>\n",
       "      <th>0</th>\n",
       "      <td>1.0</td>\n",
       "      <td>20.0</td>\n",
       "    </tr>\n",
       "    <tr>\n",
       "      <th>1</th>\n",
       "      <td>NaN</td>\n",
       "      <td>30.0</td>\n",
       "    </tr>\n",
       "    <tr>\n",
       "      <th>2</th>\n",
       "      <td>3.0</td>\n",
       "      <td>NaN</td>\n",
       "    </tr>\n",
       "  </tbody>\n",
       "</table>\n",
       "</div>"
      ],
      "text/plain": [
       "     a  sales_numbers\n",
       "0  1.0           20.0\n",
       "1  NaN           30.0\n",
       "2  3.0            NaN"
      ]
     },
     "execution_count": 10,
     "metadata": {},
     "output_type": "execute_result"
    }
   ],
   "source": [
    "Xbad.rename(columns = clean_col, inplace = True)\n",
    "Xbad"
   ]
  },
  {
   "cell_type": "markdown",
   "id": "b3686db3",
   "metadata": {},
   "source": [
    "## Replacing Missing Values"
   ]
  },
  {
   "cell_type": "markdown",
   "id": "b53909d4",
   "metadata": {},
   "source": [
    "The `coalesce` function in pyjanitor takes a DataFrame and a list of columns to consider. This is similar to functionality found in Excel and SQL databases. It returns the first nonnull value for each row:"
   ]
  },
  {
   "cell_type": "code",
   "execution_count": 11,
   "id": "2051a3cf",
   "metadata": {},
   "outputs": [],
   "source": [
    "Xbad = pd.DataFrame(\n",
    "    {\n",
    "        'A': [1, None, 3],\n",
    "        '  sales numbers ': [20.0, 30.0, None]\n",
    "    }\n",
    ")"
   ]
  },
  {
   "cell_type": "code",
   "execution_count": 29,
   "id": "8cb56d31",
   "metadata": {},
   "outputs": [
    {
     "data": {
      "text/html": [
       "<div>\n",
       "<style scoped>\n",
       "    .dataframe tbody tr th:only-of-type {\n",
       "        vertical-align: middle;\n",
       "    }\n",
       "\n",
       "    .dataframe tbody tr th {\n",
       "        vertical-align: top;\n",
       "    }\n",
       "\n",
       "    .dataframe thead th {\n",
       "        text-align: right;\n",
       "    }\n",
       "</style>\n",
       "<table border=\"1\" class=\"dataframe\">\n",
       "  <thead>\n",
       "    <tr style=\"text-align: right;\">\n",
       "      <th></th>\n",
       "      <th>A</th>\n",
       "      <th>sales numbers</th>\n",
       "    </tr>\n",
       "  </thead>\n",
       "  <tbody>\n",
       "    <tr>\n",
       "      <th>0</th>\n",
       "      <td>1.0</td>\n",
       "      <td>20.0</td>\n",
       "    </tr>\n",
       "    <tr>\n",
       "      <th>1</th>\n",
       "      <td>30.0</td>\n",
       "      <td>30.0</td>\n",
       "    </tr>\n",
       "    <tr>\n",
       "      <th>2</th>\n",
       "      <td>3.0</td>\n",
       "      <td>NaN</td>\n",
       "    </tr>\n",
       "  </tbody>\n",
       "</table>\n",
       "</div>"
      ],
      "text/plain": [
       "      A    sales numbers \n",
       "0   1.0              20.0\n",
       "1  30.0              30.0\n",
       "2   3.0               NaN"
      ]
     },
     "execution_count": 29,
     "metadata": {},
     "output_type": "execute_result"
    }
   ],
   "source": [
    "Xbad.coalesce('A', '  sales numbers ')\n",
    "# https://pyjanitor-devs.github.io/pyjanitor/reference/janitor.functions/janitor.coalesce.html"
   ]
  },
  {
   "cell_type": "code",
   "execution_count": 15,
   "id": "ab2a01ee",
   "metadata": {},
   "outputs": [
    {
     "data": {
      "text/html": [
       "<div>\n",
       "<style scoped>\n",
       "    .dataframe tbody tr th:only-of-type {\n",
       "        vertical-align: middle;\n",
       "    }\n",
       "\n",
       "    .dataframe tbody tr th {\n",
       "        vertical-align: top;\n",
       "    }\n",
       "\n",
       "    .dataframe thead th {\n",
       "        text-align: right;\n",
       "    }\n",
       "</style>\n",
       "<table border=\"1\" class=\"dataframe\">\n",
       "  <thead>\n",
       "    <tr style=\"text-align: right;\">\n",
       "      <th></th>\n",
       "      <th>A</th>\n",
       "      <th>sales numbers</th>\n",
       "    </tr>\n",
       "  </thead>\n",
       "  <tbody>\n",
       "    <tr>\n",
       "      <th>0</th>\n",
       "      <td>1.0</td>\n",
       "      <td>20.0</td>\n",
       "    </tr>\n",
       "    <tr>\n",
       "      <th>1</th>\n",
       "      <td>10.0</td>\n",
       "      <td>30.0</td>\n",
       "    </tr>\n",
       "    <tr>\n",
       "      <th>2</th>\n",
       "      <td>3.0</td>\n",
       "      <td>10.0</td>\n",
       "    </tr>\n",
       "  </tbody>\n",
       "</table>\n",
       "</div>"
      ],
      "text/plain": [
       "      A    sales numbers \n",
       "0   1.0              20.0\n",
       "1  10.0              30.0\n",
       "2   3.0              10.0"
      ]
     },
     "execution_count": 15,
     "metadata": {},
     "output_type": "execute_result"
    }
   ],
   "source": [
    "Xbad.fillna(10)"
   ]
  },
  {
   "cell_type": "code",
   "execution_count": 31,
   "id": "5c6279a5",
   "metadata": {},
   "outputs": [
    {
     "data": {
      "text/html": [
       "<div>\n",
       "<style scoped>\n",
       "    .dataframe tbody tr th:only-of-type {\n",
       "        vertical-align: middle;\n",
       "    }\n",
       "\n",
       "    .dataframe tbody tr th {\n",
       "        vertical-align: top;\n",
       "    }\n",
       "\n",
       "    .dataframe thead th {\n",
       "        text-align: right;\n",
       "    }\n",
       "</style>\n",
       "<table border=\"1\" class=\"dataframe\">\n",
       "  <thead>\n",
       "    <tr style=\"text-align: right;\">\n",
       "      <th></th>\n",
       "      <th>A</th>\n",
       "      <th>sales numbers</th>\n",
       "    </tr>\n",
       "  </thead>\n",
       "  <tbody>\n",
       "    <tr>\n",
       "      <th>0</th>\n",
       "      <td>1.0</td>\n",
       "      <td>20.0</td>\n",
       "    </tr>\n",
       "    <tr>\n",
       "      <th>1</th>\n",
       "      <td>10.0</td>\n",
       "      <td>30.0</td>\n",
       "    </tr>\n",
       "    <tr>\n",
       "      <th>2</th>\n",
       "      <td>3.0</td>\n",
       "      <td>NaN</td>\n",
       "    </tr>\n",
       "  </tbody>\n",
       "</table>\n",
       "</div>"
      ],
      "text/plain": [
       "      A    sales numbers \n",
       "0   1.0              20.0\n",
       "1  10.0              30.0\n",
       "2   3.0               NaN"
      ]
     },
     "execution_count": 31,
     "metadata": {},
     "output_type": "execute_result"
    }
   ],
   "source": [
    "Xbad.fill_empty(column_names='A',\n",
    "                value = 10)"
   ]
  },
  {
   "cell_type": "markdown",
   "id": "5d633b5f",
   "metadata": {},
   "source": [
    "As sanity check before creating models, you can use pandas to ensure that you have dealt with all missing values. The followinf code returns a single boolean if there is any cell that is misisng in a DataFrame:"
   ]
  },
  {
   "cell_type": "code",
   "execution_count": 33,
   "id": "805de347",
   "metadata": {},
   "outputs": [
    {
     "data": {
      "text/plain": [
       "True"
      ]
     },
     "execution_count": 33,
     "metadata": {},
     "output_type": "execute_result"
    }
   ],
   "source": [
    "Xbad.isna().any().any()"
   ]
  },
  {
   "cell_type": "code",
   "execution_count": null,
   "id": "59b7aa0f",
   "metadata": {},
   "outputs": [],
   "source": []
  }
 ],
 "metadata": {
  "kernelspec": {
   "display_name": "Python 3 (ipykernel)",
   "language": "python",
   "name": "python3"
  },
  "language_info": {
   "codemirror_mode": {
    "name": "ipython",
    "version": 3
   },
   "file_extension": ".py",
   "mimetype": "text/x-python",
   "name": "python",
   "nbconvert_exporter": "python",
   "pygments_lexer": "ipython3",
   "version": "3.8.3"
  },
  "toc": {
   "base_numbering": 1,
   "nav_menu": {},
   "number_sections": true,
   "sideBar": true,
   "skip_h1_title": false,
   "title_cell": "Table of Contents",
   "title_sidebar": "Contents",
   "toc_cell": false,
   "toc_position": {},
   "toc_section_display": true,
   "toc_window_display": false
  }
 },
 "nbformat": 4,
 "nbformat_minor": 5
}
