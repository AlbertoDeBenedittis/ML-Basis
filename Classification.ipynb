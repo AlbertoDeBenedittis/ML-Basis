{
 "cells": [
  {
   "cell_type": "markdown",
   "id": "9bd7aed1",
   "metadata": {},
   "source": [
    "# Classification"
   ]
  },
  {
   "cell_type": "markdown",
   "id": "7329ba54",
   "metadata": {},
   "source": [
    "Classification is a _supervised learning_ mechanism for labelling a sample based on the features. Supervised learning means that we have labels for classification or number for regression that the algorithm should learn. \n",
    "\n",
    "In sklearn we create a model instance and call the `.fit` method on in with the training data and training labels. We can now call the `.predict` method ( or the `.predic_proba` or the `.predict_log_proba` methods) with the fitted model. To evaluate the model, we use the `.score` with testing data and testing labels. \n",
    "\n",
    "The bigger challenge is usually arranging data in a form that will work with sklearn. The data (X) should be an (m by n) numpy array or pandas dataframe with m rows of sample data each with n features (columns). The label (y) is a vector or a pandas seris of size m with a value (class) for each sample. \n",
    "\n",
    "The `.score` method return the mean accuracy, which by itself might not be sufficient to evaluate a classifier. We will see other evaluation metrics. \n",
    "\n",
    "The general methos that sklearn type models implemented are:\n",
    "\n",
    "* `fit(X,y[,sample_weight])` Fit a model\n",
    "* `predict(X)` Predict classes\n",
    "* `predict_log_proba(X)` Predict log probability \n",
    "* `predict_proba(X)` Predict probability \n",
    "* `score(X, y[,sample_weight])` Get accuracy"
   ]
  },
  {
   "cell_type": "markdown",
   "id": "21470207",
   "metadata": {},
   "source": [
    "## Logistic Regression "
   ]
  },
  {
   "cell_type": "markdown",
   "id": "c5e71b0c",
   "metadata": {},
   "source": [
    "__Logistic Regression__ estimates probabilities by using a logistic function. \n",
    "\n",
    "The followinf are some model characteristics that we will inclide for each model:\n",
    "\n",
    "* _Runtime efficiency_ -> Can use `n_jobs` if not using `liblinear` solver.\n",
    "\n",
    "* _Process data_ -> If `solver` is set to `'sag'`, or `'saga'`, standardize so that convergence works. Can handle sparse input. \n",
    "\n",
    "* _Prevent overfitting__ -> The `C` parameter controls regularization. (Lower C is more regularization, higher means less) . Can specify `penalty` to `'l1'` or `'l2'` (the default)\n",
    "\n",
    "* _Interpret results_ -> The `.coef_` attribute of the fitted model show the decision function coefficients. A change in x one unit changes the log odds ratio by the coefficient. The `.intercept_` attribute is the inverse log odds of the baseline condition. "
   ]
  },
  {
   "cell_type": "code",
   "execution_count": 1,
   "id": "238ce2f4",
   "metadata": {},
   "outputs": [],
   "source": [
    "import pandas as pd \n",
    "import numpy as np \n",
    "from sklearn.linear_model import LogisticRegression"
   ]
  },
  {
   "cell_type": "code",
   "execution_count": 2,
   "id": "6e2e6c0f",
   "metadata": {},
   "outputs": [],
   "source": [
    "X_train = pd.read_excel('X_train.xls')\n",
    "y_train = pd.read_excel('y_train.xls')\n",
    "X_test = pd.read_excel('X_test.xls')\n",
    "y_test = pd.read_excel('y_test.xls')\n",
    "dfs = [X_train,y_train,X_test,y_test]\n",
    "for d in dfs :\n",
    "    d.drop(columns='Unnamed: 0', inplace = True)"
   ]
  },
  {
   "cell_type": "code",
   "execution_count": 3,
   "id": "7e90f0ee",
   "metadata": {},
   "outputs": [
    {
     "name": "stderr",
     "output_type": "stream",
     "text": [
      "C:\\Users\\alber\\anaconda3\\lib\\site-packages\\sklearn\\utils\\validation.py:63: DataConversionWarning: A column-vector y was passed when a 1d array was expected. Please change the shape of y to (n_samples, ), for example using ravel().\n",
      "  return f(*args, **kwargs)\n"
     ]
    },
    {
     "data": {
      "text/plain": [
       "LogisticRegression(multi_class='ovr', n_jobs=1, random_state=42,\n",
       "                   solver='liblinear')"
      ]
     },
     "execution_count": 3,
     "metadata": {},
     "output_type": "execute_result"
    }
   ],
   "source": [
    "lr = LogisticRegression(random_state=42)\n",
    "lr.fit(X_train, y_train)\n",
    "LogisticRegression(C=1.0, class_weight=None, dual = False, fit_intercept=True, intercept_scaling=1, max_iter=100, \n",
    "                   multi_class='ovr', n_jobs=1, penalty= 'l2', random_state=42, solver= 'liblinear', tol=0.0001, verbose = 0,\n",
    "                  warm_start=False)"
   ]
  },
  {
   "cell_type": "code",
   "execution_count": 4,
   "id": "0d33ddef",
   "metadata": {},
   "outputs": [
    {
     "data": {
      "text/plain": [
       "0.7964376590330788"
      ]
     },
     "execution_count": 4,
     "metadata": {},
     "output_type": "execute_result"
    }
   ],
   "source": [
    "lr.score(X_test, y_test)"
   ]
  },
  {
   "cell_type": "code",
   "execution_count": 5,
   "id": "dac1646b",
   "metadata": {},
   "outputs": [],
   "source": [
    "X = pd.read_excel('X.xls')\n",
    "X.drop(columns='Unnamed: 0', inplace = True)"
   ]
  },
  {
   "cell_type": "code",
   "execution_count": 6,
   "id": "cb09a0b8",
   "metadata": {},
   "outputs": [
    {
     "data": {
      "text/plain": [
       "array([0], dtype=int64)"
      ]
     },
     "execution_count": 6,
     "metadata": {},
     "output_type": "execute_result"
    }
   ],
   "source": [
    "lr.predict(X.iloc[[0]])"
   ]
  },
  {
   "cell_type": "code",
   "execution_count": 7,
   "id": "973314e1",
   "metadata": {},
   "outputs": [
    {
     "data": {
      "text/plain": [
       "array([[0.89854954, 0.10145046]])"
      ]
     },
     "execution_count": 7,
     "metadata": {},
     "output_type": "execute_result"
    }
   ],
   "source": [
    "lr.predict_proba(X.iloc[[0]])"
   ]
  },
  {
   "cell_type": "code",
   "execution_count": 8,
   "id": "e3369aef",
   "metadata": {},
   "outputs": [
    {
     "data": {
      "text/plain": [
       "array([[-0.10697343, -2.28818472]])"
      ]
     },
     "execution_count": 8,
     "metadata": {},
     "output_type": "execute_result"
    }
   ],
   "source": [
    "lr.predict_log_proba(X.iloc[[0]])"
   ]
  },
  {
   "cell_type": "code",
   "execution_count": 9,
   "id": "38556e40",
   "metadata": {},
   "outputs": [
    {
     "data": {
      "text/plain": [
       "array([-2.18121129])"
      ]
     },
     "execution_count": 9,
     "metadata": {},
     "output_type": "execute_result"
    }
   ],
   "source": [
    "lr.decision_function(X.iloc[[0]])"
   ]
  },
  {
   "cell_type": "markdown",
   "id": "4bca9da8",
   "metadata": {},
   "source": [
    "### Instance parameters"
   ]
  },
  {
   "cell_type": "markdown",
   "id": "983e7a5c",
   "metadata": {},
   "source": [
    "* `penalty = 'l2'` -> Penalization norm, `'l1'` or `'l2'`\n",
    "\n",
    "* `dual = False` -> Use dual formulation (only with `'l2'` and `'liblinear'`)\n",
    "\n",
    "* `C = 1.0` -> Positive float. Inverse regularization strength. Smaller is stronger regularization \n",
    "\n",
    "* `fit_intercept = True` -> Add bias to the decision function. \n",
    "\n",
    "* `intercept_scaling = 1` -> If `fit_intercept` and `liblinear`, scale the intercept\n",
    "\n",
    "* `max_iter = 100` -> Mazimum number of iterations\n",
    "\n",
    "* `multi_class ovr` -> Use one versus rest for each class, or for `multinomial`, train one class. \n",
    "\n",
    "* `class_weight = None` -> Dictionary or `balanced`\n",
    "\n",
    "* `solver = 'liblinear'` -> `'liblinear'` is good for small data. `'newton-cg'`, `'sag'`, `'saga'` and `'lbfgs'` are  for multiclass data. `'liblinear'` and `'saga'` only work with `'l1'` penalty. The others work with `'l2'` penalty. \n",
    "\n",
    "* `tol = 0.0001` -> Stopping tollerance. \n",
    "\n",
    "* `verbose = 0` -> Be verbose (if nonzero int).\n",
    "\n",
    "* `warm_start = False` -> If `True`, remeber previous fit.\n",
    "\n",
    "* `njobs = 1` -> Number of CPUs to use. -1 is all. Only works with `multi_class='over'` and `solver` is not `liblinear`\n"
   ]
  },
  {
   "cell_type": "markdown",
   "id": "1e48c109",
   "metadata": {},
   "source": [
    "### Attributes after fitting"
   ]
  },
  {
   "cell_type": "markdown",
   "id": "541424ee",
   "metadata": {},
   "source": [
    "* `coef_` -> Decision function coefficients\n",
    "\n",
    "* `intercept_` -> Intercept of the decision function\n",
    "\n",
    "* `n_iter` -> Number of iterations"
   ]
  },
  {
   "cell_type": "code",
   "execution_count": 10,
   "id": "cccd7880",
   "metadata": {},
   "outputs": [
    {
     "data": {
      "text/plain": [
       "array([-1.48860307])"
      ]
     },
     "execution_count": 10,
     "metadata": {},
     "output_type": "execute_result"
    }
   ],
   "source": [
    "# The intercept is the log odds of the baseline condition. \n",
    "# We can convert it back to a percent accuracy (proportion)\n",
    "\n",
    "lr.intercept_"
   ]
  },
  {
   "cell_type": "code",
   "execution_count": 11,
   "id": "8d6a58f5",
   "metadata": {},
   "outputs": [],
   "source": [
    "# using the inverse logit function, we see that the baseline condition for survival is 18%\n",
    "\n",
    "def inv_logit(p):\n",
    "    return np.exp(p) / (1 + np.exp(p))"
   ]
  },
  {
   "cell_type": "code",
   "execution_count": 12,
   "id": "93eef1cd",
   "metadata": {},
   "outputs": [
    {
     "data": {
      "text/plain": [
       "array([0.18413149])"
      ]
     },
     "execution_count": 12,
     "metadata": {},
     "output_type": "execute_result"
    }
   ],
   "source": [
    "inv_logit(lr.intercept_)"
   ]
  },
  {
   "cell_type": "markdown",
   "id": "db806ce0",
   "metadata": {},
   "source": [
    "We can inspect the coefficients. The inverse logit of the coefficients gives the proportion of the positive cases. In this case, if fare goes up, we are more likely to survive. If sex is male, we are less likely to surivive:"
   ]
  },
  {
   "cell_type": "code",
   "execution_count": 13,
   "id": "12e0f143",
   "metadata": {},
   "outputs": [
    {
     "name": "stdout",
     "output_type": "stream",
     "text": [
      "sex_female     2.432      0.919\n",
      "embarked_C     0.334      0.583\n",
      "fare           0.100      0.525\n",
      "parch         -0.063      0.484\n",
      "embarked_S    -0.240      0.440\n",
      "embarked_Q    -0.266      0.434\n",
      "sibsp         -0.273      0.432\n",
      "age           -0.294      0.427\n",
      "pclass        -0.735      0.324\n"
     ]
    }
   ],
   "source": [
    "cols = X.columns\n",
    "for col, val in sorted(zip(cols, lr.coef_[0]), key = lambda x:x[1], reverse = True):\n",
    "    print(f'{col:10}{val:10.3f} {inv_logit(val):10.3f}')\n"
   ]
  },
  {
   "cell_type": "markdown",
   "id": "6d77f24d",
   "metadata": {},
   "source": [
    "Yellowbrick can also visualize the coefficients. This visualizer has a `relative=True` parameter that makes the largest value be 100 or (-100), and the others are the percentages of that"
   ]
  },
  {
   "cell_type": "code",
   "execution_count": 14,
   "id": "670c5142",
   "metadata": {},
   "outputs": [],
   "source": [
    "from yellowbrick.features import FeatureImportances"
   ]
  },
  {
   "cell_type": "code",
   "execution_count": 15,
   "id": "a25b96c8",
   "metadata": {},
   "outputs": [],
   "source": [
    "import matplotlib.pyplot as plt"
   ]
  },
  {
   "cell_type": "code",
   "execution_count": 16,
   "id": "18ea5e8c",
   "metadata": {},
   "outputs": [],
   "source": [
    "y = pd.read_excel('y.xls')"
   ]
  },
  {
   "cell_type": "code",
   "execution_count": 17,
   "id": "ac37c3d0",
   "metadata": {},
   "outputs": [
    {
     "name": "stderr",
     "output_type": "stream",
     "text": [
      "C:\\Users\\alber\\anaconda3\\lib\\site-packages\\yellowbrick\\model_selection\\importances.py:194: YellowbrickWarning: detected multi-dimensional feature importances but stack=False, using mean to aggregate them.\n",
      "  warnings.warn(\n"
     ]
    },
    {
     "data": {
      "image/png": "[encoded data removed]",
      "text/plain": [
       "<Figure size 432x288 with 1 Axes>"
      ]
     },
     "metadata": {},
     "output_type": "display_data"
    },
    {
     "data": {
      "text/plain": [
       "<AxesSubplot:title={'center':'Feature Importances of 9 Features using LogisticRegression'}, xlabel='relative coefficient magnitude'>"
      ]
     },
     "execution_count": 17,
     "metadata": {},
     "output_type": "execute_result"
    }
   ],
   "source": [
    "fig, ax = plt.subplots(figsize = (6,4))\n",
    "fi_viz = FeatureImportances(lr)\n",
    "fi_viz.fit(X,y)\n",
    "fi_viz.poof()"
   ]
  },
  {
   "cell_type": "markdown",
   "id": "7e775635",
   "metadata": {},
   "source": [
    "## Naive Bayes"
   ]
  },
  {
   "cell_type": "markdown",
   "id": "2a95d39a",
   "metadata": {},
   "source": [
    "Naive Bayes is a probabilistic classifier that assumes independence between the features of the data. \n",
    "It is popular for text classification applications, such as catching spam. One advantage of this model is that because it assumes features independence it can train a model with a small number of samples. (A downside is that it can not capture the interactions between features). This simple model can also work with data that has many features. As such, it serves as a good baseline model. \n",
    "\n",
    "There are three classes in sklearn: `GaussianNB`, `MultinomialNB` and `BernoulliNB`. The first assumes a Gaussian distribution (continuous features with a normal distribution), the second is for descrete occurence counts, and the third is for discrete Boolean features. \n",
    "\n",
    "This model has the following properties:\n",
    "\n",
    "* `Runtime efficiency`: Training O(Nd) where N is the number of training example and d is dimensionality. Testing O(cd) where c is the number of classes.\n",
    "\n",
    "* `Process data`: Assumes that data is independent. Should perform better after removing colinear columns. For continuous numerical data, might be good to bin data. Gaussian assumes normal distribution, and you might need to transform data to convert to normal distribution. \n",
    "\n",
    "* `Prevent overfitting`: Exhibits high bias and low variance (ensambles won't reduce variance). \n",
    "\n",
    "* `Interpret results`: Percentage is the likelihood that a sample belongs to a class based on priors. \n"
   ]
  },
  {
   "cell_type": "code",
   "execution_count": 18,
   "id": "e773a644",
   "metadata": {},
   "outputs": [
    {
     "name": "stderr",
     "output_type": "stream",
     "text": [
      "C:\\Users\\alber\\anaconda3\\lib\\site-packages\\sklearn\\utils\\validation.py:63: DataConversionWarning: A column-vector y was passed when a 1d array was expected. Please change the shape of y to (n_samples, ), for example using ravel().\n",
      "  return f(*args, **kwargs)\n"
     ]
    },
    {
     "data": {
      "text/plain": [
       "0.732824427480916"
      ]
     },
     "execution_count": 18,
     "metadata": {},
     "output_type": "execute_result"
    }
   ],
   "source": [
    "# Here is an example \n",
    "from sklearn.naive_bayes import GaussianNB\n",
    "nb = GaussianNB()\n",
    "nb.fit(X_train,y_train)\n",
    "GaussianNB(priors = None, var_smoothing=1e-09)\n",
    "nb.score(X_test, y_test)"
   ]
  },
  {
   "cell_type": "code",
   "execution_count": 19,
   "id": "64c99c61",
   "metadata": {},
   "outputs": [
    {
     "data": {
      "text/plain": [
       "array([0], dtype=int64)"
      ]
     },
     "execution_count": 19,
     "metadata": {},
     "output_type": "execute_result"
    }
   ],
   "source": [
    "nb.predict(X.iloc[[0]])"
   ]
  },
  {
   "cell_type": "code",
   "execution_count": 20,
   "id": "08a45f73",
   "metadata": {},
   "outputs": [
    {
     "data": {
      "text/plain": [
       "array([[0.97272623, 0.02727377]])"
      ]
     },
     "execution_count": 20,
     "metadata": {},
     "output_type": "execute_result"
    }
   ],
   "source": [
    "nb.predict_proba(X.iloc[[0]])"
   ]
  },
  {
   "cell_type": "code",
   "execution_count": 21,
   "id": "d99cfcf8",
   "metadata": {},
   "outputs": [
    {
     "data": {
      "text/plain": [
       "array([[-0.0276526 , -3.60182989]])"
      ]
     },
     "execution_count": 21,
     "metadata": {},
     "output_type": "execute_result"
    }
   ],
   "source": [
    "nb.predict_log_proba(X.iloc[[0]])"
   ]
  },
  {
   "cell_type": "markdown",
   "id": "2fd411f7",
   "metadata": {},
   "source": [
    "### Instance parameters:"
   ]
  },
  {
   "cell_type": "markdown",
   "id": "a995f178",
   "metadata": {},
   "source": [
    "* `priors=None`: Prior probabilities of classes\n",
    "* `var_smoothing = 1e-09`: Added to variance for stable calculations."
   ]
  },
  {
   "cell_type": "markdown",
   "id": "30a8e0cf",
   "metadata": {},
   "source": [
    "### Attributes after fitting"
   ]
  },
  {
   "cell_type": "markdown",
   "id": "9cfcfde8",
   "metadata": {},
   "source": [
    "* `class_prior_` : Probabilities of classes\n",
    "* `class_count`: Counts of classes\n",
    "* `theta_`: Mean of each column per class\n",
    "* `sigma_`: Variance of each column per class\n",
    "* `epsilon`: Additive value to each variance"
   ]
  },
  {
   "cell_type": "markdown",
   "id": "c8117523",
   "metadata": {},
   "source": [
    "__TIP__: These models are susceptible to the zero _probability problem_. If you try to classify a new sample that has no training data, it will have zero probability. One solution is to use _Laplace smoothing_. Sklearn controls this with the `alpha` parameter which defaults 1 and enables smoothing on the `MultinomialNB` and `BernoulliNB` models."
   ]
  },
  {
   "cell_type": "markdown",
   "id": "13430195",
   "metadata": {},
   "source": [
    "__ZERO PROBABILITY PROBLEM__ : One of the disadvantages of Naïve-Bayes is that if you have no occurrences of a class label and a certain attribute value together then the frequency-based probability estimate will be zero. And this will get a zero when all the probabilities are multiplied."
   ]
  },
  {
   "cell_type": "markdown",
   "id": "8517b189",
   "metadata": {},
   "source": [
    "## Support Vector Machine"
   ]
  },
  {
   "cell_type": "markdown",
   "id": "41c37331",
   "metadata": {},
   "source": [
    "A support vector Machine (SVM) is an algorithm that tries to fit a line (or plane or hyperplane) between the different classes that maximise the distance from the line to the points of the classes. In this way it tries to find a robust separation between the classes. The _support vectors_ are the points oof the edge of the dividing hyperplane. "
   ]
  },
  {
   "cell_type": "markdown",
   "id": "f97de55d",
   "metadata": {},
   "source": [
    "__NOTE__: There are different SVM implementation in sklearn. `SVC` wraps the `libsvm`, while `LinearSVC` wraps the `liblinear` library. \n",
    "\n",
    "There is also the `linear_modelSGDClassifier`, which implements SVM when using the default `loss` parameter."
   ]
  },
  {
   "cell_type": "markdown",
   "id": "2296b5ea",
   "metadata": {},
   "source": [
    "SVM generally performs well and can support linear spaces or nonlinear spaces by using the __kernel trick__.\n",
    "\n",
    "\n",
    "The kernel trick is the ideaa that we can create a decision boundary in a new dimension by minimizing a formula that is easier to calculate than actually mapping the points to the new dimensions. The default kernel is Radial Basis Function (`'rbf'`), which is controlled by the `gamma` parameter and can map an input space into a high dimensional space.\n",
    "\n",
    "SVMs have the following properties:\n",
    "\n",
    "* __Runtime Efficiency__: The scikit-learn implementation is $O(n^{4})$, so it can be hard to scale to large sizes. Using a linear kernel or the `LinearSVC` model can imporve the runtime performance at perhaps the cost of accuracy. Upping the `cache_size` parameter can bring that down to $O(n^{3})$\n",
    "\n",
    "* __Process data__: The algorithm is not scale invariant. Standardizing the data is highly reccomended. \n",
    "\n",
    "* __Prevent Overfitting__: The C (penalty parameter) controls regularization. A smaller value allows for a smaller margin in the hyperplane. A higher value for `gamma` will tend to overfit the training data. The `LinearSVC` model supports a `loss` and `penalty` parameter to support regularization. \n",
    "\n",
    "* __Interpret results__: Inspect `.support_vectors_`, though these are hard to explain. With linear kernels, you can inspect `.coef_`. "
   ]
  },
  {
   "cell_type": "code",
   "execution_count": 22,
   "id": "7623e74d",
   "metadata": {},
   "outputs": [
    {
     "name": "stderr",
     "output_type": "stream",
     "text": [
      "C:\\Users\\alber\\anaconda3\\lib\\site-packages\\sklearn\\utils\\validation.py:63: DataConversionWarning: A column-vector y was passed when a 1d array was expected. Please change the shape of y to (n_samples, ), for example using ravel().\n",
      "  return f(*args, **kwargs)\n"
     ]
    },
    {
     "data": {
      "text/plain": [
       "0.7938931297709924"
      ]
     },
     "execution_count": 22,
     "metadata": {},
     "output_type": "execute_result"
    }
   ],
   "source": [
    "# Here is an example using scikit-learn's SVM implementation\n",
    "from sklearn.svm import SVC\n",
    "\n",
    "svc = SVC(random_state=42, probability=True)\n",
    "svc.fit(X_train, y_train)\n",
    "SVC(C=1.0, cache_size=200, class_weight = None, degree = 3, gamma = 'auto', kernel = 'rbf', max_iter = -1, probability=True, \n",
    "    random_state=42, shrinking=True, tol = 0.001, verbose=False)\n",
    "svc.score(X_test, y_test)"
   ]
  },
  {
   "cell_type": "code",
   "execution_count": 23,
   "id": "efe74a6f",
   "metadata": {},
   "outputs": [
    {
     "data": {
      "text/plain": [
       "array([0], dtype=int64)"
      ]
     },
     "execution_count": 23,
     "metadata": {},
     "output_type": "execute_result"
    }
   ],
   "source": [
    "svc.predict(X.iloc[[0]])"
   ]
  },
  {
   "cell_type": "code",
   "execution_count": 24,
   "id": "f6c3dfd4",
   "metadata": {},
   "outputs": [
    {
     "data": {
      "text/plain": [
       "array([[-0.16452588, -1.88582274]])"
      ]
     },
     "execution_count": 24,
     "metadata": {},
     "output_type": "execute_result"
    }
   ],
   "source": [
    "svc.predict_log_proba(X.iloc[[0]])"
   ]
  },
  {
   "cell_type": "code",
   "execution_count": 25,
   "id": "8c2ec48d",
   "metadata": {},
   "outputs": [
    {
     "data": {
      "text/plain": [
       "array([[0.8482958, 0.1517042]])"
      ]
     },
     "execution_count": 25,
     "metadata": {},
     "output_type": "execute_result"
    }
   ],
   "source": [
    "svc.predict_proba(X.iloc[[0]])"
   ]
  },
  {
   "cell_type": "markdown",
   "id": "45f036ec",
   "metadata": {},
   "source": [
    "To get probability, use `probability = True`, which will slow down fitting of the model. \n",
    "\n",
    "This is similar to a perceptron, but will find the maximum margin. If the data is non linearly separable, it will minimize the error. Alternatively, a different kernel may be used. "
   ]
  },
  {
   "cell_type": "markdown",
   "id": "5147ca21",
   "metadata": {},
   "source": [
    "### Instance parameters"
   ]
  },
  {
   "cell_type": "markdown",
   "id": "89a784d4",
   "metadata": {},
   "source": [
    "* `C = 1.0` The penalty parameter. The smaller the value, the tighter the decision boundary (more overfitting)\n",
    "\n",
    "* `cache_size = 200` Cache size (MB). Bumping this up can improve training time on large datasets. \n",
    "\n",
    "* `class_weight = None` Dictionary or `balanced`. Use dictionary to set C  for each class\n",
    "\n",
    "* `coef = 0.0` Independent term for poly and sigmoid kernels. \n",
    "\n",
    "* `decision_function_shape = 'ovr'` Use one vs rest or one vs one.\n",
    "\n",
    "* `degree = 3` Degree for polynomial kernel\n",
    "\n",
    "* `gamma = 'auto` Kernel coefficient. Can be a number, `scale` (default in 0.22, 1/(num features * X.std())), or `auto` (default priori, 1/(num features). A lower value leads to overfitting the training data. \n",
    "\n",
    "* `kernel = 'rbf'` Kernel type: `linear`, `poly`, `rbf` (default), `sigmoid`, `precomputed`, or a function. \n",
    "\n",
    "* `max_iter = -1` Maximum number of iterations for solver. -1 for no limit. \n",
    "\n",
    "* `probability = False` Enable probability estimation. Slows down training.\n",
    "\n",
    "* `random_state = None` Random seed. \n",
    "\n",
    "* `shrinking = True` Use shrinking heuristic. \n",
    "\n",
    "* `tol = 0.001` Stopping tolerance\n",
    "\n",
    "* `verbose = False` Verbosity"
   ]
  },
  {
   "cell_type": "markdown",
   "id": "d283fdad",
   "metadata": {},
   "source": [
    "### Attributes after fitting"
   ]
  },
  {
   "cell_type": "markdown",
   "id": "7e7ca1e3",
   "metadata": {},
   "source": [
    "* `support_`: Support vector indices\n",
    "* `support_vectors_` : Count of per-class support vectors\n",
    "* `coef_` : Coefficients (for linear) kernel"
   ]
  },
  {
   "cell_type": "markdown",
   "id": "79bb0511",
   "metadata": {},
   "source": [
    "## K-Nearest Neighbor"
   ]
  },
  {
   "cell_type": "markdown",
   "id": "dcacc414",
   "metadata": {},
   "source": [
    "The k-nearest neighbor (KNN) algorithm classifies based on, distance to some number (k) of training sample. The algorithm family is called _instace-based_ learning as there are no parameters to learn. This model assumes that distances is sufficient for inference; otherwise it makes no assumptions about the underlying data or its distributions. \n",
    "\n",
    "The tricky part is selecting the appropriate k value. Also, the curse of dimensionality can hamper distance metrics as there is little difference in high dimensions between nearest and farthest neighbor. \n",
    "\n",
    "Nearest neighbor models have the following properties:\n",
    "\n",
    "* __Runtime efficiency__ Training $O(1)$, but need to store data. Testing O(Nd) where N is the number of training examples and d is the dimensionality. \n",
    "\n",
    "* __Process data__ Distance based calculations perfrom better when standardized. \n",
    "\n",
    "* __Prevent overfitting__ Raise `n_neighbors`. Change `p` for L1 and L2 metric. \n",
    "\n",
    "* __Interpret results__ Interpret the k-nearest neighbors to the sample (using the `.kneighbors` method). Those neighbors (if you can explain them) explain your result. "
   ]
  },
  {
   "cell_type": "code",
   "execution_count": 26,
   "id": "6d16acd4",
   "metadata": {},
   "outputs": [
    {
     "name": "stderr",
     "output_type": "stream",
     "text": [
      "C:\\Users\\alber\\anaconda3\\lib\\site-packages\\sklearn\\neighbors\\_classification.py:179: DataConversionWarning: A column-vector y was passed when a 1d array was expected. Please change the shape of y to (n_samples,), for example using ravel().\n",
      "  return self._fit(X, y)\n"
     ]
    },
    {
     "data": {
      "text/plain": [
       "0.7608142493638677"
      ]
     },
     "execution_count": 26,
     "metadata": {},
     "output_type": "execute_result"
    }
   ],
   "source": [
    "# Here is an example of using the model \n",
    "from sklearn.neighbors import KNeighborsClassifier\n",
    "\n",
    "knc = KNeighborsClassifier()\n",
    "knc.fit(X_train, y_train)\n",
    "KNeighborsClassifier(algorithm = 'auto', leaf_size=30, metric = 'minkowski', metric_params=None, n_jobs=1, \n",
    "                     n_neighbors = 5, p = 2, weights = 'uniform')\n",
    "knc.score(X_test, y_test)"
   ]
  },
  {
   "cell_type": "code",
   "execution_count": 27,
   "id": "d6955227",
   "metadata": {},
   "outputs": [
    {
     "data": {
      "text/plain": [
       "array([0], dtype=int64)"
      ]
     },
     "execution_count": 27,
     "metadata": {},
     "output_type": "execute_result"
    }
   ],
   "source": [
    "knc.predict(X.iloc[[0]])"
   ]
  },
  {
   "cell_type": "code",
   "execution_count": 28,
   "id": "2c78e1c5",
   "metadata": {},
   "outputs": [
    {
     "data": {
      "text/plain": [
       "array([[0.8, 0.2]])"
      ]
     },
     "execution_count": 28,
     "metadata": {},
     "output_type": "execute_result"
    }
   ],
   "source": [
    "knc.predict_proba(X.iloc[[0]])"
   ]
  },
  {
   "cell_type": "markdown",
   "id": "fa7f54a4",
   "metadata": {},
   "source": [
    "### Attributes"
   ]
  },
  {
   "cell_type": "markdown",
   "id": "6e991f19",
   "metadata": {},
   "source": [
    "* `algorithm = 'auto'` Can be `'brute'`, `'ball_tree'`or `kd_tree`\n",
    "* `leaf_size = 30` Used for tree algorithms\n",
    "* `metric = 'minkowski'` Distance metric\n",
    "* `metric_params = None` Additional dictionary of parameters for custom metric function \n",
    "* `n_jobs = 1` Number of CPUs\n",
    "* `n_neighbors = 5` Number of neighbors \n",
    "* `p = 2` Minkowski power parameter: 1 = manhattan (L1), 2 = Euclidean (L2)\n",
    "* `weights = 'uniform'` Can be 'distance', in which case, closer points have more influence. "
   ]
  },
  {
   "cell_type": "markdown",
   "id": "a38e0164",
   "metadata": {},
   "source": [
    "__NOTE__: If k is an even number and the neighbors are split, the results depends on the order of the training data.  "
   ]
  },
  {
   "cell_type": "markdown",
   "id": "61221b3c",
   "metadata": {},
   "source": [
    "## Decision Trees"
   ]
  },
  {
   "cell_type": "markdown",
   "id": "31c13291",
   "metadata": {},
   "source": [
    "We can use a process to create a decision tree and have a series of questions to predict a target class. The advantages of this model include support for nonnumeric data (in some implementations), little data preparation (no need for scaling), support for dealing, with non linear relationships, feature importances are revealed, and it is easy to explain. \n",
    "\n",
    "The default algorithm used for the creation is called the classification and regression tree (CART). It uses the Gini impurity or index measure to construct the decisions. This is done by looping over the features and finding the value that fives the lowest probability of misclassifying. \n",
    "\n",
    "__TIP__: The default values will lad to a fully grown (read overfit) tree. Use a mechanism such as `max_depth` and cros validation to control for this. \n",
    "\n",
    "Decision trees have the following properties: \n",
    "* __Runtime efficiency__ For creation, loop over each of the m features, and sort all n samples, $O(mn log n)$. For predicting, you walk the tree, $O(height)$. \n",
    "* __Preprocessing data__ Scaling is not necessary. Need to get rid of missing values and convert to numeric \n",
    "* __Prevent overfitting__ Set `max_depth` to a lower number, rais `min_impurity_decrease`. \n",
    "\n",
    "Interpret results \n",
    "\n",
    "Can step through the tree choices. Beacause there are steps, a tree is bad at dealing with linear relationships ( a small change in a number can go down a different path). The tree is also highly dependent on the training data. A small change can change the whole tree. \n"
   ]
  },
  {
   "cell_type": "code",
   "execution_count": 29,
   "id": "e625d1e6",
   "metadata": {},
   "outputs": [
    {
     "data": {
      "text/plain": [
       "0.811704834605598"
      ]
     },
     "execution_count": 29,
     "metadata": {},
     "output_type": "execute_result"
    }
   ],
   "source": [
    "# Here is an example using the scikit-learn library: \n",
    "\n",
    "from sklearn.tree import DecisionTreeClassifier\n",
    "\n",
    "dt = DecisionTreeClassifier(random_state=42, max_depth=3)\n",
    "dt.fit(X_train, y_train)\n",
    "DecisionTreeClassifier(class_weight=None, criterion = 'gini', max_depth=None, max_features=None, max_leaf_nodes=None,\n",
    "                      min_impurity_decrease=0.0, min_impurity_split=None,\n",
    "                      min_samples_leaf=1, min_samples_split=2, min_weight_fraction_leaf=0.0, random_state=42, \n",
    "                      splitter = 'best')\n",
    "dt.score(X_test, y_test)"
   ]
  },
  {
   "cell_type": "code",
   "execution_count": 30,
   "id": "62ccd333",
   "metadata": {},
   "outputs": [
    {
     "data": {
      "text/plain": [
       "array([0], dtype=int64)"
      ]
     },
     "execution_count": 30,
     "metadata": {},
     "output_type": "execute_result"
    }
   ],
   "source": [
    "dt.predict(X.iloc[[0]])"
   ]
  },
  {
   "cell_type": "code",
   "execution_count": 31,
   "id": "da9a4284",
   "metadata": {},
   "outputs": [
    {
     "data": {
      "text/plain": [
       "array([[-0.12835003, -2.11648281]])"
      ]
     },
     "execution_count": 31,
     "metadata": {},
     "output_type": "execute_result"
    }
   ],
   "source": [
    "dt.predict_log_proba(X.iloc[[0]])"
   ]
  },
  {
   "cell_type": "code",
   "execution_count": 32,
   "id": "3d49035c",
   "metadata": {},
   "outputs": [
    {
     "data": {
      "text/plain": [
       "array([[0.87954545, 0.12045455]])"
      ]
     },
     "execution_count": 32,
     "metadata": {},
     "output_type": "execute_result"
    }
   ],
   "source": [
    "dt.predict_proba(X.iloc[[0]])"
   ]
  },
  {
   "cell_type": "markdown",
   "id": "a38f8ed4",
   "metadata": {},
   "source": [
    "### Instance parameters:"
   ]
  },
  {
   "cell_type": "markdown",
   "id": "a168d329",
   "metadata": {},
   "source": [
    "* `class_weight = None` Weights for class in dictionary. `balanced` will set the values to the inverse proportion of class frequencies. Default is a value of 1 for each class. For multiclass, need a list of dictionaries, one-versus-rest (OVR) for each class. \n",
    "* `criterion = 'gini'` Splitting function, `'gini'`, or `'entropy'`\n",
    "* `max_depth = None` Depth of tree. Deafult will build until the leaves contain less than `min_samples_split`\n",
    "* `max_features = None` Number of features to examine for split. Default is all. \n",
    "* `max_leaf_nodes = None` Limit the number of leaves. Default is unlimited\n",
    "* `min_impurity_decrease = 0.0` Split node if a split will decrease impurity >= value. \n",
    "* `min_impurity_split = None` Deprecated\n",
    "* `min_sample_leaf = 1` Minimum number of samples at each leaf\n",
    "* `min_sample_split = 2` Minimum number of samples required to split a node. \n",
    "* `min_weight_fraction_leaf = 0.0` Minimum sum total of weights required for leaf nodes. \n",
    "* `presort = False` May speed up training with a small dataset or restricted depth if set to True\n",
    "* `random_state = None` Random seed\n",
    "* `splitter = 'best'` Use `'random'` or `'best'`\n"
   ]
  },
  {
   "cell_type": "markdown",
   "id": "78348cf2",
   "metadata": {},
   "source": [
    "### Attributes after fitting"
   ]
  },
  {
   "cell_type": "markdown",
   "id": "0fc03e6b",
   "metadata": {},
   "source": [
    "* `classes_` Class labels\n",
    "* `feature_importance` Array of Gini importance\n",
    "* `n_classes_` Number of classes\n",
    "* `n_features_` Number of features \n",
    "* `trees` Underlying tree object"
   ]
  },
  {
   "cell_type": "markdown",
   "id": "92ac43a6",
   "metadata": {},
   "source": [
    "### View Tree"
   ]
  },
  {
   "cell_type": "code",
   "execution_count": 33,
   "id": "e92de865",
   "metadata": {},
   "outputs": [],
   "source": [
    "from dtreeviz.trees import *"
   ]
  },
  {
   "cell_type": "code",
   "execution_count": 34,
   "id": "9656e381",
   "metadata": {},
   "outputs": [
    {
     "data": {
      "text/plain": [
       "[Text(223.2, 261.6075, 'sex_female <= 0.5\\ngini = 0.462\\nsamples = 916\\nvalue = [585, 331]\\nclass = died'),\n",
       " Text(111.6, 186.8625, 'age <= -1.492\\ngini = 0.294\\nsamples = 592\\nvalue = [486, 106]\\nclass = died'),\n",
       " Text(55.8, 112.1175, 'sibsp <= 1.351\\ngini = 0.498\\nsamples = 30\\nvalue = [14, 16]\\nclass = survived'),\n",
       " Text(27.9, 37.3725, 'gini = 0.208\\nsamples = 17\\nvalue = [2, 15]\\nclass = survived'),\n",
       " Text(83.69999999999999, 37.3725, 'gini = 0.142\\nsamples = 13\\nvalue = [12, 1]\\nclass = died'),\n",
       " Text(167.39999999999998, 112.1175, 'pclass <= -0.958\\ngini = 0.269\\nsamples = 562\\nvalue = [472, 90]\\nclass = died'),\n",
       " Text(139.5, 37.3725, 'gini = 0.423\\nsamples = 122\\nvalue = [85, 37]\\nclass = died'),\n",
       " Text(195.29999999999998, 37.3725, 'gini = 0.212\\nsamples = 440\\nvalue = [387, 53]\\nclass = died'),\n",
       " Text(334.79999999999995, 186.8625, 'pclass <= 0.231\\ngini = 0.424\\nsamples = 324\\nvalue = [99, 225]\\nclass = survived'),\n",
       " Text(279.0, 112.1175, 'fare <= -0.03\\ngini = 0.124\\nsamples = 166\\nvalue = [11, 155]\\nclass = survived'),\n",
       " Text(251.1, 37.3725, 'gini = 0.23\\nsamples = 68\\nvalue = [9, 59]\\nclass = survived'),\n",
       " Text(306.9, 37.3725, 'gini = 0.04\\nsamples = 98\\nvalue = [2, 96]\\nclass = survived'),\n",
       " Text(390.59999999999997, 112.1175, 'fare <= -0.204\\ngini = 0.494\\nsamples = 158\\nvalue = [88, 70]\\nclass = died'),\n",
       " Text(362.7, 37.3725, 'gini = 0.499\\nsamples = 129\\nvalue = [62, 67]\\nclass = survived'),\n",
       " Text(418.5, 37.3725, 'gini = 0.185\\nsamples = 29\\nvalue = [26, 3]\\nclass = died')]"
      ]
     },
     "execution_count": 34,
     "metadata": {},
     "output_type": "execute_result"
    },
    {
     "data": {
      "image/png": "[encoded data removed]",
      "text/plain": [
       "<Figure size 576x396 with 1 Axes>"
      ]
     },
     "metadata": {},
     "output_type": "display_data"
    }
   ],
   "source": [
    "tree.plot_tree(dt, feature_names = X.columns, class_names=['died', 'survived'], filled = True )"
   ]
  },
  {
   "cell_type": "markdown",
   "id": "df36b030",
   "metadata": {},
   "source": [
    "Graphviz is open source graph visualization software. Graph visualization is a way of representing structural information as diagrams of abstract graphs and networks. In data science, one use of Graphviz is to visualize decision trees. I should note that the reason why I am going over Graphviz after covering Matplotlib is that getting this to work can be difficult. The first part of this process involves creating a dot file. A dot file is a Graphviz representation of a decision tree. The problem is that using Graphviz to convert the dot file into an image file (png, jpg, etc) can be difficult. There are a couple ways to do this including: installing python-graphviz though Anaconda, installing Graphviz through Homebrew (Mac), installing Graphviz executables from the official site (Windows), and using an online converter on the contents of your dot file to convert it into an image.\n",
    "\n",
    "\n",
    "https://towardsdatascience.com/visualizing-decision-trees-with-python-scikit-learn-graphviz-matplotlib-1c50b4aa68dc"
   ]
  },
  {
   "cell_type": "code",
   "execution_count": 35,
   "id": "9dcf2421",
   "metadata": {},
   "outputs": [],
   "source": [
    "import graphviz"
   ]
  },
  {
   "cell_type": "code",
   "execution_count": 36,
   "id": "0dedd89a",
   "metadata": {},
   "outputs": [],
   "source": [
    "#! pip install pydotplus"
   ]
  },
  {
   "cell_type": "code",
   "execution_count": 37,
   "id": "6bd1eb21",
   "metadata": {},
   "outputs": [],
   "source": [
    "import pydotplus\n",
    "from io import StringIO\n",
    "from sklearn.tree import export_graphviz\n",
    "\n",
    "dot_data = StringIO()\n",
    "export_graphviz(dt,\n",
    "                    out_file = dot_data,\n",
    "                    feature_names = X.columns,\n",
    "                    class_names = ['Died', 'Survived'],\n",
    "                    filled = True)\n",
    "\n",
    "g = pydotplus.graph_from_dot_data(dot_data.getvalue())"
   ]
  },
  {
   "cell_type": "code",
   "execution_count": 38,
   "id": "c5424a8f",
   "metadata": {},
   "outputs": [],
   "source": [
    "#g.write_png('trees.png')\n",
    "\n",
    "\n",
    "# https://stackoverflow.com/questions/39956430/plotting-decision-tree-graphvizm-pydotplus\n",
    "# https://stackoverflow.com/questions/18438997/why-is-pydot-unable-to-find-graphvizs-executables-in-windows-8"
   ]
  },
  {
   "cell_type": "markdown",
   "id": "e0dc05fa",
   "metadata": {},
   "source": [
    "The dtreeviz package can aid in understanding how the decision trees works. It creates a tree with labeled histograms, which gives valuable insight. \n",
    "\n",
    "https://github.com/parrt/dtreeviz"
   ]
  },
  {
   "cell_type": "code",
   "execution_count": 39,
   "id": "f2d6f51e",
   "metadata": {},
   "outputs": [],
   "source": [
    "#! pip install dtreeviz"
   ]
  },
  {
   "cell_type": "code",
   "execution_count": 40,
   "id": "d90a7a46",
   "metadata": {},
   "outputs": [],
   "source": [
    "from dtreeviz.trees import *"
   ]
  },
  {
   "cell_type": "code",
   "execution_count": 41,
   "id": "39b0531a",
   "metadata": {},
   "outputs": [],
   "source": [
    "y.drop(columns = 'Unnamed: 0', inplace = True)"
   ]
  },
  {
   "cell_type": "code",
   "execution_count": 42,
   "id": "e0aa9cb8",
   "metadata": {},
   "outputs": [],
   "source": [
    "X_np = X.to_numpy()"
   ]
  },
  {
   "cell_type": "code",
   "execution_count": 43,
   "id": "f38dbcc7",
   "metadata": {},
   "outputs": [],
   "source": [
    "y_np = y.to_numpy()"
   ]
  },
  {
   "cell_type": "code",
   "execution_count": 44,
   "id": "dc8d3f4f",
   "metadata": {},
   "outputs": [],
   "source": [
    "viz = dtreeviz(dt, X_np, y_np[:,0], target_name = 'survived', feature_names = X.columns, class_names = ['died', 'surivived'])"
   ]
  },
  {
   "cell_type": "code",
   "execution_count": 45,
   "id": "c50da72b",
   "metadata": {},
   "outputs": [],
   "source": [
    "#import os\n",
    "#os.environ[\"PATH\"] += os.pathsep + 'D:/Program Files (x86)/Graphviz2.38/bin/'"
   ]
  },
  {
   "cell_type": "code",
   "execution_count": 46,
   "id": "04113405",
   "metadata": {},
   "outputs": [],
   "source": [
    "#viz.view()"
   ]
  },
  {
   "cell_type": "markdown",
   "id": "7017dd07",
   "metadata": {},
   "source": [
    "Feature Importance showing Gini importance (reduction of error by using this feature. "
   ]
  },
  {
   "cell_type": "code",
   "execution_count": 47,
   "id": "dad20a02",
   "metadata": {},
   "outputs": [
    {
     "name": "stdout",
     "output_type": "stream",
     "text": [
      "sex_female     0.607\n",
      "pclass         0.248\n",
      "sibsp          0.052\n",
      "fare           0.050\n",
      "age            0.043\n"
     ]
    }
   ],
   "source": [
    "for col,val in sorted(zip(X.columns, dt.feature_importances_), key=lambda x:x[1], reverse = True)[:5]:\n",
    "    print(f'{col:10}{val:10.3f}')"
   ]
  },
  {
   "cell_type": "code",
   "execution_count": 48,
   "id": "fc870b22",
   "metadata": {},
   "outputs": [],
   "source": [
    "from yellowbrick.features import FeatureImportances"
   ]
  },
  {
   "cell_type": "code",
   "execution_count": 49,
   "id": "1daa7cd4",
   "metadata": {},
   "outputs": [
    {
     "data": {
      "image/png": "[encoded data removed]",
      "text/plain": [
       "<Figure size 432x288 with 1 Axes>"
      ]
     },
     "metadata": {},
     "output_type": "display_data"
    },
    {
     "data": {
      "text/plain": [
       "<AxesSubplot:title={'center':'Feature Importances of 9 Features using DecisionTreeClassifier'}, xlabel='relative importance'>"
      ]
     },
     "execution_count": 49,
     "metadata": {},
     "output_type": "execute_result"
    }
   ],
   "source": [
    "fig,ax = plt.subplots(figsize=(6,4))\n",
    "fi_viz = FeatureImportances(dt)\n",
    "fi_viz.fit(X,y)\n",
    "fi_viz.poof()"
   ]
  },
  {
   "cell_type": "markdown",
   "id": "465112e3",
   "metadata": {},
   "source": [
    "## Random Forest"
   ]
  },
  {
   "cell_type": "markdown",
   "id": "7caa6dff",
   "metadata": {},
   "source": [
    "A randaom forest is an ensemble of decision trees. It uses _bagging_ to correct the tendency of decision tree to overfit. \n",
    "By creating many trees trained on random subsamples of the samples and random features of the data, the variance is lowered. \n",
    "\n",
    "Because they train on subsamples of the data, random forests can evaluate OOB error and evaluate performance. They can also track feature importance by averaging the feature importance over all of the trees. \n",
    "\n",
    "The intuition for understanding bagging comes from a 1785 essay by Marquis de Condorcet. The essence is that if you are creating a jury, you should add anyone who has a greater than 50% chance of delivering the correct verdict and then average their decisions. Everytime you add another memeber ( and their selection process is independet of the others), you will get a better result. \n",
    "\n",
    " The idea with random forests is to create a 'forest' of decision trees trained on different columns of the training data. If each tree has a better than 50% chance of correct classification, you should incorporate its prediction. The random forest has been an excellent tool for both classification and regression, though it has recently follen out of favor for __gradient-boosted trees__.\n",
    " \n",
    " \n",
    " Random forest has the following properties: \n",
    " \n",
    " * __Runtime efficiency__ : Need to create j random trees. This can be done in parallel using `n_jobs`. Complexity for each tree is $O(mn  \\log{n})$ where n is the number of samples and m is the number of features. For creation, loop over each of the m features, and sort all n samples, $O(mn  \\log{n})$. For predicting, walk the tree $O(height)$\n",
    " \n",
    " * __Preprocess data__: Not necessary\n",
    " \n",
    " * __Prevent overfitting__: Add more trees (`n_estimators`). Use lower `max_depth`\n",
    " \n",
    " * __Interpret results__ : Supports features importance, but we do not have a single decision tree that we can walk through. Can inspect single trees from the ensamble."
   ]
  },
  {
   "cell_type": "code",
   "execution_count": 50,
   "id": "43f0d81b",
   "metadata": {},
   "outputs": [
    {
     "name": "stderr",
     "output_type": "stream",
     "text": [
      "C:\\Users\\alber\\AppData\\Local\\Temp/ipykernel_25676/1318942248.py:4: DataConversionWarning: A column-vector y was passed when a 1d array was expected. Please change the shape of y to (n_samples,), for example using ravel().\n",
      "  rf.fit(X_train, y_train)\n"
     ]
    },
    {
     "data": {
      "text/plain": [
       "0.7964376590330788"
      ]
     },
     "execution_count": 50,
     "metadata": {},
     "output_type": "execute_result"
    }
   ],
   "source": [
    "from sklearn.ensemble import RandomForestClassifier\n",
    "\n",
    "rf = RandomForestClassifier(random_state = 42)\n",
    "rf.fit(X_train, y_train)\n",
    "\n",
    "RandomForestClassifier(bootstrap = True, class_weight = None, criterion = 'gini', max_depth = None, max_features = 'auto', \n",
    "                      max_leaf_nodes= None, min_impurity_decrease = 0.0, min_impurity_split = None, min_samples_leaf = 1, \n",
    "                      min_samples_split = 2, min_weight_fraction_leaf = 0.0, n_estimators = 10, n_jobs = 1, oob_score = False, \n",
    "                      random_state = 42, verbose = 0, warm_start = False)\n",
    "rf.score(X_test, y_test)"
   ]
  },
  {
   "cell_type": "code",
   "execution_count": 51,
   "id": "b4d08bbc",
   "metadata": {},
   "outputs": [
    {
     "data": {
      "text/plain": [
       "array([0], dtype=int64)"
      ]
     },
     "execution_count": 51,
     "metadata": {},
     "output_type": "execute_result"
    }
   ],
   "source": [
    "rf.predict(X.iloc[[0]])"
   ]
  },
  {
   "cell_type": "code",
   "execution_count": 52,
   "id": "27228b0e",
   "metadata": {},
   "outputs": [
    {
     "data": {
      "text/plain": [
       "array([[-0.07832197, -2.58583257]])"
      ]
     },
     "execution_count": 52,
     "metadata": {},
     "output_type": "execute_result"
    }
   ],
   "source": [
    "rf.predict_log_proba(X.iloc[[0]])"
   ]
  },
  {
   "cell_type": "code",
   "execution_count": 53,
   "id": "3a78a69d",
   "metadata": {},
   "outputs": [
    {
     "data": {
      "text/plain": [
       "array([[0.92466667, 0.07533333]])"
      ]
     },
     "execution_count": 53,
     "metadata": {},
     "output_type": "execute_result"
    }
   ],
   "source": [
    "rf.predict_proba(X.iloc[[0]])"
   ]
  },
  {
   "cell_type": "markdown",
   "id": "9e78e2a3",
   "metadata": {},
   "source": [
    "### Instance parameters"
   ]
  },
  {
   "cell_type": "markdown",
   "id": "d0962850",
   "metadata": {},
   "source": [
    "These options mirror the decision tree\n",
    "\n",
    "* `bootstrap = True` Bootstrap when building trees\n",
    "* `class_weight = None` Weights for class in dictionary. `balanced` will set values to the inverse proportion of class frequencies. Default is a value of 1 for each class. For multiclass, need a list od dictionaries (OVR) for each class.\n",
    "* `criterion = 'gini'` Splitting function `'gini'` or `'entropy'`\n",
    "* `max_depth = None` Depth of the tree. Default will build until leaves contain less than `min_sample_split`\n",
    "* `max_features = 'auto'` Number of features to examine for split. Default is all \n",
    "* `max_leaf_nodes = None` Limit the number of leaves. Default is unlimited\n",
    "* `min_impurity_decrease = 0.0` Split node if a split will decrease impurity >= value\n",
    "* `min_impurity_split = None` Deprecated\n",
    "* `min_samples_leaf = 1` Minimum number of samples at each leaf\n",
    "* `min_samples_split = 2` Minimum number of samples required to split a node\n",
    "* `min_weight_fraction_leaf = 0.0` Minimum sum total of weights required for leaf nodes\n",
    "* `n_estimators = 10` Number of trees in the forest\n",
    "* `n_jobs = 1` Number of jobs for fitting and predicting\n",
    "* `oob_score = False` Weather to estimate oob_score\n",
    "* `random_state = None` random seed \n",
    "* `verbose = 0` Verbosity\n",
    "* `warm_start = False` fit a new forest or use the existing one"
   ]
  },
  {
   "cell_type": "markdown",
   "id": "7d6cb7fa",
   "metadata": {},
   "source": [
    "### Attributes after fitting"
   ]
  },
  {
   "cell_type": "markdown",
   "id": "8387cf08",
   "metadata": {},
   "source": [
    "* `classes_` : class labels\n",
    "* `feature_importances_` array og Gini importance\n",
    "* `n_classes` : number of classes\n",
    "* `n_features` : number of features\n",
    "* `oob_score_` : OOB score. Average accuracy for each observation not used in trees. "
   ]
  },
  {
   "cell_type": "markdown",
   "id": "8a135da7",
   "metadata": {},
   "source": [
    "Feature importance showing Gini importance (reduction of error by using that feature)"
   ]
  },
  {
   "cell_type": "code",
   "execution_count": 54,
   "id": "083b4fc5",
   "metadata": {},
   "outputs": [
    {
     "name": "stdout",
     "output_type": "stream",
     "text": [
      "age            0.274\n",
      "fare           0.260\n",
      "sex_female     0.248\n",
      "pclass         0.092\n",
      "sibsp          0.047\n"
     ]
    }
   ],
   "source": [
    "for col,val in sorted(zip(X.columns, rf.feature_importances_), key=lambda x:x[1], reverse = True)[:5]: \n",
    "    print(f'{col:10}{val:10.3f}')"
   ]
  },
  {
   "cell_type": "markdown",
   "id": "20f53d2b",
   "metadata": {},
   "source": [
    "__TIP__: The random forest classifier computes the feature importance by determining the _mean decrease in impurity_ for each feature (also known as Gini importance). Features that reduce uncertainity in classification receive higher scores.\n",
    "\n",
    "These numbers might be off if features vary in scale or cardinality of categorical columns. A more reliable socre is _permutation importance_ (where each coumn has its values permuted and the drop accuracy is measured). An even more reliable mechanism is _drop column importance_ (where each column is dropped and the model is re-evaluated) but sadly requires creating a new model for each column that is dropped. "
   ]
  },
  {
   "cell_type": "code",
   "execution_count": 55,
   "id": "27b28347",
   "metadata": {},
   "outputs": [],
   "source": [
    "import rfpimp"
   ]
  },
  {
   "cell_type": "code",
   "execution_count": 56,
   "id": "e76c9b8b",
   "metadata": {},
   "outputs": [
    {
     "name": "stderr",
     "output_type": "stream",
     "text": [
      "C:\\Users\\alber\\AppData\\Local\\Temp/ipykernel_25676/4070230566.py:2: DataConversionWarning: A column-vector y was passed when a 1d array was expected. Please change the shape of y to (n_samples,), for example using ravel().\n",
      "  rf.fit(X_train, y_train)\n"
     ]
    },
    {
     "data": {
      "text/plain": [
       "Feature\n",
       "sex_female    0.195929\n",
       "age           0.058524\n",
       "pclass        0.035623\n",
       "fare          0.027990\n",
       "sibsp         0.020356\n",
       "parch         0.012723\n",
       "embarked_Q    0.000000\n",
       "embarked_C   -0.002545\n",
       "embarked_S   -0.005089\n",
       "Name: Importance, dtype: float64"
      ]
     },
     "execution_count": 56,
     "metadata": {},
     "output_type": "execute_result"
    }
   ],
   "source": [
    "rf = RandomForestClassifier(random_state=42)\n",
    "rf.fit(X_train, y_train)\n",
    "rfpimp.importances(rf, X_test, y_test).Importance"
   ]
  },
  {
   "cell_type": "markdown",
   "id": "759ea844",
   "metadata": {},
   "source": [
    "## XGBoost"
   ]
  },
  {
   "cell_type": "markdown",
   "id": "1e3ce207",
   "metadata": {},
   "source": [
    "XGboost creates a weak tree and then 'boosts' the subsequent trees to reduce the residual errors. It tries to capture and address any patterns in the errors until they appear to be random. \n",
    "\n",
    "XGBoost has the following properties:\n",
    "\n",
    "* __Runtime efficiency__ XGBoost is parallelizeable. Use the `n_jobs` option to indicate the number of CPUs. Use GPU for even better performance.\n",
    "* __Preprocess data__ No scaling necessar with tree models. Need to encode categorical data. \n",
    "* __Prevent overfitting__ The `early_stopping_rounds = N` parameter can be set to stop training if there is no improvement after N rounds. L1 and L2 regularization are controlled by `reg_alpha` and `reg_lambda` respectively. Higher numbers are more conservative. \n",
    "* __Interpret results__ Has feature importance. \n",
    "\n",
    "\n",
    "XGBoost has an extra parameter for the `.fit` method. The `early_stopping_rounds` parameter can be combined with the `eval_set` parameter to tell XGBoost to stop creating trees if the evaluation metric has not improved after that many boosting rounds. The `eval_metric` can also be set to one of the following: `'rmse'`, `'mae'`, `'logloss'`, `'error'` (default), `'auc'`, `'aucpr'` as well as a custom function.      "
   ]
  },
  {
   "cell_type": "code",
   "execution_count": 57,
   "id": "b21add7e",
   "metadata": {},
   "outputs": [
    {
     "name": "stdout",
     "output_type": "stream",
     "text": [
      "[19:46:16] WARNING: C:/Users/Administrator/workspace/xgboost-win64_release_1.4.0/src/learner.cc:1095: Starting in XGBoost 1.3.0, the default evaluation metric used with the objective 'binary:logistic' was changed from 'error' to 'logloss'. Explicitly set eval_metric if you'd like to restore the old behavior.\n",
      "[0]\tvalidation_0-logloss:0.57787\n",
      "[1]\tvalidation_0-logloss:0.51931\n",
      "[2]\tvalidation_0-logloss:0.48476\n",
      "[3]\tvalidation_0-logloss:0.46473\n",
      "[4]\tvalidation_0-logloss:0.46228\n",
      "[5]\tvalidation_0-logloss:0.46175\n",
      "[6]\tvalidation_0-logloss:0.46192\n",
      "[7]\tvalidation_0-logloss:0.46219\n",
      "[8]\tvalidation_0-logloss:0.46251\n",
      "[9]\tvalidation_0-logloss:0.46676\n",
      "[10]\tvalidation_0-logloss:0.47085\n",
      "[11]\tvalidation_0-logloss:0.47193\n",
      "[12]\tvalidation_0-logloss:0.47416\n",
      "[13]\tvalidation_0-logloss:0.47293\n",
      "[14]\tvalidation_0-logloss:0.47214\n"
     ]
    },
    {
     "name": "stderr",
     "output_type": "stream",
     "text": [
      "C:\\Users\\alber\\anaconda3\\lib\\site-packages\\xgboost\\sklearn.py:1146: UserWarning: The use of label encoder in XGBClassifier is deprecated and will be removed in a future release. To remove this warning, do the following: 1) Pass option use_label_encoder=False when constructing XGBClassifier object; and 2) Encode your labels (y) as integers starting with 0, i.e. 0, 1, 2, ..., [num_class - 1].\n",
      "  warnings.warn(label_encoder_deprecation_msg, UserWarning)\n",
      "C:\\Users\\alber\\anaconda3\\lib\\site-packages\\sklearn\\utils\\validation.py:63: DataConversionWarning: A column-vector y was passed when a 1d array was expected. Please change the shape of y to (n_samples, ), for example using ravel().\n",
      "  return f(*args, **kwargs)\n"
     ]
    },
    {
     "data": {
      "text/plain": [
       "0.7888040712468194"
      ]
     },
     "execution_count": 57,
     "metadata": {},
     "output_type": "execute_result"
    }
   ],
   "source": [
    "import xgboost as xgb\n",
    "\n",
    "xgb_class = xgb.XGBClassifier(random_state = 42)\n",
    "xgb_class.fit(X_train, y_train, early_stopping_rounds=10, eval_set = [(X_test, y_test)])\n",
    "xgb.XGBClassifier(base_score = 0.5, booster = 'gbtree', colsample_by_level = 1, colsample_bytree = 1, gamma = 0, learning_rate = 0.1,\n",
    "             max_delta_step = 0, max_depth = 3, min_child_weigth = 1, missing = None, n_estimators = 100, n_jobs = 1, nthread = None,\n",
    "              objective = 'binary:logistic', random_state = 42, reg_alpha = 0, reg_lambda = 1, scale_pos_weight = 1, seed = None, \n",
    "              silent = True, subsample = 1)\n",
    "\n",
    "xgb_class.score(X_test, y_test)"
   ]
  },
  {
   "cell_type": "code",
   "execution_count": 58,
   "id": "81d681a2",
   "metadata": {},
   "outputs": [
    {
     "data": {
      "text/plain": [
       "array([0], dtype=int64)"
      ]
     },
     "execution_count": 58,
     "metadata": {},
     "output_type": "execute_result"
    }
   ],
   "source": [
    "xgb_class.predict(X.iloc[[0]])"
   ]
  },
  {
   "cell_type": "code",
   "execution_count": 59,
   "id": "fc93b14c",
   "metadata": {},
   "outputs": [
    {
     "data": {
      "text/plain": [
       "array([[0.8291726 , 0.17082739]], dtype=float32)"
      ]
     },
     "execution_count": 59,
     "metadata": {},
     "output_type": "execute_result"
    }
   ],
   "source": [
    "xgb_class.predict_proba(X.iloc[[0]])"
   ]
  },
  {
   "cell_type": "markdown",
   "id": "e9a4ede6",
   "metadata": {},
   "source": [
    "### Instance parameter"
   ]
  },
  {
   "cell_type": "markdown",
   "id": "071f79c3",
   "metadata": {},
   "source": [
    "* `max_depth = 3` Maximum depth\n",
    "* `learning_rate =0.1` Learning rate (also called eta) for boosting (between 0 and 1). After each boost step, the newly added weights are scaled by this factro. The lower the value, the more conservative, but will also need more trees to converge. In the call `.train`, you can pass a `learning_rates` parameter, which is a list of rates at each round\n",
    "* `n_estimators=100` Number of rounds or boosted trees. \n",
    "* `silent = True` Opposite of verbose. Whether to print messages while running boosting\n",
    "* `objective = 'binary:logistic'` Learning task or callable for classification\n",
    "* `booster = 'gbtree'` Can be `'gbtree'`, `'giblinear'`, or `'dart'`\n",
    "* `nthread = None` Deprecated\n",
    "* `n_jobs = 1` Number of threads to use\n",
    "* `gamma = 0` Controls pruning. Range is 0 to infinite. Minimum loss redction needed to further split a leaf. Higher gamma is more conservative. If training and test scores are diverging, insert a higher number (around 10). If training and test scores are close, use a lower number. \n",
    "* `min_child_weight = 1` Minimum value for sum of hessian for a child\n",
    "* `max_delta_step = 0` Make update more conservative. Set 1 to 10 for imbalanced classes. \n",
    "* `subsample = 1` Fraction of samples to use fro next round\n",
    "* `colsample_bytree = 1` Fraction of columns to use for round.\n",
    "* `colsample_bylevel = 1` Fraction of columns to use for level.\n",
    "* `colsample_bynode = 1` Fraction of columns to use for node.\n",
    "* `reg_alpha = 0` L1 regularization (mean of weights) encourages sparsity. Increase to be more conservative. \n",
    "* `reg_lambda = 1` L2 regularization (root of sqaured weights) encourages small weights. Increase to be more conservative. \n",
    "* `scale_pos_weight = 1` Ratio of negative/positive weight\n",
    "* `base_score = .5` Initial prediction\n",
    "* `seed = None` Deprecated\n",
    "* `random_state = 0` Random seed. \n",
    "* `missing = None` Value to interpret for `missing`. None means `np.nan`\n",
    "* `importance_type = 'gain'` The feature importance type: `'gain'`, `'weight'`. `'cover'`, `'total_gain'` or `'total_cover'`\n"
   ]
  },
  {
   "cell_type": "markdown",
   "id": "de907d0b",
   "metadata": {},
   "source": [
    "### Attributes"
   ]
  },
  {
   "cell_type": "markdown",
   "id": "ac61fce0",
   "metadata": {},
   "source": [
    "* `coef_` coefficnets for gblinear learners\n",
    "* `feature_importances_` Feature importances for gbtree learners. \n",
    "\n",
    "Feature importance is the average gain across all the nodes where the feature is used"
   ]
  },
  {
   "cell_type": "code",
   "execution_count": 60,
   "id": "c2e10fea",
   "metadata": {},
   "outputs": [
    {
     "name": "stdout",
     "output_type": "stream",
     "text": [
      "sex_female     0.590\n",
      "pclass         0.235\n",
      "sibsp          0.042\n",
      "embarked_S     0.035\n",
      "fare           0.028\n"
     ]
    }
   ],
   "source": [
    "for col,val in sorted(zip(X.columns, xgb_class.feature_importances_), key = lambda x:x[1], reverse = True)[:5]:\n",
    "    print(f'{col:10}{val:10.3f}')"
   ]
  },
  {
   "cell_type": "markdown",
   "id": "47fa8cfc",
   "metadata": {},
   "source": [
    "XGBoost can plot the feature importance. It has an `importance_type` parameter. The default value is `'weight'`, which is the number of times a feature appears in a tree. It can also be `'gain'`, which shows the average gain when the feature is used, or `'cover'`, which is the number of samples affected by a split "
   ]
  },
  {
   "cell_type": "code",
   "execution_count": 61,
   "id": "5b39da6e",
   "metadata": {},
   "outputs": [
    {
     "data": {
      "text/plain": [
       "<AxesSubplot:title={'center':'Feature importance'}, xlabel='F score', ylabel='Features'>"
      ]
     },
     "execution_count": 61,
     "metadata": {},
     "output_type": "execute_result"
    },
    {
     "data": {
      "image/png": "[encoded data removed]",
      "text/plain": [
       "<Figure size 432x288 with 1 Axes>"
      ]
     },
     "metadata": {},
     "output_type": "display_data"
    }
   ],
   "source": [
    "fig,ax = plt.subplots(figsize = (6,4))\n",
    "xgb.plot_importance(xgb_class, ax = ax)\n"
   ]
  },
  {
   "cell_type": "code",
   "execution_count": 62,
   "id": "081af1a9",
   "metadata": {},
   "outputs": [
    {
     "data": {
      "image/png": "[encoded data removed]",
      "text/plain": [
       "<Figure size 432x288 with 1 Axes>"
      ]
     },
     "metadata": {},
     "output_type": "display_data"
    },
    {
     "data": {
      "text/plain": [
       "<AxesSubplot:title={'center':'Feature Importances of 9 Features using XGBClassifier'}, xlabel='relative importance'>"
      ]
     },
     "execution_count": 62,
     "metadata": {},
     "output_type": "execute_result"
    }
   ],
   "source": [
    "#Yellowbrick\n",
    "\n",
    "fig,ax = plt.subplots(figsize = (6,4))\n",
    "fi_viz = FeatureImportances(xgb_class)\n",
    "fi_viz.fit(X,y)\n",
    "fi_viz.poof()"
   ]
  },
  {
   "cell_type": "markdown",
   "id": "4d1c26cb",
   "metadata": {},
   "source": [
    "XGBoost provides both a textual representation of the trees and a graphical one"
   ]
  },
  {
   "cell_type": "code",
   "execution_count": 63,
   "id": "21423ea7",
   "metadata": {},
   "outputs": [
    {
     "name": "stdout",
     "output_type": "stream",
     "text": [
      "0:[sex_female<1] yes=1,no=2,missing=1\n",
      "\t1:[age<-1.49214959] yes=3,no=4,missing=3\n",
      "\t\t3:[sibsp<1.35050142] yes=7,no=8,missing=7\n",
      "\t\t\t7:[age<-2.164644] yes=13,no=14,missing=13\n",
      "\t\t\t\t13:leaf=0.0666666701\n",
      "\t\t\t\t14:leaf=0.450000018\n",
      "\t\t\t8:leaf=-0.388235331\n",
      "\t\t4:[pclass<-0.957598865] yes=9,no=10,missing=9\n",
      "\t\t\t9:[embarked_C<1] yes=15,no=16,missing=15\n",
      "\t\t\t\t15:[sibsp<-0.0363363475] yes=21,no=22,missing=21\n",
      "\t\t\t\t\t21:[fare<0.138877451] yes=27,no=28,missing=27\n",
      "\t\t\t\t\t\t27:leaf=-0.257142872\n",
      "\t\t\t\t\t\t28:leaf=-0.450000018\n",
      "\t\t\t\t\t22:leaf=-0.171428591\n",
      "\t\t\t\t16:[fare<0.618654251] yes=23,no=24,missing=23\n",
      "\t\t\t\t\t23:[sibsp<-0.0363363475] yes=29,no=30,missing=29\n",
      "\t\t\t\t\t\t29:leaf=-0.0782608688\n",
      "\t\t\t\t\t\t30:leaf=0.200000018\n",
      "\t\t\t\t\t24:[age<-0.439549625] yes=31,no=32,missing=31\n",
      "\t\t\t\t\t\t31:leaf=-0\n",
      "\t\t\t\t\t\t32:leaf=-0.25\n",
      "\t\t\t10:leaf=-0.451351374\n",
      "\t2:[pclass<0.23096557] yes=5,no=6,missing=5\n",
      "\t\t5:leaf=0.508235335\n",
      "\t\t6:[fare<-0.203860044] yes=11,no=12,missing=11\n",
      "\t\t\t11:[fare<-0.50003612] yes=17,no=18,missing=17\n",
      "\t\t\t\t17:leaf=0.400000036\n",
      "\t\t\t\t18:[fare<-0.355972826] yes=25,no=26,missing=25\n",
      "\t\t\t\t\t25:[age<-0.0886829644] yes=33,no=34,missing=33\n",
      "\t\t\t\t\t\t33:leaf=-0.0315789506\n",
      "\t\t\t\t\t\t34:leaf=-0.347368419\n",
      "\t\t\t\t\t26:[embarked_C<1] yes=35,no=36,missing=35\n",
      "\t\t\t\t\t\t35:leaf=0.0857142955\n",
      "\t\t\t\t\t\t36:leaf=0.342857182\n",
      "\t\t\t12:[age<-0.511193871] yes=19,no=20,missing=19\n",
      "\t\t\t\t19:leaf=-0.461538494\n",
      "\t\t\t\t20:leaf=-0.163636371\n",
      "\n"
     ]
    }
   ],
   "source": [
    "booster = xgb_class.get_booster()\n",
    "print(booster.get_dump()[0])\n"
   ]
  },
  {
   "cell_type": "markdown",
   "id": "1466f40d",
   "metadata": {},
   "source": [
    "The value in the leaf is the score for class 1. It can be converted into a probability using the logistic function. It can be converted into a probability using the logistic function.  "
   ]
  },
  {
   "cell_type": "code",
   "execution_count": 64,
   "id": "e3b82160",
   "metadata": {},
   "outputs": [
    {
     "data": {
      "text/plain": [
       "<AxesSubplot:>"
      ]
     },
     "execution_count": 64,
     "metadata": {},
     "output_type": "execute_result"
    },
    {
     "data": {
      "image/png": "[encoded data removed]",
      "text/plain": [
       "<Figure size 1152x1008 with 1 Axes>"
      ]
     },
     "metadata": {},
     "output_type": "display_data"
    }
   ],
   "source": [
    "fig,ax = plt.subplots(figsize = (16,14))\n",
    "xgb.plot_tree(xgb_class, ax = ax, num_trees = 0)"
   ]
  },
  {
   "cell_type": "markdown",
   "id": "94e7dd5d",
   "metadata": {},
   "source": [
    "The xgbfir is a library built on top of XGBoost. This library gives various measures about feature importance. What is unique is that it provides these measures about the columns, and also pairs of columns, so you can see the interactions. In addition, you get information about triplets (three-column) interactions. \n",
    "\n",
    "The measures it provides are: \n",
    "\n",
    "* `Gain` Total gain of each feature or feature interaction. \n",
    "* `FScore` Amount of possible splits taken on a feature or feature interaction. \n",
    "* `wFScore` Amount of possible splits taken on a feature or feature interaction, weighted by the probability of the splits to take place.     \n",
    "* `Average wFScore` wFScore divided by Fscore\n",
    "* `Average gain` Gain divided by Fscore\n",
    "* `Expecte gain` Total gain of each feature interaction weighted by the probability to gather the gain."
   ]
  },
  {
   "cell_type": "code",
   "execution_count": 66,
   "id": "b99dbcb8",
   "metadata": {},
   "outputs": [],
   "source": [
    "import xgbfir"
   ]
  },
  {
   "cell_type": "code",
   "execution_count": 68,
   "id": "28e6dc0b",
   "metadata": {},
   "outputs": [
    {
     "data": {
      "text/html": [
       "<div>\n",
       "<style scoped>\n",
       "    .dataframe tbody tr th:only-of-type {\n",
       "        vertical-align: middle;\n",
       "    }\n",
       "\n",
       "    .dataframe tbody tr th {\n",
       "        vertical-align: top;\n",
       "    }\n",
       "\n",
       "    .dataframe thead th {\n",
       "        text-align: right;\n",
       "    }\n",
       "</style>\n",
       "<table border=\"1\" class=\"dataframe\">\n",
       "  <thead>\n",
       "    <tr style=\"text-align: right;\">\n",
       "      <th></th>\n",
       "      <th>0</th>\n",
       "      <th>1</th>\n",
       "      <th>2</th>\n",
       "    </tr>\n",
       "  </thead>\n",
       "  <tbody>\n",
       "    <tr>\n",
       "      <th>Interaction</th>\n",
       "      <td>sex_female</td>\n",
       "      <td>fare</td>\n",
       "      <td>pclass</td>\n",
       "    </tr>\n",
       "    <tr>\n",
       "      <th>Gain</th>\n",
       "      <td>508.278687</td>\n",
       "      <td>249.05653</td>\n",
       "      <td>228.165601</td>\n",
       "    </tr>\n",
       "    <tr>\n",
       "      <th>FScore</th>\n",
       "      <td>16</td>\n",
       "      <td>166</td>\n",
       "      <td>18</td>\n",
       "    </tr>\n",
       "    <tr>\n",
       "      <th>wFScore</th>\n",
       "      <td>12.130713</td>\n",
       "      <td>34.570581</td>\n",
       "      <td>6.615096</td>\n",
       "    </tr>\n",
       "    <tr>\n",
       "      <th>Average wFScore</th>\n",
       "      <td>0.75817</td>\n",
       "      <td>0.208257</td>\n",
       "      <td>0.367505</td>\n",
       "    </tr>\n",
       "    <tr>\n",
       "      <th>Average Gain</th>\n",
       "      <td>31.767418</td>\n",
       "      <td>1.500341</td>\n",
       "      <td>12.675867</td>\n",
       "    </tr>\n",
       "    <tr>\n",
       "      <th>Expected Gain</th>\n",
       "      <td>505.918204</td>\n",
       "      <td>58.221739</td>\n",
       "      <td>85.773037</td>\n",
       "    </tr>\n",
       "    <tr>\n",
       "      <th>Gain Rank</th>\n",
       "      <td>1</td>\n",
       "      <td>2</td>\n",
       "      <td>3</td>\n",
       "    </tr>\n",
       "    <tr>\n",
       "      <th>FScore Rank</th>\n",
       "      <td>5</td>\n",
       "      <td>1</td>\n",
       "      <td>4</td>\n",
       "    </tr>\n",
       "    <tr>\n",
       "      <th>wFScore Rank</th>\n",
       "      <td>3</td>\n",
       "      <td>1</td>\n",
       "      <td>4</td>\n",
       "    </tr>\n",
       "    <tr>\n",
       "      <th>Avg wFScore Rank</th>\n",
       "      <td>1</td>\n",
       "      <td>4</td>\n",
       "      <td>3</td>\n",
       "    </tr>\n",
       "    <tr>\n",
       "      <th>Avg Gain Rank</th>\n",
       "      <td>1</td>\n",
       "      <td>5</td>\n",
       "      <td>2</td>\n",
       "    </tr>\n",
       "    <tr>\n",
       "      <th>Expected Gain Rank</th>\n",
       "      <td>1</td>\n",
       "      <td>3</td>\n",
       "      <td>2</td>\n",
       "    </tr>\n",
       "    <tr>\n",
       "      <th>Average Rank</th>\n",
       "      <td>2.0</td>\n",
       "      <td>2.666667</td>\n",
       "      <td>3.0</td>\n",
       "    </tr>\n",
       "    <tr>\n",
       "      <th>Average Tree Index</th>\n",
       "      <td>7.5625</td>\n",
       "      <td>7.13253</td>\n",
       "      <td>5.0</td>\n",
       "    </tr>\n",
       "    <tr>\n",
       "      <th>Average Tree Depth</th>\n",
       "      <td>1.3125</td>\n",
       "      <td>3.451807</td>\n",
       "      <td>1.777778</td>\n",
       "    </tr>\n",
       "  </tbody>\n",
       "</table>\n",
       "</div>"
      ],
      "text/plain": [
       "                             0          1           2\n",
       "Interaction         sex_female       fare      pclass\n",
       "Gain                508.278687  249.05653  228.165601\n",
       "FScore                      16        166          18\n",
       "wFScore              12.130713  34.570581    6.615096\n",
       "Average wFScore        0.75817   0.208257    0.367505\n",
       "Average Gain         31.767418   1.500341   12.675867\n",
       "Expected Gain       505.918204  58.221739   85.773037\n",
       "Gain Rank                    1          2           3\n",
       "FScore Rank                  5          1           4\n",
       "wFScore Rank                 3          1           4\n",
       "Avg wFScore Rank             1          4           3\n",
       "Avg Gain Rank                1          5           2\n",
       "Expected Gain Rank           1          3           2\n",
       "Average Rank               2.0   2.666667         3.0\n",
       "Average Tree Index      7.5625    7.13253         5.0\n",
       "Average Tree Depth      1.3125   3.451807    1.777778"
      ]
     },
     "execution_count": 68,
     "metadata": {},
     "output_type": "execute_result"
    }
   ],
   "source": [
    "xgbfir.saveXgbFI(xgb_class, feature_names = X.columns, OutputXlsxFile = 'fir.xlsx')\n",
    "pd.read_excel('fir.xlsx').head(3).T"
   ]
  },
  {
   "cell_type": "code",
   "execution_count": 69,
   "id": "7755baf0",
   "metadata": {},
   "outputs": [
    {
     "data": {
      "text/html": [
       "<div>\n",
       "<style scoped>\n",
       "    .dataframe tbody tr th:only-of-type {\n",
       "        vertical-align: middle;\n",
       "    }\n",
       "\n",
       "    .dataframe tbody tr th {\n",
       "        vertical-align: top;\n",
       "    }\n",
       "\n",
       "    .dataframe thead th {\n",
       "        text-align: right;\n",
       "    }\n",
       "</style>\n",
       "<table border=\"1\" class=\"dataframe\">\n",
       "  <thead>\n",
       "    <tr style=\"text-align: right;\">\n",
       "      <th></th>\n",
       "      <th>0</th>\n",
       "      <th>1</th>\n",
       "    </tr>\n",
       "  </thead>\n",
       "  <tbody>\n",
       "    <tr>\n",
       "      <th>Interaction</th>\n",
       "      <td>pclass|sex_female</td>\n",
       "      <td>age|sex_female</td>\n",
       "    </tr>\n",
       "    <tr>\n",
       "      <th>Gain</th>\n",
       "      <td>727.689279</td>\n",
       "      <td>497.455273</td>\n",
       "    </tr>\n",
       "    <tr>\n",
       "      <th>FScore</th>\n",
       "      <td>11</td>\n",
       "      <td>13</td>\n",
       "    </tr>\n",
       "    <tr>\n",
       "      <th>wFScore</th>\n",
       "      <td>4.22921</td>\n",
       "      <td>5.691471</td>\n",
       "    </tr>\n",
       "    <tr>\n",
       "      <th>Average wFScore</th>\n",
       "      <td>0.384474</td>\n",
       "      <td>0.437805</td>\n",
       "    </tr>\n",
       "    <tr>\n",
       "      <th>Average Gain</th>\n",
       "      <td>66.153571</td>\n",
       "      <td>38.26579</td>\n",
       "    </tr>\n",
       "    <tr>\n",
       "      <th>Expected Gain</th>\n",
       "      <td>266.515945</td>\n",
       "      <td>316.10256</td>\n",
       "    </tr>\n",
       "    <tr>\n",
       "      <th>Gain Rank</th>\n",
       "      <td>1</td>\n",
       "      <td>2</td>\n",
       "    </tr>\n",
       "    <tr>\n",
       "      <th>FScore Rank</th>\n",
       "      <td>11</td>\n",
       "      <td>8</td>\n",
       "    </tr>\n",
       "    <tr>\n",
       "      <th>wFScore Rank</th>\n",
       "      <td>7</td>\n",
       "      <td>5</td>\n",
       "    </tr>\n",
       "    <tr>\n",
       "      <th>Avg wFScore Rank</th>\n",
       "      <td>4</td>\n",
       "      <td>1</td>\n",
       "    </tr>\n",
       "    <tr>\n",
       "      <th>Avg Gain Rank</th>\n",
       "      <td>1</td>\n",
       "      <td>2</td>\n",
       "    </tr>\n",
       "    <tr>\n",
       "      <th>Expected Gain Rank</th>\n",
       "      <td>2</td>\n",
       "      <td>1</td>\n",
       "    </tr>\n",
       "    <tr>\n",
       "      <th>Average Rank</th>\n",
       "      <td>4.333333</td>\n",
       "      <td>3.166667</td>\n",
       "    </tr>\n",
       "    <tr>\n",
       "      <th>Average Tree Index</th>\n",
       "      <td>4.454545</td>\n",
       "      <td>8.384615</td>\n",
       "    </tr>\n",
       "    <tr>\n",
       "      <th>Average Tree Depth</th>\n",
       "      <td>1.0</td>\n",
       "      <td>2.384615</td>\n",
       "    </tr>\n",
       "  </tbody>\n",
       "</table>\n",
       "</div>"
      ],
      "text/plain": [
       "                                    0               1\n",
       "Interaction         pclass|sex_female  age|sex_female\n",
       "Gain                       727.689279      497.455273\n",
       "FScore                             11              13\n",
       "wFScore                       4.22921        5.691471\n",
       "Average wFScore              0.384474        0.437805\n",
       "Average Gain                66.153571        38.26579\n",
       "Expected Gain              266.515945       316.10256\n",
       "Gain Rank                           1               2\n",
       "FScore Rank                        11               8\n",
       "wFScore Rank                        7               5\n",
       "Avg wFScore Rank                    4               1\n",
       "Avg Gain Rank                       1               2\n",
       "Expected Gain Rank                  2               1\n",
       "Average Rank                 4.333333        3.166667\n",
       "Average Tree Index           4.454545        8.384615\n",
       "Average Tree Depth                1.0        2.384615"
      ]
     },
     "execution_count": 69,
     "metadata": {},
     "output_type": "execute_result"
    }
   ],
   "source": [
    "pd.read_excel('fir.xlsx', sheet_name='Interaction Depth 1').head(2).T"
   ]
  },
  {
   "cell_type": "markdown",
   "id": "9d101b18",
   "metadata": {},
   "source": [
    "## Gradient Boosted with LightGBM"
   ]
  },
  {
   "cell_type": "markdown",
   "id": "5866cb89",
   "metadata": {},
   "source": [
    "LightGBM is an implementation by Microsoft. LightGBM uses a sampling mechanism to deal with continuous values. This allows quicker creation of trees (than say XGBoost), and reduces memory usage.\n",
    "\n",
    "LightGBM also grows trees depth first (_leaf-wise_ rather than _level-wise_). Because of this, rather than using `max_depth` to control overfitting, use `num_leaves` (where this values is $<2(max\\_depth)$\n",
    "\n",
    "It has the following properties:\n",
    "\n",
    "* __Runtime efficiency__  Can take advantage of multiple CPUs. By using binning, can be 15 times faster than XGBoost\n",
    "\n",
    "* __Preprocess data__ Has some support for encoding categorical columns as integers, but AUC appears to suffer compared to one-hot-encoding. \n",
    "\n",
    "* __Prevent overfitting__ Lower `num_leaves`. Increase `min_data_in_leaf`. Use `min_gain_to_split` with `lambda_l1` or `lambda_l2`. \n",
    "\n",
    "* __Interpret results__ Feature importance is available. Individual trees are weak and tend to be hard to interpret. "
   ]
  },
  {
   "cell_type": "code",
   "execution_count": 72,
   "id": "dd0e19c0",
   "metadata": {},
   "outputs": [
    {
     "name": "stderr",
     "output_type": "stream",
     "text": [
      "C:\\Users\\alber\\anaconda3\\lib\\site-packages\\sklearn\\utils\\validation.py:63: DataConversionWarning: A column-vector y was passed when a 1d array was expected. Please change the shape of y to (n_samples, ), for example using ravel().\n",
      "  return f(*args, **kwargs)\n"
     ]
    },
    {
     "data": {
      "text/plain": [
       "0.7938931297709924"
      ]
     },
     "execution_count": 72,
     "metadata": {},
     "output_type": "execute_result"
    }
   ],
   "source": [
    "import lightgbm as lgb\n",
    "lgbm_class = lgb.LGBMClassifier(random_state = 42)\n",
    "lgbm_class.fit(X_train, y_train)  \n",
    "lgb.LGBMClassifier(boosting_type = 'gbdt', \n",
    "              class_weight = None, \n",
    "              colsample_bytree = 1.0,\n",
    "              learning_rate = 0.1,\n",
    "              max_depth = -1,\n",
    "              min_child_samples = 20, \n",
    "              min_child_weight = 0.001,\n",
    "              min_split_gain = 0.0, \n",
    "              n_estimators = 100, \n",
    "              n_jobs = -1, \n",
    "              num_leaves = 31, \n",
    "              objective = None, \n",
    "              random_state = 42, \n",
    "              reg_alpha = 0.0, \n",
    "              reg_lambda = 0.0, \n",
    "              silent = True, \n",
    "              subsample = 1.0, \n",
    "              subsample_for_bin = 200000, \n",
    "              subsample_freq = 0)\n",
    "\n",
    "lgbm_class.score(X_test, y_test)"
   ]
  },
  {
   "cell_type": "markdown",
   "id": "dd499187",
   "metadata": {},
   "source": [
    "### Instance parameters "
   ]
  },
  {
   "cell_type": "markdown",
   "id": "2dafe7bd",
   "metadata": {},
   "source": [
    "* `boosting_type = 'gbdt'` Can be 'gbdt' (gradient boosting), 'rf' (random forest), 'dart' (dropouts meet multiple additive regression trees), or 'goss' (gradient-based, one-sided sampling). \n",
    "\n",
    "* `class_weight = None` : Dictionary or 'balanced'. Use dictionary to set weight for each class label when doing multiclass probelms. For binary probelms, use `is_umbalance` or `scale_pos_weight`.\n",
    "\n",
    "* `colsample_bytree = 1.0` Range (0,1.0). Select percent or features for each boosting round. \n",
    "\n",
    "* `importance_type = 'split'` How to calculate feature importance. 'split0 means number of times a feature is used. 'gain' is total gains of splits for a feature. \n",
    "\n",
    "* `learning_rate = 0.1` Range (0,1.0). Learning rate for boosting. A smaller values slows down overfitting as boosting rounds have less impact. A smaller number should give better performance but will require more `num_iterations`. \n",
    "\n",
    "* `max_depth = -1` Maximum tree depth. -1 is unlimited. Larger depths tend to overfit more. \n",
    "\n",
    "* `min_child_samples = 20` Number of samples required for a leaf. Lower numbers mean more overfitting. \n",
    "\n",
    "* `min_child_weight = 0.001` Sum of hessian weight required for a leaf. \n",
    "\n",
    "* `min_split_gain = 0.0` Loss reductioin required to partition a leaf. \n",
    "\n",
    "* `n_estimators = 100` Number of trees or boosting rounds. \n",
    "\n",
    "* `n_jobs = -1` Number of threads \n",
    "\n",
    "* `num_leaves = 31` Maximum tree leaves. \n",
    "\n",
    "* `objective = None` None is 'binary' or 'multiclass' for classifier. Can be a function or string. \n",
    "\n",
    "* `random_state = 42` Random seed. \n",
    "\n",
    "* `reg_alpha = 0.0` L1 regularization (mean of weights). Increase to be more conservative. \n",
    "\n",
    "* `reg_lambda = 0.0` L2 regularization (root of squared weights). Increase to be more conservative. \n",
    "\n",
    "* `silent = True` Verbose mode\n",
    "\n",
    "* `subsample = 1.0` Fraction of samples to use for next round \n",
    "\n",
    "* `subsample_for_bin = 200000` Samples required to create bins\n",
    "\n",
    "* `subsample_freq = 0` Subsample frequency. Change to 1 to enbale. "
   ]
  },
  {
   "cell_type": "markdown",
   "id": "1d1b9d7c",
   "metadata": {},
   "source": [
    "### Feature importance based on 'splits'"
   ]
  },
  {
   "cell_type": "code",
   "execution_count": 74,
   "id": "9c14afbf",
   "metadata": {},
   "outputs": [
    {
     "name": "stdout",
     "output_type": "stream",
     "text": [
      "fare        1249.000\n",
      "age         1236.000\n",
      "pclass       126.000\n",
      "sex_female    91.000\n",
      "sibsp         85.000\n"
     ]
    }
   ],
   "source": [
    "for col, val in sorted(zip(cols, lgbm_class.feature_importances_), key = lambda x:x[1], reverse = True)[:5]:\n",
    "    print(f'{col:10}{val:10.3f}')"
   ]
  },
  {
   "cell_type": "markdown",
   "id": "8abdd380",
   "metadata": {},
   "source": [
    "The LightGBM library supports creating a feature importance plot. The default is based on `'splits'`, the number of times a feature is used. You can specify `importance_type` if you want to change it to `'gain'`"
   ]
  },
  {
   "cell_type": "code",
   "execution_count": 76,
   "id": "cbd32a01",
   "metadata": {},
   "outputs": [
    {
     "data": {
      "image/png": "[encoded data removed]",
      "text/plain": [
       "<Figure size 432x288 with 1 Axes>"
      ]
     },
     "metadata": {},
     "output_type": "display_data"
    }
   ],
   "source": [
    "fig,ax = plt.subplots(figsize = (6,4))\n",
    "lgb.plot_importance(lgbm_class, ax = ax)\n",
    "fig.tight_layout()"
   ]
  },
  {
   "cell_type": "code",
   "execution_count": 82,
   "id": "5eb24ccc",
   "metadata": {},
   "outputs": [
    {
     "data": {
      "text/plain": [
       "<AxesSubplot:>"
      ]
     },
     "execution_count": 82,
     "metadata": {},
     "output_type": "execute_result"
    },
    {
     "data": {
      "image/png": "[encoded data removed]",
      "text/plain": [
       "<Figure size 1440x1440 with 1 Axes>"
      ]
     },
     "metadata": {},
     "output_type": "display_data"
    }
   ],
   "source": [
    "# We create a decision tree as well \n",
    "\n",
    "fig,ax = plt.subplots(figsize = (20,20))\n",
    "lgb.plot_tree(lgbm_class, tree_index = 0, ax = ax)"
   ]
  },
  {
   "cell_type": "markdown",
   "id": "0ad66df9",
   "metadata": {},
   "source": [
    "## TPOT"
   ]
  },
  {
   "cell_type": "markdown",
   "id": "9e12cfe6",
   "metadata": {},
   "source": [
    "TPOT  uses a generic algorithm to try differnt models and ensembles. This can take hours to days to run as it considers multiple models and preprocessing steps, as well as the hyperparameters for said models, and ensambling options. On a typical machine, a generation may take five or more minutes to run. \n",
    "\n",
    "It has the following properties:\n",
    "\n",
    "* __Runtime efficiency__ : Can take hours or days. Use `n_jobs = -1` to use all CPUs\n",
    "\n",
    "* __Preprocess data__ you need to remove NaN and categorical data. \n",
    "\n",
    "* __Prevent overfitting__ Ideally, results should use cross-validation to minimize overfitting. \n",
    "\n",
    "* __Interpert results__ Depends on the results"
   ]
  },
  {
   "cell_type": "code",
   "execution_count": 83,
   "id": "74ab614b",
   "metadata": {},
   "outputs": [
    {
     "name": "stderr",
     "output_type": "stream",
     "text": [
      "C:\\Users\\alber\\anaconda3\\lib\\site-packages\\sklearn\\utils\\validation.py:63: DataConversionWarning: A column-vector y was passed when a 1d array was expected. Please change the shape of y to (n_samples, ), for example using ravel().\n",
      "  return f(*args, **kwargs)\n",
      "C:\\Users\\alber\\anaconda3\\lib\\site-packages\\sklearn\\utils\\validation.py:63: DataConversionWarning: A column-vector y was passed when a 1d array was expected. Please change the shape of y to (n_samples, ), for example using ravel().\n",
      "  return f(*args, **kwargs)\n"
     ]
    },
    {
     "data": {
      "text/plain": [
       "0.7811704834605598"
      ]
     },
     "execution_count": 83,
     "metadata": {},
     "output_type": "execute_result"
    }
   ],
   "source": [
    "from tpot import TPOTClassifier\n",
    "\n",
    "\n",
    "tc = TPOTClassifier(generations = 2)\n",
    "tc.fit(X_train, y_train)\n",
    "tc.score(X_test, y_test )"
   ]
  },
  {
   "cell_type": "markdown",
   "id": "ab47bedf",
   "metadata": {},
   "source": [
    "### Instance Parameters"
   ]
  },
  {
   "cell_type": "markdown",
   "id": "f4354294",
   "metadata": {},
   "source": [
    "* `generations = 100` Iterations to run.\n",
    "\n",
    "* `population_size = 100` Population size for generic programming. Larger size usually perform better but takes more memory and time. \n",
    "\n",
    "* `offspring_size = None` Offspring for each generation. Default is `population_sizde`\n",
    "\n",
    "* `mutation_rate = .9` Mutation rate for algorithm [0,1]. Default is .9. \n",
    "\n",
    "* `crossover_rate = .1` Cross-over rate ( how many pipelines to breed in a generation) Range [0,1]. Default is .1\n",
    "\n",
    "* `scoring = 'accuracy'` Scoring mechanism\n",
    "\n",
    "* `cv=5` Cross validation folds\n",
    "\n",
    "* `subsample = 1` Subsample training instances. Range [0,1]. Default is 1. \n",
    "\n",
    "* `n_jobs = 1` Number of CPUs to use, -2 for all cores. \n",
    "\n",
    "* `max_time_mins = None` Max amount of minutes to run\n",
    "\n",
    "* `max_eval_time_mins = 5` Max amount of minutes to evaluate a single pipeline\n",
    "\n",
    "* `random_state = None` Randomseed\n",
    "\n",
    "* `config_dict` Configuration options for optimizations. \n",
    "\n",
    "* `warm_start = False` Reuse previous calls to `.fit`\n",
    "\n",
    "* `memory = None` Can cache pipelines. `'auto'` or a path will persist in a directory \n",
    "\n",
    "* `use_dask = False` Use dask\n",
    "\n",
    "* `periodic_checkpoint_folder = None` Path to a folder where the best pipeline will be persisted periodically.\n",
    "\n",
    "* `early_stop = None` Stop after tunning this many generations with no imporvement. \n",
    "\n",
    "* `verbosity = 0` O = None 1 = minimal, 2 = high, or 3 = all, 2 and higher shows a progress bar. \n",
    "\n",
    "* `disable_update_check = False` Disable version check\n"
   ]
  },
  {
   "cell_type": "markdown",
   "id": "10f9a561",
   "metadata": {},
   "source": [
    "### Attributes"
   ]
  },
  {
   "cell_type": "markdown",
   "id": "56f4ab77",
   "metadata": {},
   "source": [
    "* `evaluated_individuals_` Dictionary with all pipelines that were evaluated\n",
    "\n",
    "* `fitted_pipelines` Best pipeline"
   ]
  }
 ],
 "metadata": {
  "kernelspec": {
   "display_name": "Python 3 (ipykernel)",
   "language": "python",
   "name": "python3"
  },
  "language_info": {
   "codemirror_mode": {
    "name": "ipython",
    "version": 3
   },
   "file_extension": ".py",
   "mimetype": "text/x-python",
   "name": "python",
   "nbconvert_exporter": "python",
   "pygments_lexer": "ipython3",
   "version": "3.8.3"
  },
  "toc": {
   "base_numbering": 1,
   "nav_menu": {},
   "number_sections": true,
   "sideBar": true,
   "skip_h1_title": false,
   "title_cell": "Table of Contents",
   "title_sidebar": "Contents",
   "toc_cell": false,
   "toc_position": {},
   "toc_section_display": true,
   "toc_window_display": true
  }
 },
 "nbformat": 4,
 "nbformat_minor": 5
}
