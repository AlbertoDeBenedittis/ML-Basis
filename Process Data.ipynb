{
 "cells": [
  {
   "cell_type": "markdown",
   "id": "4088a2cb",
   "metadata": {},
   "source": [
    "# Process Data"
   ]
  },
  {
   "cell_type": "code",
   "execution_count": 55,
   "id": "b57b90f6",
   "metadata": {},
   "outputs": [],
   "source": [
    "import pandas as pd \n",
    "import numpy as np\n",
    "import matplotlib.pyplot as plt"
   ]
  },
  {
   "cell_type": "code",
   "execution_count": 56,
   "id": "2c06a1f2",
   "metadata": {},
   "outputs": [],
   "source": [
    "X2 = pd.DataFrame({\n",
    "    'a':range(5),\n",
    "    'b':[-100,-50,0,200,1000]\n",
    "})"
   ]
  },
  {
   "cell_type": "code",
   "execution_count": 57,
   "id": "5e21e478",
   "metadata": {},
   "outputs": [
    {
     "data": {
      "text/html": [
       "<div>\n",
       "<style scoped>\n",
       "    .dataframe tbody tr th:only-of-type {\n",
       "        vertical-align: middle;\n",
       "    }\n",
       "\n",
       "    .dataframe tbody tr th {\n",
       "        vertical-align: top;\n",
       "    }\n",
       "\n",
       "    .dataframe thead th {\n",
       "        text-align: right;\n",
       "    }\n",
       "</style>\n",
       "<table border=\"1\" class=\"dataframe\">\n",
       "  <thead>\n",
       "    <tr style=\"text-align: right;\">\n",
       "      <th></th>\n",
       "      <th>a</th>\n",
       "      <th>b</th>\n",
       "    </tr>\n",
       "  </thead>\n",
       "  <tbody>\n",
       "    <tr>\n",
       "      <th>0</th>\n",
       "      <td>0</td>\n",
       "      <td>-100</td>\n",
       "    </tr>\n",
       "    <tr>\n",
       "      <th>1</th>\n",
       "      <td>1</td>\n",
       "      <td>-50</td>\n",
       "    </tr>\n",
       "    <tr>\n",
       "      <th>2</th>\n",
       "      <td>2</td>\n",
       "      <td>0</td>\n",
       "    </tr>\n",
       "    <tr>\n",
       "      <th>3</th>\n",
       "      <td>3</td>\n",
       "      <td>200</td>\n",
       "    </tr>\n",
       "    <tr>\n",
       "      <th>4</th>\n",
       "      <td>4</td>\n",
       "      <td>1000</td>\n",
       "    </tr>\n",
       "  </tbody>\n",
       "</table>\n",
       "</div>"
      ],
      "text/plain": [
       "   a     b\n",
       "0  0  -100\n",
       "1  1   -50\n",
       "2  2     0\n",
       "3  3   200\n",
       "4  4  1000"
      ]
     },
     "execution_count": 57,
     "metadata": {},
     "output_type": "execute_result"
    }
   ],
   "source": [
    "X2"
   ]
  },
  {
   "cell_type": "markdown",
   "id": "8ec4d343",
   "metadata": {},
   "source": [
    "## Standardize"
   ]
  },
  {
   "cell_type": "markdown",
   "id": "ff442297",
   "metadata": {},
   "source": [
    "Some algorithms such as SVM, perform better when the data is _standardized_. Each column should have a mean value of 0 and standard deviation of 1. "
   ]
  },
  {
   "cell_type": "code",
   "execution_count": 58,
   "id": "66bd1982",
   "metadata": {},
   "outputs": [
    {
     "data": {
      "text/plain": [
       "array([[-1.41421356, -0.75995002],\n",
       "       [-0.70710678, -0.63737744],\n",
       "       [ 0.        , -0.51480485],\n",
       "       [ 0.70710678, -0.02451452],\n",
       "       [ 1.41421356,  1.93664683]])"
      ]
     },
     "execution_count": 58,
     "metadata": {},
     "output_type": "execute_result"
    }
   ],
   "source": [
    "from sklearn import preprocessing\n",
    "\n",
    "std = preprocessing.StandardScaler()\n",
    "std.fit_transform(X2)"
   ]
  },
  {
   "cell_type": "code",
   "execution_count": 59,
   "id": "f8248484",
   "metadata": {},
   "outputs": [
    {
     "data": {
      "text/plain": [
       "array([  1.41421356, 407.92156109])"
      ]
     },
     "execution_count": 59,
     "metadata": {},
     "output_type": "execute_result"
    }
   ],
   "source": [
    "std.scale_"
   ]
  },
  {
   "cell_type": "code",
   "execution_count": 60,
   "id": "976e8f63",
   "metadata": {},
   "outputs": [
    {
     "data": {
      "text/plain": [
       "array([  2., 210.])"
      ]
     },
     "execution_count": 60,
     "metadata": {},
     "output_type": "execute_result"
    }
   ],
   "source": [
    "std.mean_"
   ]
  },
  {
   "cell_type": "code",
   "execution_count": 61,
   "id": "4f1c67c0",
   "metadata": {},
   "outputs": [
    {
     "data": {
      "text/plain": [
       "array([2.000e+00, 1.664e+05])"
      ]
     },
     "execution_count": 61,
     "metadata": {},
     "output_type": "execute_result"
    }
   ],
   "source": [
    "std.var_"
   ]
  },
  {
   "cell_type": "markdown",
   "id": "0ee71a2c",
   "metadata": {},
   "source": [
    "Remember that you will need to track the original mean and standard deviation if you use this for preprocesisng. Any sample that you will use to preedict later will need to be standardized with those same values:"
   ]
  },
  {
   "cell_type": "code",
   "execution_count": 62,
   "id": "903f5126",
   "metadata": {},
   "outputs": [
    {
     "data": {
      "text/html": [
       "<div>\n",
       "<style scoped>\n",
       "    .dataframe tbody tr th:only-of-type {\n",
       "        vertical-align: middle;\n",
       "    }\n",
       "\n",
       "    .dataframe tbody tr th {\n",
       "        vertical-align: top;\n",
       "    }\n",
       "\n",
       "    .dataframe thead th {\n",
       "        text-align: right;\n",
       "    }\n",
       "</style>\n",
       "<table border=\"1\" class=\"dataframe\">\n",
       "  <thead>\n",
       "    <tr style=\"text-align: right;\">\n",
       "      <th></th>\n",
       "      <th>a</th>\n",
       "      <th>b</th>\n",
       "    </tr>\n",
       "  </thead>\n",
       "  <tbody>\n",
       "    <tr>\n",
       "      <th>0</th>\n",
       "      <td>-1.264911</td>\n",
       "      <td>-0.679720</td>\n",
       "    </tr>\n",
       "    <tr>\n",
       "      <th>1</th>\n",
       "      <td>-0.632456</td>\n",
       "      <td>-0.570088</td>\n",
       "    </tr>\n",
       "    <tr>\n",
       "      <th>2</th>\n",
       "      <td>0.000000</td>\n",
       "      <td>-0.460455</td>\n",
       "    </tr>\n",
       "    <tr>\n",
       "      <th>3</th>\n",
       "      <td>0.632456</td>\n",
       "      <td>-0.021926</td>\n",
       "    </tr>\n",
       "    <tr>\n",
       "      <th>4</th>\n",
       "      <td>1.264911</td>\n",
       "      <td>1.732190</td>\n",
       "    </tr>\n",
       "  </tbody>\n",
       "</table>\n",
       "</div>"
      ],
      "text/plain": [
       "          a         b\n",
       "0 -1.264911 -0.679720\n",
       "1 -0.632456 -0.570088\n",
       "2  0.000000 -0.460455\n",
       "3  0.632456 -0.021926\n",
       "4  1.264911  1.732190"
      ]
     },
     "execution_count": 62,
     "metadata": {},
     "output_type": "execute_result"
    }
   ],
   "source": [
    "X_std = (X2-X2.mean())/X2.std()\n",
    "X_std"
   ]
  },
  {
   "cell_type": "code",
   "execution_count": 63,
   "id": "a806a74d",
   "metadata": {},
   "outputs": [
    {
     "data": {
      "text/plain": [
       "a      2.0\n",
       "b    210.0\n",
       "dtype: float64"
      ]
     },
     "execution_count": 63,
     "metadata": {},
     "output_type": "execute_result"
    }
   ],
   "source": [
    "X2.mean()"
   ]
  },
  {
   "cell_type": "markdown",
   "id": "d4393c08",
   "metadata": {},
   "source": [
    "The `fastai` library also implements this:"
   ]
  },
  {
   "cell_type": "markdown",
   "id": "541f93fd",
   "metadata": {},
   "source": [
    "## Scale to range"
   ]
  },
  {
   "cell_type": "markdown",
   "id": "c349b379",
   "metadata": {},
   "source": [
    "Scaling to range is translating data so it is between 0 and 1, inclusive. Having the data bounded may be useful. However, if you have outliersm you probably want to be careful using this: "
   ]
  },
  {
   "cell_type": "code",
   "execution_count": 64,
   "id": "b315be1d",
   "metadata": {},
   "outputs": [
    {
     "data": {
      "text/plain": [
       "array([[0.        , 0.        ],\n",
       "       [0.25      , 0.04545455],\n",
       "       [0.5       , 0.09090909],\n",
       "       [0.75      , 0.27272727],\n",
       "       [1.        , 1.        ]])"
      ]
     },
     "execution_count": 64,
     "metadata": {},
     "output_type": "execute_result"
    }
   ],
   "source": [
    "from sklearn import preprocessing\n",
    "\n",
    "mms = preprocessing.MinMaxScaler()\n",
    "mms.fit(X2)\n",
    "mms.transform(X2)"
   ]
  },
  {
   "cell_type": "markdown",
   "id": "3b1fd52c",
   "metadata": {},
   "source": [
    "## Dummy Variables"
   ]
  },
  {
   "cell_type": "markdown",
   "id": "7cf0c9a4",
   "metadata": {},
   "source": [
    "We can use pandas to create dummy variables from categorical data. This is also refereed to as one-hot encoding, or indicator encoding. Dummy variables are especially useful if the data is nominal (unordered). The `get_dummies` function in pandas creates multiple columns for a categorical column, each ith a 1 or 0 if the original column had that value. "
   ]
  },
  {
   "cell_type": "code",
   "execution_count": 65,
   "id": "908bafad",
   "metadata": {},
   "outputs": [],
   "source": [
    "X_cat = pd.DataFrame({\n",
    "    'name': ['George', 'Paul'],\n",
    "    'inst': ['Bass', 'Guitar']\n",
    "})"
   ]
  },
  {
   "cell_type": "code",
   "execution_count": 66,
   "id": "baef10d3",
   "metadata": {},
   "outputs": [
    {
     "data": {
      "text/html": [
       "<div>\n",
       "<style scoped>\n",
       "    .dataframe tbody tr th:only-of-type {\n",
       "        vertical-align: middle;\n",
       "    }\n",
       "\n",
       "    .dataframe tbody tr th {\n",
       "        vertical-align: top;\n",
       "    }\n",
       "\n",
       "    .dataframe thead th {\n",
       "        text-align: right;\n",
       "    }\n",
       "</style>\n",
       "<table border=\"1\" class=\"dataframe\">\n",
       "  <thead>\n",
       "    <tr style=\"text-align: right;\">\n",
       "      <th></th>\n",
       "      <th>name</th>\n",
       "      <th>inst</th>\n",
       "    </tr>\n",
       "  </thead>\n",
       "  <tbody>\n",
       "    <tr>\n",
       "      <th>0</th>\n",
       "      <td>George</td>\n",
       "      <td>Bass</td>\n",
       "    </tr>\n",
       "    <tr>\n",
       "      <th>1</th>\n",
       "      <td>Paul</td>\n",
       "      <td>Guitar</td>\n",
       "    </tr>\n",
       "  </tbody>\n",
       "</table>\n",
       "</div>"
      ],
      "text/plain": [
       "     name    inst\n",
       "0  George    Bass\n",
       "1    Paul  Guitar"
      ]
     },
     "execution_count": 66,
     "metadata": {},
     "output_type": "execute_result"
    }
   ],
   "source": [
    "X_cat"
   ]
  },
  {
   "cell_type": "code",
   "execution_count": 67,
   "id": "a262b374",
   "metadata": {},
   "outputs": [
    {
     "data": {
      "text/html": [
       "<div>\n",
       "<style scoped>\n",
       "    .dataframe tbody tr th:only-of-type {\n",
       "        vertical-align: middle;\n",
       "    }\n",
       "\n",
       "    .dataframe tbody tr th {\n",
       "        vertical-align: top;\n",
       "    }\n",
       "\n",
       "    .dataframe thead th {\n",
       "        text-align: right;\n",
       "    }\n",
       "</style>\n",
       "<table border=\"1\" class=\"dataframe\">\n",
       "  <thead>\n",
       "    <tr style=\"text-align: right;\">\n",
       "      <th></th>\n",
       "      <th>name_Paul</th>\n",
       "      <th>inst_Guitar</th>\n",
       "    </tr>\n",
       "  </thead>\n",
       "  <tbody>\n",
       "    <tr>\n",
       "      <th>0</th>\n",
       "      <td>0</td>\n",
       "      <td>0</td>\n",
       "    </tr>\n",
       "    <tr>\n",
       "      <th>1</th>\n",
       "      <td>1</td>\n",
       "      <td>1</td>\n",
       "    </tr>\n",
       "  </tbody>\n",
       "</table>\n",
       "</div>"
      ],
      "text/plain": [
       "   name_Paul  inst_Guitar\n",
       "0          0            0\n",
       "1          1            1"
      ]
     },
     "execution_count": 67,
     "metadata": {},
     "output_type": "execute_result"
    }
   ],
   "source": [
    "pd.get_dummies(X_cat, drop_first=True)"
   ]
  },
  {
   "cell_type": "code",
   "execution_count": 68,
   "id": "30414de7",
   "metadata": {},
   "outputs": [],
   "source": [
    "import janitor as jn"
   ]
  },
  {
   "cell_type": "code",
   "execution_count": 69,
   "id": "6d9b413c",
   "metadata": {},
   "outputs": [],
   "source": [
    "X_cat2 = pd.DataFrame({\n",
    "    'names': ['Fred', 'George', 'John' ,'Paul'],\n",
    "})"
   ]
  },
  {
   "cell_type": "code",
   "execution_count": 70,
   "id": "cedc2612",
   "metadata": {},
   "outputs": [
    {
     "data": {
      "text/html": [
       "<div>\n",
       "<style scoped>\n",
       "    .dataframe tbody tr th:only-of-type {\n",
       "        vertical-align: middle;\n",
       "    }\n",
       "\n",
       "    .dataframe tbody tr th {\n",
       "        vertical-align: top;\n",
       "    }\n",
       "\n",
       "    .dataframe thead th {\n",
       "        text-align: right;\n",
       "    }\n",
       "</style>\n",
       "<table border=\"1\" class=\"dataframe\">\n",
       "  <thead>\n",
       "    <tr style=\"text-align: right;\">\n",
       "      <th></th>\n",
       "      <th>names</th>\n",
       "      <th>Fred</th>\n",
       "      <th>George</th>\n",
       "      <th>John</th>\n",
       "      <th>Paul</th>\n",
       "    </tr>\n",
       "  </thead>\n",
       "  <tbody>\n",
       "    <tr>\n",
       "      <th>0</th>\n",
       "      <td>Fred</td>\n",
       "      <td>1</td>\n",
       "      <td>0</td>\n",
       "      <td>0</td>\n",
       "      <td>0</td>\n",
       "    </tr>\n",
       "    <tr>\n",
       "      <th>1</th>\n",
       "      <td>George</td>\n",
       "      <td>0</td>\n",
       "      <td>1</td>\n",
       "      <td>0</td>\n",
       "      <td>0</td>\n",
       "    </tr>\n",
       "    <tr>\n",
       "      <th>2</th>\n",
       "      <td>John</td>\n",
       "      <td>0</td>\n",
       "      <td>0</td>\n",
       "      <td>1</td>\n",
       "      <td>0</td>\n",
       "    </tr>\n",
       "    <tr>\n",
       "      <th>3</th>\n",
       "      <td>Paul</td>\n",
       "      <td>0</td>\n",
       "      <td>0</td>\n",
       "      <td>0</td>\n",
       "      <td>1</td>\n",
       "    </tr>\n",
       "  </tbody>\n",
       "</table>\n",
       "</div>"
      ],
      "text/plain": [
       "    names  Fred  George  John  Paul\n",
       "0    Fred     1       0     0     0\n",
       "1  George     0       1     0     0\n",
       "2    John     0       0     1     0\n",
       "3    Paul     0       0     0     1"
      ]
     },
     "execution_count": 70,
     "metadata": {},
     "output_type": "execute_result"
    }
   ],
   "source": [
    "jn.expand_column(X_cat2, 'names', sep=',')"
   ]
  },
  {
   "cell_type": "markdown",
   "id": "6c53f03a",
   "metadata": {},
   "source": [
    "If we have high cardinality nominal data, we can use _label encoding_."
   ]
  },
  {
   "cell_type": "markdown",
   "id": "c5db8c33",
   "metadata": {},
   "source": [
    "## Label Encoding"
   ]
  },
  {
   "cell_type": "markdown",
   "id": "98b49e52",
   "metadata": {},
   "source": [
    "An alternative to dummy variable encoding is label encoding. This will take categorical data and assign each value a number. It is useful for high cardinality data. This encoder imposes ordinality, which may or may not be desired. It can take up less space than one-hot encoding and some (tree) algorithms can deal with this encoding."
   ]
  },
  {
   "cell_type": "code",
   "execution_count": 71,
   "id": "d70c4bfb",
   "metadata": {},
   "outputs": [],
   "source": [
    "from sklearn import preprocessing"
   ]
  },
  {
   "cell_type": "code",
   "execution_count": 72,
   "id": "7cefdc8e",
   "metadata": {},
   "outputs": [
    {
     "data": {
      "text/plain": [
       "array([0, 1])"
      ]
     },
     "execution_count": 72,
     "metadata": {},
     "output_type": "execute_result"
    }
   ],
   "source": [
    "lab = preprocessing.LabelEncoder()\n",
    "lab.fit_transform(X_cat['inst'])"
   ]
  },
  {
   "cell_type": "code",
   "execution_count": 73,
   "id": "ea74c02d",
   "metadata": {},
   "outputs": [
    {
     "data": {
      "text/plain": [
       "array(['Guitar', 'Guitar', 'Bass'], dtype=object)"
      ]
     },
     "execution_count": 73,
     "metadata": {},
     "output_type": "execute_result"
    }
   ],
   "source": [
    "lab.inverse_transform([1,1,0])"
   ]
  },
  {
   "cell_type": "markdown",
   "id": "cd09dbaf",
   "metadata": {},
   "source": [
    "You can also use pandas to label encode. First, you convert the column to a categorical column type, and then pull out the numeric code from it.\n",
    "This code will create a new series of numeric data from a pandas series. We use `.as_ordered` method to ensure that the category is ordered:"
   ]
  },
  {
   "cell_type": "code",
   "execution_count": 74,
   "id": "088fb6d5",
   "metadata": {},
   "outputs": [
    {
     "data": {
      "text/plain": [
       "0    1\n",
       "1    2\n",
       "dtype: int8"
      ]
     },
     "execution_count": 74,
     "metadata": {},
     "output_type": "execute_result"
    }
   ],
   "source": [
    "X_cat.name.astype(\n",
    "    'category').cat.as_ordered().cat.codes +1 "
   ]
  },
  {
   "cell_type": "markdown",
   "id": "92251459",
   "metadata": {},
   "source": [
    "## Frequency Encoding "
   ]
  },
  {
   "cell_type": "markdown",
   "id": "928e45da",
   "metadata": {},
   "source": [
    "Another option for handling high cardinality cateforical data is to _frequency encode_ it. This means replacing the name of the category with the count it had in the training data. We will use pandas to do this. \n",
    "\n",
    "First, we will use the pandas `.value_counts` method to make a mapping ( a pandas series that maps strings to counts). With the mapping we can use the `.map` method to do the encoding. "
   ]
  },
  {
   "cell_type": "code",
   "execution_count": 75,
   "id": "d28d28bf",
   "metadata": {},
   "outputs": [
    {
     "data": {
      "text/plain": [
       "0    1\n",
       "1    1\n",
       "Name: name, dtype: int64"
      ]
     },
     "execution_count": 75,
     "metadata": {},
     "output_type": "execute_result"
    }
   ],
   "source": [
    "mapping = X_cat.name.value_counts()\n",
    "X_cat.name.map(mapping)"
   ]
  },
  {
   "cell_type": "markdown",
   "id": "bb046abf",
   "metadata": {},
   "source": [
    "Make sure you store the training mapping so you can encode future data with the same data. "
   ]
  },
  {
   "cell_type": "markdown",
   "id": "493dd181",
   "metadata": {},
   "source": [
    "## Pulling cateogries from Strings"
   ]
  },
  {
   "cell_type": "markdown",
   "id": "32e48fc9",
   "metadata": {},
   "source": [
    "One way to increase the accuracy of the Titanic model is to pull out titles from the names. A quick hack to find the most common triples is to use the `Counter` class:"
   ]
  },
  {
   "cell_type": "code",
   "execution_count": 76,
   "id": "31920062",
   "metadata": {},
   "outputs": [],
   "source": [
    "from collections import Counter"
   ]
  },
  {
   "cell_type": "code",
   "execution_count": 77,
   "id": "df4a656a",
   "metadata": {},
   "outputs": [],
   "source": [
    "c = Counter()"
   ]
  },
  {
   "cell_type": "code",
   "execution_count": 78,
   "id": "773c52c1",
   "metadata": {},
   "outputs": [],
   "source": [
    "def triples(val):\n",
    "    for i in range(len(val)):\n",
    "        c[val[i:i+3]] += 1 "
   ]
  },
  {
   "cell_type": "code",
   "execution_count": 79,
   "id": "8514a678",
   "metadata": {},
   "outputs": [],
   "source": [
    "df = pd.read_excel('titanic3.xls')"
   ]
  },
  {
   "cell_type": "code",
   "execution_count": 80,
   "id": "7af110bc",
   "metadata": {},
   "outputs": [
    {
     "data": {
      "text/plain": [
       "0       None\n",
       "1       None\n",
       "2       None\n",
       "3       None\n",
       "4       None\n",
       "        ... \n",
       "1304    None\n",
       "1305    None\n",
       "1306    None\n",
       "1307    None\n",
       "1308    None\n",
       "Name: name, Length: 1309, dtype: object"
      ]
     },
     "execution_count": 80,
     "metadata": {},
     "output_type": "execute_result"
    }
   ],
   "source": [
    "df.name.apply(triples)"
   ]
  },
  {
   "cell_type": "code",
   "execution_count": 81,
   "id": "31b22021",
   "metadata": {},
   "outputs": [
    {
     "data": {
      "text/plain": [
       "[(', M', 1282),\n",
       " (' Mr', 954),\n",
       " ('r. ', 830),\n",
       " ('Mr.', 757),\n",
       " ('s. ', 460),\n",
       " ('n, ', 320),\n",
       " (' Mi', 283),\n",
       " ('iss', 261),\n",
       " ('ss.', 261),\n",
       " ('Mis', 260)]"
      ]
     },
     "execution_count": 81,
     "metadata": {},
     "output_type": "execute_result"
    }
   ],
   "source": [
    "c.most_common(10)"
   ]
  },
  {
   "cell_type": "markdown",
   "id": "eb9ae49f",
   "metadata": {},
   "source": [
    "Another option is to use a regular expression to pull out the capital letter followed by lowercaseletters and a period:"
   ]
  },
  {
   "cell_type": "code",
   "execution_count": 82,
   "id": "fecbd2a6",
   "metadata": {},
   "outputs": [
    {
     "data": {
      "text/plain": [
       "0      Miss\n",
       "1    Master\n",
       "2      Miss\n",
       "3        Mr\n",
       "4       Mrs\n",
       "Name: name, dtype: object"
      ]
     },
     "execution_count": 82,
     "metadata": {},
     "output_type": "execute_result"
    }
   ],
   "source": [
    "df.name.str.extract(\n",
    "                    '([A-Za-z]+)\\.', expand = False).head()"
   ]
  },
  {
   "cell_type": "markdown",
   "id": "1459de9e",
   "metadata": {},
   "source": [
    "We can use `.value_counts` to see the frequency of these:"
   ]
  },
  {
   "cell_type": "code",
   "execution_count": 83,
   "id": "7f6e22cc",
   "metadata": {},
   "outputs": [
    {
     "data": {
      "text/plain": [
       "Mr          757\n",
       "Miss        260\n",
       "Mrs         197\n",
       "Master       61\n",
       "Rev           8\n",
       "Dr            8\n",
       "Col           4\n",
       "Mlle          2\n",
       "Ms            2\n",
       "Major         2\n",
       "Capt          1\n",
       "Sir           1\n",
       "Dona          1\n",
       "Jonkheer      1\n",
       "Countess      1\n",
       "Don           1\n",
       "Mme           1\n",
       "Lady          1\n",
       "Name: name, dtype: int64"
      ]
     },
     "execution_count": 83,
     "metadata": {},
     "output_type": "execute_result"
    }
   ],
   "source": [
    "df.name.str.extract(\n",
    "                    '([A-Za-z]+)\\.', expand = False).value_counts()"
   ]
  },
  {
   "cell_type": "markdown",
   "id": "362f83e9",
   "metadata": {},
   "source": [
    "Using these manipulations and pandas, you can create dummy variables or combine columns with low counts into other categories (or drop them)"
   ]
  },
  {
   "cell_type": "markdown",
   "id": "479ccfd1",
   "metadata": {},
   "source": [
    "## Other Categorical encoding"
   ]
  },
  {
   "cell_type": "markdown",
   "id": "2a0b2ae7",
   "metadata": {},
   "source": [
    "The `categorical_encoding` library used to convert categorical data into numeric data. \n",
    "\n",
    "\n",
    "One algorigthm implemented in the library is a hash encoder. This is useful if tou do not know how many categories you have ahead of time or if you are using a bag of words to represent text. This will hash the categorical columns into `n_components`. \n",
    "If you are using online learning this can be very helpful:"
   ]
  },
  {
   "cell_type": "code",
   "execution_count": 84,
   "id": "64e2bf89",
   "metadata": {},
   "outputs": [],
   "source": [
    "#! pip install category_encoders"
   ]
  },
  {
   "cell_type": "code",
   "execution_count": 85,
   "id": "281f43ae",
   "metadata": {},
   "outputs": [],
   "source": [
    "import category_encoders as ce"
   ]
  },
  {
   "cell_type": "code",
   "execution_count": 86,
   "id": "d3191e33",
   "metadata": {},
   "outputs": [
    {
     "data": {
      "text/html": [
       "<div>\n",
       "<style scoped>\n",
       "    .dataframe tbody tr th:only-of-type {\n",
       "        vertical-align: middle;\n",
       "    }\n",
       "\n",
       "    .dataframe tbody tr th {\n",
       "        vertical-align: top;\n",
       "    }\n",
       "\n",
       "    .dataframe thead th {\n",
       "        text-align: right;\n",
       "    }\n",
       "</style>\n",
       "<table border=\"1\" class=\"dataframe\">\n",
       "  <thead>\n",
       "    <tr style=\"text-align: right;\">\n",
       "      <th></th>\n",
       "      <th>col_0</th>\n",
       "      <th>col_1</th>\n",
       "      <th>col_2</th>\n",
       "      <th>col_3</th>\n",
       "      <th>col_4</th>\n",
       "      <th>col_5</th>\n",
       "      <th>col_6</th>\n",
       "      <th>col_7</th>\n",
       "    </tr>\n",
       "  </thead>\n",
       "  <tbody>\n",
       "    <tr>\n",
       "      <th>0</th>\n",
       "      <td>0</td>\n",
       "      <td>0</td>\n",
       "      <td>0</td>\n",
       "      <td>1</td>\n",
       "      <td>0</td>\n",
       "      <td>1</td>\n",
       "      <td>0</td>\n",
       "      <td>0</td>\n",
       "    </tr>\n",
       "    <tr>\n",
       "      <th>1</th>\n",
       "      <td>0</td>\n",
       "      <td>2</td>\n",
       "      <td>0</td>\n",
       "      <td>0</td>\n",
       "      <td>0</td>\n",
       "      <td>0</td>\n",
       "      <td>0</td>\n",
       "      <td>0</td>\n",
       "    </tr>\n",
       "  </tbody>\n",
       "</table>\n",
       "</div>"
      ],
      "text/plain": [
       "   col_0  col_1  col_2  col_3  col_4  col_5  col_6  col_7\n",
       "0      0      0      0      1      0      1      0      0\n",
       "1      0      2      0      0      0      0      0      0"
      ]
     },
     "execution_count": 86,
     "metadata": {},
     "output_type": "execute_result"
    }
   ],
   "source": [
    "he = ce.HashingEncoder(verbose=1)\n",
    "he.fit_transform(X_cat)"
   ]
  },
  {
   "cell_type": "markdown",
   "id": "c5b9c794",
   "metadata": {},
   "source": [
    "The ordinal encoder can convert categorical columns that have order to a single column of numbers. Here we convert the size column to ordinal numbers. If a value is missing from the mapping dictionary, the default value of -1 is used: "
   ]
  },
  {
   "cell_type": "code",
   "execution_count": 87,
   "id": "e3749e50",
   "metadata": {},
   "outputs": [],
   "source": [
    "size_df = pd.DataFrame({\n",
    "    'name': ['Fred', 'John','Matt'],\n",
    "    'size': ['small', 'med','xxl']\n",
    "})\n",
    "ore = ce.OrdinalEncoder(\n",
    "                        mapping = [{\n",
    "                            'col': 'size',\n",
    "                            'mapping':{\n",
    "                                'small':1,\n",
    "                                'med':2,\n",
    "                                'lg':3\n",
    "                            }\n",
    "                        }])"
   ]
  },
  {
   "cell_type": "code",
   "execution_count": 88,
   "id": "e4de522f",
   "metadata": {},
   "outputs": [
    {
     "data": {
      "text/html": [
       "<div>\n",
       "<style scoped>\n",
       "    .dataframe tbody tr th:only-of-type {\n",
       "        vertical-align: middle;\n",
       "    }\n",
       "\n",
       "    .dataframe tbody tr th {\n",
       "        vertical-align: top;\n",
       "    }\n",
       "\n",
       "    .dataframe thead th {\n",
       "        text-align: right;\n",
       "    }\n",
       "</style>\n",
       "<table border=\"1\" class=\"dataframe\">\n",
       "  <thead>\n",
       "    <tr style=\"text-align: right;\">\n",
       "      <th></th>\n",
       "      <th>name</th>\n",
       "      <th>size</th>\n",
       "    </tr>\n",
       "  </thead>\n",
       "  <tbody>\n",
       "    <tr>\n",
       "      <th>0</th>\n",
       "      <td>Fred</td>\n",
       "      <td>1.0</td>\n",
       "    </tr>\n",
       "    <tr>\n",
       "      <th>1</th>\n",
       "      <td>John</td>\n",
       "      <td>2.0</td>\n",
       "    </tr>\n",
       "    <tr>\n",
       "      <th>2</th>\n",
       "      <td>Matt</td>\n",
       "      <td>-1.0</td>\n",
       "    </tr>\n",
       "  </tbody>\n",
       "</table>\n",
       "</div>"
      ],
      "text/plain": [
       "   name  size\n",
       "0  Fred   1.0\n",
       "1  John   2.0\n",
       "2  Matt  -1.0"
      ]
     },
     "execution_count": 88,
     "metadata": {},
     "output_type": "execute_result"
    }
   ],
   "source": [
    "ore.fit_transform(size_df)"
   ]
  },
  {
   "cell_type": "markdown",
   "id": "bfea04b5",
   "metadata": {},
   "source": [
    "If you have high cardinality data ( a large number of unique values) consider using one of the Bayesina encoders that output a single column pr categorical column. These are: \n",
    "* `TargetEncoder`\n",
    "* `LeaveOneOutEncoder`\n",
    "* `WOEEncoder`\n",
    "* `JamesSteinEncoder`\n",
    "* `MEstimateEncoder`"
   ]
  },
  {
   "cell_type": "markdown",
   "id": "c5a7ccb8",
   "metadata": {},
   "source": [
    "For example, to convert the Titanic survival column to a blend of posterior probability of the target and the prior probability given the title (categorical) information, use the following code:"
   ]
  },
  {
   "cell_type": "code",
   "execution_count": 89,
   "id": "20dd3f8e",
   "metadata": {},
   "outputs": [],
   "source": [
    "def get_title(df):\n",
    "    return df.name.str.extract('([A-Za-z]+)\\.', expand = False)"
   ]
  },
  {
   "cell_type": "code",
   "execution_count": 90,
   "id": "107e85e3",
   "metadata": {},
   "outputs": [
    {
     "name": "stderr",
     "output_type": "stream",
     "text": [
      "C:\\Users\\alber\\anaconda3\\lib\\site-packages\\category_encoders\\utils.py:21: FutureWarning: is_categorical is deprecated and will be removed in a future version.  Use is_categorical_dtype instead\n",
      "  elif pd.api.types.is_categorical(cols):\n"
     ]
    },
    {
     "data": {
      "text/plain": [
       "0    0.676923\n",
       "1    0.508197\n",
       "2    0.676923\n",
       "3    0.162483\n",
       "4    0.786802\n",
       "Name: Title, dtype: float64"
      ]
     },
     "execution_count": 90,
     "metadata": {},
     "output_type": "execute_result"
    }
   ],
   "source": [
    "te = ce.TargetEncoder(cols='Title')\n",
    "te.fit_transform(\n",
    "                df.assign(Title = get_title), df.survived)['Title'].head()"
   ]
  },
  {
   "cell_type": "markdown",
   "id": "d69b46d8",
   "metadata": {},
   "source": [
    "## Date Feature Engineering "
   ]
  },
  {
   "cell_type": "markdown",
   "id": "5421a425",
   "metadata": {},
   "source": [
    "The `fastai` libraru has an `add_datepart` function that will generate data attribute columns based on a datetime columns based on a datetime column. This is useful as most machine learning algorithms would not be able to infer this type of signal from a numeric representation of a date:"
   ]
  },
  {
   "cell_type": "code",
   "execution_count": 91,
   "id": "33f5d156",
   "metadata": {},
   "outputs": [],
   "source": [
    "from fastai import *\n",
    "from fastai.torch_basics import *\n",
    "from fastai.data.all import *"
   ]
  },
  {
   "cell_type": "code",
   "execution_count": 92,
   "id": "1091e349",
   "metadata": {},
   "outputs": [],
   "source": [
    "dates = pd.DataFrame({\n",
    "    'A': pd.to_datetime(['9/17/2001', 'Jan 1, 2002'], \n",
    "                       )\n",
    "})"
   ]
  },
  {
   "cell_type": "code",
   "execution_count": 93,
   "id": "bb3faf28",
   "metadata": {},
   "outputs": [],
   "source": [
    "#export\n",
    "def make_date(df, date_field):\n",
    "    \"Make sure `df[date_field]` is of the right date type.\"\n",
    "    field_dtype = df[date_field].dtype\n",
    "    if isinstance(field_dtype, pd.core.dtypes.dtypes.DatetimeTZDtype):\n",
    "        field_dtype = np.datetime64\n",
    "    if not np.issubdtype(field_dtype, np.datetime64):\n",
    "        df[date_field] = pd.to_datetime(df[date_field], infer_datetime_format=True)"
   ]
  },
  {
   "cell_type": "code",
   "execution_count": 94,
   "id": "5ae8ecac",
   "metadata": {},
   "outputs": [],
   "source": [
    "#export\n",
    "def add_datepart(df, field_name, prefix=None, drop=True, time=False):\n",
    "    \"Helper function that adds columns relevant to a date in the column `field_name` of `df`.\"\n",
    "    make_date(df, field_name)\n",
    "    field = df[field_name]\n",
    "    prefix = ifnone(prefix, re.sub('[Dd]ate$', '', field_name))\n",
    "    attr = ['Year', 'Month', 'Week', 'Day', 'Dayofweek', 'Dayofyear', 'Is_month_end', 'Is_month_start',\n",
    "            'Is_quarter_end', 'Is_quarter_start', 'Is_year_end', 'Is_year_start']\n",
    "    if time: attr = attr + ['Hour', 'Minute', 'Second']\n",
    "    # Pandas removed `dt.week` in v1.1.10\n",
    "    week = field.dt.isocalendar().week.astype(field.dt.day.dtype) if hasattr(field.dt, 'isocalendar') else field.dt.week\n",
    "    for n in attr: df[prefix + n] = getattr(field.dt, n.lower()) if n != 'Week' else week\n",
    "    mask = ~field.isna()\n",
    "    df[prefix + 'Elapsed'] = np.where(mask,field.values.astype(np.int64) // 10 ** 9,np.nan)\n",
    "    if drop: df.drop(field_name, axis=1, inplace=True)\n",
    "    return df"
   ]
  },
  {
   "cell_type": "code",
   "execution_count": 95,
   "id": "4c2b45a8",
   "metadata": {},
   "outputs": [
    {
     "data": {
      "text/html": [
       "<div>\n",
       "<style scoped>\n",
       "    .dataframe tbody tr th:only-of-type {\n",
       "        vertical-align: middle;\n",
       "    }\n",
       "\n",
       "    .dataframe tbody tr th {\n",
       "        vertical-align: top;\n",
       "    }\n",
       "\n",
       "    .dataframe thead th {\n",
       "        text-align: right;\n",
       "    }\n",
       "</style>\n",
       "<table border=\"1\" class=\"dataframe\">\n",
       "  <thead>\n",
       "    <tr style=\"text-align: right;\">\n",
       "      <th></th>\n",
       "      <th>AYear</th>\n",
       "      <th>AMonth</th>\n",
       "      <th>AWeek</th>\n",
       "      <th>ADay</th>\n",
       "      <th>ADayofweek</th>\n",
       "      <th>ADayofyear</th>\n",
       "      <th>AIs_month_end</th>\n",
       "      <th>AIs_month_start</th>\n",
       "      <th>AIs_quarter_end</th>\n",
       "      <th>AIs_quarter_start</th>\n",
       "      <th>AIs_year_end</th>\n",
       "      <th>AIs_year_start</th>\n",
       "      <th>AElapsed</th>\n",
       "    </tr>\n",
       "  </thead>\n",
       "  <tbody>\n",
       "    <tr>\n",
       "      <th>0</th>\n",
       "      <td>2001</td>\n",
       "      <td>9</td>\n",
       "      <td>38</td>\n",
       "      <td>17</td>\n",
       "      <td>0</td>\n",
       "      <td>260</td>\n",
       "      <td>False</td>\n",
       "      <td>False</td>\n",
       "      <td>False</td>\n",
       "      <td>False</td>\n",
       "      <td>False</td>\n",
       "      <td>False</td>\n",
       "      <td>1.000685e+09</td>\n",
       "    </tr>\n",
       "    <tr>\n",
       "      <th>1</th>\n",
       "      <td>2002</td>\n",
       "      <td>1</td>\n",
       "      <td>1</td>\n",
       "      <td>1</td>\n",
       "      <td>1</td>\n",
       "      <td>1</td>\n",
       "      <td>False</td>\n",
       "      <td>True</td>\n",
       "      <td>False</td>\n",
       "      <td>True</td>\n",
       "      <td>False</td>\n",
       "      <td>True</td>\n",
       "      <td>1.009843e+09</td>\n",
       "    </tr>\n",
       "  </tbody>\n",
       "</table>\n",
       "</div>"
      ],
      "text/plain": [
       "   AYear  AMonth  AWeek  ADay  ADayofweek  ADayofyear  AIs_month_end  \\\n",
       "0   2001       9     38    17           0         260          False   \n",
       "1   2002       1      1     1           1           1          False   \n",
       "\n",
       "   AIs_month_start  AIs_quarter_end  AIs_quarter_start  AIs_year_end  \\\n",
       "0            False            False              False         False   \n",
       "1             True            False               True         False   \n",
       "\n",
       "   AIs_year_start      AElapsed  \n",
       "0           False  1.000685e+09  \n",
       "1            True  1.009843e+09  "
      ]
     },
     "execution_count": 95,
     "metadata": {},
     "output_type": "execute_result"
    }
   ],
   "source": [
    "add_datepart(dates, 'A')"
   ]
  },
  {
   "cell_type": "markdown",
   "id": "530e6308",
   "metadata": {},
   "source": [
    "https://docs.fast.ai/tabular.core.html#add_datepart"
   ]
  },
  {
   "cell_type": "markdown",
   "id": "f5b8e980",
   "metadata": {},
   "source": [
    "__Warning__: `add_datepart` mutates the DataFrame, which pandas can do, but normally does not!"
   ]
  },
  {
   "cell_type": "markdown",
   "id": "31afbc79",
   "metadata": {},
   "source": [
    "## Add col_na Feature"
   ]
  },
  {
   "cell_type": "markdown",
   "id": "c81d56de",
   "metadata": {},
   "source": [
    "The `fastai` library used to have a function for creating a column to fill a missing value (with the median) and indicate that a value was missing. There might be some signal in knowing that a value is missing. Here is a copy of the function and an example using it:"
   ]
  },
  {
   "cell_type": "code",
   "execution_count": 96,
   "id": "8f0b2faf",
   "metadata": {},
   "outputs": [],
   "source": [
    "from pandas.api.types import is_numeric_dtype"
   ]
  },
  {
   "cell_type": "code",
   "execution_count": 97,
   "id": "98392377",
   "metadata": {},
   "outputs": [],
   "source": [
    "def fiz_missing(df,col,name,na_dict):\n",
    "    if is_numeric_dtype(col):\n",
    "        if pd.isnull(col).sum() or (name in na_dict):\n",
    "            df[name + '_na'] = pd.isnull(col)\n",
    "            filler = (na_dict[name] if name in na_dict else col.median())\n",
    "            df[name] = col.fillna(filler)\n",
    "            na_dict[name] = filler\n",
    "            return na_dict"
   ]
  },
  {
   "cell_type": "code",
   "execution_count": 98,
   "id": "84837b1e",
   "metadata": {},
   "outputs": [],
   "source": [
    "data = pd.DataFrame({'A':[0,None,5,100]})"
   ]
  },
  {
   "cell_type": "code",
   "execution_count": 99,
   "id": "52ea36c9",
   "metadata": {},
   "outputs": [
    {
     "data": {
      "text/plain": [
       "{'A': 5.0}"
      ]
     },
     "execution_count": 99,
     "metadata": {},
     "output_type": "execute_result"
    }
   ],
   "source": [
    "fiz_missing(data, data.A, 'A', {})"
   ]
  },
  {
   "cell_type": "code",
   "execution_count": 100,
   "id": "c1de122e",
   "metadata": {},
   "outputs": [
    {
     "data": {
      "text/html": [
       "<div>\n",
       "<style scoped>\n",
       "    .dataframe tbody tr th:only-of-type {\n",
       "        vertical-align: middle;\n",
       "    }\n",
       "\n",
       "    .dataframe tbody tr th {\n",
       "        vertical-align: top;\n",
       "    }\n",
       "\n",
       "    .dataframe thead th {\n",
       "        text-align: right;\n",
       "    }\n",
       "</style>\n",
       "<table border=\"1\" class=\"dataframe\">\n",
       "  <thead>\n",
       "    <tr style=\"text-align: right;\">\n",
       "      <th></th>\n",
       "      <th>A</th>\n",
       "      <th>A_na</th>\n",
       "    </tr>\n",
       "  </thead>\n",
       "  <tbody>\n",
       "    <tr>\n",
       "      <th>0</th>\n",
       "      <td>0.0</td>\n",
       "      <td>False</td>\n",
       "    </tr>\n",
       "    <tr>\n",
       "      <th>1</th>\n",
       "      <td>5.0</td>\n",
       "      <td>True</td>\n",
       "    </tr>\n",
       "    <tr>\n",
       "      <th>2</th>\n",
       "      <td>5.0</td>\n",
       "      <td>False</td>\n",
       "    </tr>\n",
       "    <tr>\n",
       "      <th>3</th>\n",
       "      <td>100.0</td>\n",
       "      <td>False</td>\n",
       "    </tr>\n",
       "  </tbody>\n",
       "</table>\n",
       "</div>"
      ],
      "text/plain": [
       "       A   A_na\n",
       "0    0.0  False\n",
       "1    5.0   True\n",
       "2    5.0  False\n",
       "3  100.0  False"
      ]
     },
     "execution_count": 100,
     "metadata": {},
     "output_type": "execute_result"
    }
   ],
   "source": [
    "data"
   ]
  },
  {
   "cell_type": "markdown",
   "id": "46d65d66",
   "metadata": {},
   "source": [
    "Here is a pandas version "
   ]
  },
  {
   "cell_type": "code",
   "execution_count": 101,
   "id": "1d7a5604",
   "metadata": {},
   "outputs": [],
   "source": [
    "data = pd.DataFrame({'A':[0,None,5,100]})"
   ]
  },
  {
   "cell_type": "code",
   "execution_count": 102,
   "id": "91a4949a",
   "metadata": {},
   "outputs": [],
   "source": [
    "data['A_na'] = data.isnull()"
   ]
  },
  {
   "cell_type": "code",
   "execution_count": 103,
   "id": "eae9695c",
   "metadata": {},
   "outputs": [],
   "source": [
    "data['A'] = data.A.fillna(data.A.median())"
   ]
  },
  {
   "cell_type": "code",
   "execution_count": 104,
   "id": "ec78d824",
   "metadata": {},
   "outputs": [
    {
     "data": {
      "text/html": [
       "<div>\n",
       "<style scoped>\n",
       "    .dataframe tbody tr th:only-of-type {\n",
       "        vertical-align: middle;\n",
       "    }\n",
       "\n",
       "    .dataframe tbody tr th {\n",
       "        vertical-align: top;\n",
       "    }\n",
       "\n",
       "    .dataframe thead th {\n",
       "        text-align: right;\n",
       "    }\n",
       "</style>\n",
       "<table border=\"1\" class=\"dataframe\">\n",
       "  <thead>\n",
       "    <tr style=\"text-align: right;\">\n",
       "      <th></th>\n",
       "      <th>A</th>\n",
       "      <th>A_na</th>\n",
       "    </tr>\n",
       "  </thead>\n",
       "  <tbody>\n",
       "    <tr>\n",
       "      <th>0</th>\n",
       "      <td>0.0</td>\n",
       "      <td>False</td>\n",
       "    </tr>\n",
       "    <tr>\n",
       "      <th>1</th>\n",
       "      <td>5.0</td>\n",
       "      <td>True</td>\n",
       "    </tr>\n",
       "    <tr>\n",
       "      <th>2</th>\n",
       "      <td>5.0</td>\n",
       "      <td>False</td>\n",
       "    </tr>\n",
       "    <tr>\n",
       "      <th>3</th>\n",
       "      <td>100.0</td>\n",
       "      <td>False</td>\n",
       "    </tr>\n",
       "  </tbody>\n",
       "</table>\n",
       "</div>"
      ],
      "text/plain": [
       "       A   A_na\n",
       "0    0.0  False\n",
       "1    5.0   True\n",
       "2    5.0  False\n",
       "3  100.0  False"
      ]
     },
     "execution_count": 104,
     "metadata": {},
     "output_type": "execute_result"
    }
   ],
   "source": [
    "data"
   ]
  },
  {
   "cell_type": "markdown",
   "id": "55787a07",
   "metadata": {},
   "source": [
    "## Manual Feature Engineering"
   ]
  },
  {
   "cell_type": "markdown",
   "id": "9c13c329",
   "metadata": {},
   "source": [
    "We can use pandas to generate new features. For the Titanic dataset, we can add aggregate cabin data ( maximum age per cabin, mean ager per cabin etc...). To get aggregate data per cabin and mere it back in, use the pandas, `group_by` method to create the data. Then align it back to the original data using the `.merge` method:"
   ]
  },
  {
   "cell_type": "code",
   "execution_count": 105,
   "id": "673a1da5",
   "metadata": {},
   "outputs": [],
   "source": [
    "agg = (df.groupby('cabin').agg('min,max,mean,sum'.split(',')).reset_index())"
   ]
  },
  {
   "cell_type": "code",
   "execution_count": 106,
   "id": "aa6cb1a4",
   "metadata": {},
   "outputs": [],
   "source": [
    "agg.columns = ['_'.join(c).strip('_') for c in agg.columns.values]"
   ]
  },
  {
   "cell_type": "code",
   "execution_count": 107,
   "id": "2d219e46",
   "metadata": {},
   "outputs": [],
   "source": [
    "agg_df = df.merge(agg, on ='cabin')"
   ]
  },
  {
   "cell_type": "code",
   "execution_count": 108,
   "id": "4ff3ad3a",
   "metadata": {},
   "outputs": [
    {
     "data": {
      "text/html": [
       "<div>\n",
       "<style scoped>\n",
       "    .dataframe tbody tr th:only-of-type {\n",
       "        vertical-align: middle;\n",
       "    }\n",
       "\n",
       "    .dataframe tbody tr th {\n",
       "        vertical-align: top;\n",
       "    }\n",
       "\n",
       "    .dataframe thead th {\n",
       "        text-align: right;\n",
       "    }\n",
       "</style>\n",
       "<table border=\"1\" class=\"dataframe\">\n",
       "  <thead>\n",
       "    <tr style=\"text-align: right;\">\n",
       "      <th></th>\n",
       "      <th>pclass</th>\n",
       "      <th>survived</th>\n",
       "      <th>name</th>\n",
       "      <th>sex</th>\n",
       "      <th>age</th>\n",
       "      <th>sibsp</th>\n",
       "      <th>parch</th>\n",
       "      <th>ticket</th>\n",
       "      <th>fare</th>\n",
       "      <th>cabin</th>\n",
       "      <th>...</th>\n",
       "      <th>parch_mean</th>\n",
       "      <th>parch_sum</th>\n",
       "      <th>fare_min</th>\n",
       "      <th>fare_max</th>\n",
       "      <th>fare_mean</th>\n",
       "      <th>fare_sum</th>\n",
       "      <th>body_min</th>\n",
       "      <th>body_max</th>\n",
       "      <th>body_mean</th>\n",
       "      <th>body_sum</th>\n",
       "    </tr>\n",
       "  </thead>\n",
       "  <tbody>\n",
       "    <tr>\n",
       "      <th>0</th>\n",
       "      <td>1</td>\n",
       "      <td>1</td>\n",
       "      <td>Allen, Miss. Elisabeth Walton</td>\n",
       "      <td>female</td>\n",
       "      <td>29.0000</td>\n",
       "      <td>0</td>\n",
       "      <td>0</td>\n",
       "      <td>24160</td>\n",
       "      <td>211.3375</td>\n",
       "      <td>B5</td>\n",
       "      <td>...</td>\n",
       "      <td>0.5</td>\n",
       "      <td>1</td>\n",
       "      <td>211.3375</td>\n",
       "      <td>211.3375</td>\n",
       "      <td>211.3375</td>\n",
       "      <td>422.675</td>\n",
       "      <td>NaN</td>\n",
       "      <td>NaN</td>\n",
       "      <td>NaN</td>\n",
       "      <td>0.0</td>\n",
       "    </tr>\n",
       "    <tr>\n",
       "      <th>1</th>\n",
       "      <td>1</td>\n",
       "      <td>1</td>\n",
       "      <td>Madill, Miss. Georgette Alexandra</td>\n",
       "      <td>female</td>\n",
       "      <td>15.0000</td>\n",
       "      <td>0</td>\n",
       "      <td>1</td>\n",
       "      <td>24160</td>\n",
       "      <td>211.3375</td>\n",
       "      <td>B5</td>\n",
       "      <td>...</td>\n",
       "      <td>0.5</td>\n",
       "      <td>1</td>\n",
       "      <td>211.3375</td>\n",
       "      <td>211.3375</td>\n",
       "      <td>211.3375</td>\n",
       "      <td>422.675</td>\n",
       "      <td>NaN</td>\n",
       "      <td>NaN</td>\n",
       "      <td>NaN</td>\n",
       "      <td>0.0</td>\n",
       "    </tr>\n",
       "    <tr>\n",
       "      <th>2</th>\n",
       "      <td>1</td>\n",
       "      <td>1</td>\n",
       "      <td>Allison, Master. Hudson Trevor</td>\n",
       "      <td>male</td>\n",
       "      <td>0.9167</td>\n",
       "      <td>1</td>\n",
       "      <td>2</td>\n",
       "      <td>113781</td>\n",
       "      <td>151.5500</td>\n",
       "      <td>C22 C26</td>\n",
       "      <td>...</td>\n",
       "      <td>2.0</td>\n",
       "      <td>8</td>\n",
       "      <td>151.5500</td>\n",
       "      <td>151.5500</td>\n",
       "      <td>151.5500</td>\n",
       "      <td>606.200</td>\n",
       "      <td>135.0</td>\n",
       "      <td>135.0</td>\n",
       "      <td>135.0</td>\n",
       "      <td>135.0</td>\n",
       "    </tr>\n",
       "    <tr>\n",
       "      <th>3</th>\n",
       "      <td>1</td>\n",
       "      <td>0</td>\n",
       "      <td>Allison, Miss. Helen Loraine</td>\n",
       "      <td>female</td>\n",
       "      <td>2.0000</td>\n",
       "      <td>1</td>\n",
       "      <td>2</td>\n",
       "      <td>113781</td>\n",
       "      <td>151.5500</td>\n",
       "      <td>C22 C26</td>\n",
       "      <td>...</td>\n",
       "      <td>2.0</td>\n",
       "      <td>8</td>\n",
       "      <td>151.5500</td>\n",
       "      <td>151.5500</td>\n",
       "      <td>151.5500</td>\n",
       "      <td>606.200</td>\n",
       "      <td>135.0</td>\n",
       "      <td>135.0</td>\n",
       "      <td>135.0</td>\n",
       "      <td>135.0</td>\n",
       "    </tr>\n",
       "    <tr>\n",
       "      <th>4</th>\n",
       "      <td>1</td>\n",
       "      <td>0</td>\n",
       "      <td>Allison, Mr. Hudson Joshua Creighton</td>\n",
       "      <td>male</td>\n",
       "      <td>30.0000</td>\n",
       "      <td>1</td>\n",
       "      <td>2</td>\n",
       "      <td>113781</td>\n",
       "      <td>151.5500</td>\n",
       "      <td>C22 C26</td>\n",
       "      <td>...</td>\n",
       "      <td>2.0</td>\n",
       "      <td>8</td>\n",
       "      <td>151.5500</td>\n",
       "      <td>151.5500</td>\n",
       "      <td>151.5500</td>\n",
       "      <td>606.200</td>\n",
       "      <td>135.0</td>\n",
       "      <td>135.0</td>\n",
       "      <td>135.0</td>\n",
       "      <td>135.0</td>\n",
       "    </tr>\n",
       "    <tr>\n",
       "      <th>...</th>\n",
       "      <td>...</td>\n",
       "      <td>...</td>\n",
       "      <td>...</td>\n",
       "      <td>...</td>\n",
       "      <td>...</td>\n",
       "      <td>...</td>\n",
       "      <td>...</td>\n",
       "      <td>...</td>\n",
       "      <td>...</td>\n",
       "      <td>...</td>\n",
       "      <td>...</td>\n",
       "      <td>...</td>\n",
       "      <td>...</td>\n",
       "      <td>...</td>\n",
       "      <td>...</td>\n",
       "      <td>...</td>\n",
       "      <td>...</td>\n",
       "      <td>...</td>\n",
       "      <td>...</td>\n",
       "      <td>...</td>\n",
       "      <td>...</td>\n",
       "    </tr>\n",
       "    <tr>\n",
       "      <th>290</th>\n",
       "      <td>3</td>\n",
       "      <td>1</td>\n",
       "      <td>Sandstrom, Mrs. Hjalmar (Agnes Charlotta Bengtsson)</td>\n",
       "      <td>female</td>\n",
       "      <td>24.0000</td>\n",
       "      <td>0</td>\n",
       "      <td>2</td>\n",
       "      <td>PP 9549</td>\n",
       "      <td>16.7000</td>\n",
       "      <td>G6</td>\n",
       "      <td>...</td>\n",
       "      <td>1.2</td>\n",
       "      <td>6</td>\n",
       "      <td>10.4625</td>\n",
       "      <td>16.7000</td>\n",
       "      <td>14.2050</td>\n",
       "      <td>71.025</td>\n",
       "      <td>NaN</td>\n",
       "      <td>NaN</td>\n",
       "      <td>NaN</td>\n",
       "      <td>0.0</td>\n",
       "    </tr>\n",
       "    <tr>\n",
       "      <th>291</th>\n",
       "      <td>3</td>\n",
       "      <td>1</td>\n",
       "      <td>Sandstrom, Miss. Marguerite Rut</td>\n",
       "      <td>female</td>\n",
       "      <td>4.0000</td>\n",
       "      <td>1</td>\n",
       "      <td>1</td>\n",
       "      <td>PP 9549</td>\n",
       "      <td>16.7000</td>\n",
       "      <td>G6</td>\n",
       "      <td>...</td>\n",
       "      <td>1.2</td>\n",
       "      <td>6</td>\n",
       "      <td>10.4625</td>\n",
       "      <td>16.7000</td>\n",
       "      <td>14.2050</td>\n",
       "      <td>71.025</td>\n",
       "      <td>NaN</td>\n",
       "      <td>NaN</td>\n",
       "      <td>NaN</td>\n",
       "      <td>0.0</td>\n",
       "    </tr>\n",
       "    <tr>\n",
       "      <th>292</th>\n",
       "      <td>3</td>\n",
       "      <td>0</td>\n",
       "      <td>Strom, Miss. Telma Matilda</td>\n",
       "      <td>female</td>\n",
       "      <td>2.0000</td>\n",
       "      <td>0</td>\n",
       "      <td>1</td>\n",
       "      <td>347054</td>\n",
       "      <td>10.4625</td>\n",
       "      <td>G6</td>\n",
       "      <td>...</td>\n",
       "      <td>1.2</td>\n",
       "      <td>6</td>\n",
       "      <td>10.4625</td>\n",
       "      <td>16.7000</td>\n",
       "      <td>14.2050</td>\n",
       "      <td>71.025</td>\n",
       "      <td>NaN</td>\n",
       "      <td>NaN</td>\n",
       "      <td>NaN</td>\n",
       "      <td>0.0</td>\n",
       "    </tr>\n",
       "    <tr>\n",
       "      <th>293</th>\n",
       "      <td>3</td>\n",
       "      <td>0</td>\n",
       "      <td>Strom, Mrs. Wilhelm (Elna Matilda Persson)</td>\n",
       "      <td>female</td>\n",
       "      <td>29.0000</td>\n",
       "      <td>1</td>\n",
       "      <td>1</td>\n",
       "      <td>347054</td>\n",
       "      <td>10.4625</td>\n",
       "      <td>G6</td>\n",
       "      <td>...</td>\n",
       "      <td>1.2</td>\n",
       "      <td>6</td>\n",
       "      <td>10.4625</td>\n",
       "      <td>16.7000</td>\n",
       "      <td>14.2050</td>\n",
       "      <td>71.025</td>\n",
       "      <td>NaN</td>\n",
       "      <td>NaN</td>\n",
       "      <td>NaN</td>\n",
       "      <td>0.0</td>\n",
       "    </tr>\n",
       "    <tr>\n",
       "      <th>294</th>\n",
       "      <td>3</td>\n",
       "      <td>0</td>\n",
       "      <td>Tobin, Mr. Roger</td>\n",
       "      <td>male</td>\n",
       "      <td>NaN</td>\n",
       "      <td>0</td>\n",
       "      <td>0</td>\n",
       "      <td>383121</td>\n",
       "      <td>7.7500</td>\n",
       "      <td>F38</td>\n",
       "      <td>...</td>\n",
       "      <td>0.0</td>\n",
       "      <td>0</td>\n",
       "      <td>7.7500</td>\n",
       "      <td>7.7500</td>\n",
       "      <td>7.7500</td>\n",
       "      <td>7.750</td>\n",
       "      <td>NaN</td>\n",
       "      <td>NaN</td>\n",
       "      <td>NaN</td>\n",
       "      <td>0.0</td>\n",
       "    </tr>\n",
       "  </tbody>\n",
       "</table>\n",
       "<p>295 rows × 42 columns</p>\n",
       "</div>"
      ],
      "text/plain": [
       "     pclass  survived                                                 name  \\\n",
       "0         1         1                        Allen, Miss. Elisabeth Walton   \n",
       "1         1         1                    Madill, Miss. Georgette Alexandra   \n",
       "2         1         1                       Allison, Master. Hudson Trevor   \n",
       "3         1         0                         Allison, Miss. Helen Loraine   \n",
       "4         1         0                 Allison, Mr. Hudson Joshua Creighton   \n",
       "..      ...       ...                                                  ...   \n",
       "290       3         1  Sandstrom, Mrs. Hjalmar (Agnes Charlotta Bengtsson)   \n",
       "291       3         1                      Sandstrom, Miss. Marguerite Rut   \n",
       "292       3         0                           Strom, Miss. Telma Matilda   \n",
       "293       3         0           Strom, Mrs. Wilhelm (Elna Matilda Persson)   \n",
       "294       3         0                                     Tobin, Mr. Roger   \n",
       "\n",
       "        sex      age  sibsp  parch   ticket      fare    cabin  ...  \\\n",
       "0    female  29.0000      0      0    24160  211.3375       B5  ...   \n",
       "1    female  15.0000      0      1    24160  211.3375       B5  ...   \n",
       "2      male   0.9167      1      2   113781  151.5500  C22 C26  ...   \n",
       "3    female   2.0000      1      2   113781  151.5500  C22 C26  ...   \n",
       "4      male  30.0000      1      2   113781  151.5500  C22 C26  ...   \n",
       "..      ...      ...    ...    ...      ...       ...      ...  ...   \n",
       "290  female  24.0000      0      2  PP 9549   16.7000       G6  ...   \n",
       "291  female   4.0000      1      1  PP 9549   16.7000       G6  ...   \n",
       "292  female   2.0000      0      1   347054   10.4625       G6  ...   \n",
       "293  female  29.0000      1      1   347054   10.4625       G6  ...   \n",
       "294    male      NaN      0      0   383121    7.7500      F38  ...   \n",
       "\n",
       "    parch_mean parch_sum  fare_min  fare_max  fare_mean  fare_sum  body_min  \\\n",
       "0          0.5         1  211.3375  211.3375   211.3375   422.675       NaN   \n",
       "1          0.5         1  211.3375  211.3375   211.3375   422.675       NaN   \n",
       "2          2.0         8  151.5500  151.5500   151.5500   606.200     135.0   \n",
       "3          2.0         8  151.5500  151.5500   151.5500   606.200     135.0   \n",
       "4          2.0         8  151.5500  151.5500   151.5500   606.200     135.0   \n",
       "..         ...       ...       ...       ...        ...       ...       ...   \n",
       "290        1.2         6   10.4625   16.7000    14.2050    71.025       NaN   \n",
       "291        1.2         6   10.4625   16.7000    14.2050    71.025       NaN   \n",
       "292        1.2         6   10.4625   16.7000    14.2050    71.025       NaN   \n",
       "293        1.2         6   10.4625   16.7000    14.2050    71.025       NaN   \n",
       "294        0.0         0    7.7500    7.7500     7.7500     7.750       NaN   \n",
       "\n",
       "     body_max  body_mean  body_sum  \n",
       "0         NaN        NaN       0.0  \n",
       "1         NaN        NaN       0.0  \n",
       "2       135.0      135.0     135.0  \n",
       "3       135.0      135.0     135.0  \n",
       "4       135.0      135.0     135.0  \n",
       "..        ...        ...       ...  \n",
       "290       NaN        NaN       0.0  \n",
       "291       NaN        NaN       0.0  \n",
       "292       NaN        NaN       0.0  \n",
       "293       NaN        NaN       0.0  \n",
       "294       NaN        NaN       0.0  \n",
       "\n",
       "[295 rows x 42 columns]"
      ]
     },
     "execution_count": 108,
     "metadata": {},
     "output_type": "execute_result"
    }
   ],
   "source": [
    "agg_df"
   ]
  },
  {
   "cell_type": "code",
   "execution_count": 109,
   "id": "1ea84700",
   "metadata": {},
   "outputs": [
    {
     "name": "stderr",
     "output_type": "stream",
     "text": [
      "C:\\Users\\alber\\AppData\\Local\\Temp/ipykernel_16232/3092287854.py:1: FutureWarning: As the xlwt package is no longer maintained, the xlwt engine will be removed in a future version of pandas. This is the only engine in pandas that supports writing in the xls format. Install openpyxl and write to an xlsx file instead. You can set the option io.excel.xls.writer to 'xlwt' to silence this warning. While this option is deprecated and will also raise a warning, it can be globally set and the warning suppressed.\n",
      "  agg_df.to_excel(excel_writer='C:/Users/alber/Desktop/UniTn/Machine Learning practicals/agg_df.xls')\n"
     ]
    }
   ],
   "source": [
    "agg_df.to_excel(excel_writer='C:/Users/alber/Desktop/UniTn/Machine Learning practicals/agg_df.xls')"
   ]
  },
  {
   "cell_type": "code",
   "execution_count": null,
   "id": "c188faca",
   "metadata": {},
   "outputs": [],
   "source": []
  }
 ],
 "metadata": {
  "kernelspec": {
   "display_name": "Python 3 (ipykernel)",
   "language": "python",
   "name": "python3"
  },
  "language_info": {
   "codemirror_mode": {
    "name": "ipython",
    "version": 3
   },
   "file_extension": ".py",
   "mimetype": "text/x-python",
   "name": "python",
   "nbconvert_exporter": "python",
   "pygments_lexer": "ipython3",
   "version": "3.8.3"
  },
  "toc": {
   "base_numbering": 1,
   "nav_menu": {},
   "number_sections": true,
   "sideBar": true,
   "skip_h1_title": false,
   "title_cell": "Table of Contents",
   "title_sidebar": "Contents",
   "toc_cell": false,
   "toc_position": {},
   "toc_section_display": true,
   "toc_window_display": false
  }
 },
 "nbformat": 4,
 "nbformat_minor": 5
}
