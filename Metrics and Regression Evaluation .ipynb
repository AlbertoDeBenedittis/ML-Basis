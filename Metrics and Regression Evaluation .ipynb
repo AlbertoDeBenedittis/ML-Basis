{
 "cells": [
  {
   "cell_type": "markdown",
   "id": "74a2a012",
   "metadata": {},
   "source": [
    "# Metrics and regression evaluation"
   ]
  },
  {
   "cell_type": "markdown",
   "id": "a4c4220c",
   "metadata": {},
   "source": [
    "## Metrics "
   ]
  },
  {
   "cell_type": "markdown",
   "id": "e21845ba",
   "metadata": {},
   "source": [
    "The `sklarn.metrics` module includes metrics to evaluate regression models. Metric functions ending in `loss` or `error` should be minimized. Functions ending in `score` should be maximized. \n",
    "\n",
    "The `coefficient of determination` $(r_{2})$ is a common regression metric. This value is typically between 0 and 1. It represents the percent of the variance of the target that the features contribute. Higher values are better, but in general it is difficult to evaluate the model from this metric alone. \n",
    "\n",
    "The $r^2$ is the default metric used during grid search. You can specify other metrics using the `scoring` parameter "
   ]
  },
  {
   "cell_type": "code",
   "execution_count": 1,
   "id": "26523f0e",
   "metadata": {},
   "outputs": [],
   "source": [
    "import pandas as pd \n",
    "from sklearn.datasets import load_boston \n",
    "from sklearn import (model_selection, preprocessing)"
   ]
  },
  {
   "cell_type": "code",
   "execution_count": 2,
   "id": "32d576a6",
   "metadata": {},
   "outputs": [],
   "source": [
    "b = load_boston()\n",
    "bos_X = pd.DataFrame(b.data, columns = b.feature_names)\n",
    "bos_y = b.target"
   ]
  },
  {
   "cell_type": "code",
   "execution_count": 3,
   "id": "090a3cab",
   "metadata": {},
   "outputs": [],
   "source": [
    "bos_X_train, bos_X_test, bos_y_train, bos_y_test = model_selection.train_test_split(bos_X, bos_y, test_size=0.3, random_state=42)"
   ]
  },
  {
   "cell_type": "code",
   "execution_count": 4,
   "id": "b13e3c2c",
   "metadata": {},
   "outputs": [],
   "source": [
    "bos_sX = preprocessing.StandardScaler().fit_transform(bos_X) #scaling the dataset \n",
    "bos_sX_train, bos_sX_test, bos_sy_train, bos_sy_test = model_selection.train_test_split(bos_sX, bos_y, test_size=0.3, random_state=42)"
   ]
  },
  {
   "cell_type": "code",
   "execution_count": 5,
   "id": "1e58cb59",
   "metadata": {},
   "outputs": [
    {
     "data": {
      "text/plain": [
       "0.8708997131330258"
      ]
     },
     "execution_count": 5,
     "metadata": {},
     "output_type": "execute_result"
    }
   ],
   "source": [
    "from sklearn.ensemble import RandomForestRegressor\n",
    "\n",
    "rfr = RandomForestRegressor(random_state = 42, n_estimators = 100)\n",
    "rfr.fit(bos_X_train, bos_y_train)\n",
    "RandomForestRegressor(bootstrap = True, criterion = 'mse', max_depth = None, max_features='auto', max_leaf_nodes=None, min_impurity_decrease=0.0,\n",
    "                     min_impurity_split=None, min_samples_leaf=1, min_samples_split=2, min_weight_fraction_leaf=0.0, n_estimators=100,\n",
    "                     n_jobs = 1, oob_score=False, random_state=42, verbose = 0, warm_start=False)\n",
    "rfr.score(bos_X_test, bos_y_test)\n",
    "# the same can be obtain by importing metrics from sklearn and call metrics.r2_score(y_test, y_test_pred)"
   ]
  },
  {
   "cell_type": "code",
   "execution_count": 6,
   "id": "2d5de4c1",
   "metadata": {},
   "outputs": [],
   "source": [
    "y_pred = rfr.predict(bos_X_test)"
   ]
  },
  {
   "cell_type": "code",
   "execution_count": 7,
   "id": "69dabeac",
   "metadata": {},
   "outputs": [
    {
     "data": {
      "text/plain": [
       "0.8708997131330258"
      ]
     },
     "execution_count": 7,
     "metadata": {},
     "output_type": "execute_result"
    }
   ],
   "source": [
    "from sklearn import metrics \n",
    "\n",
    "metrics.r2_score(bos_y_test, y_pred)"
   ]
  },
  {
   "cell_type": "markdown",
   "id": "279cd7a5",
   "metadata": {},
   "source": [
    "__Note__: There is also an _explained variance metric_. If the mean of the residuals is 0, then the variance explained is the same as the coefficient of determination. \n",
    "\n",
    "_Mean absolute error_ (`neg_mean_absolute_error` when used in grid search) express the average absolute model prediction error. A perfect model would score 0, but this metric has no upper bounds, unlike the coefficient of determination. However, since it is in units of the target, it is more interpretable. If you want to ignore outliers, this is a good metric to use. \n",
    "This measure cannot indicate how bad a model is, but can be used to compare two models. If you have two models, the model with a lower score is better. \n",
    "\n",
    "This number tells us that the average error is about two above or belowe the real value :"
   ]
  },
  {
   "cell_type": "code",
   "execution_count": 8,
   "id": "f3ec7194",
   "metadata": {},
   "outputs": [
    {
     "data": {
      "text/plain": [
       "2.083605263157894"
      ]
     },
     "execution_count": 8,
     "metadata": {},
     "output_type": "execute_result"
    }
   ],
   "source": [
    "metrics.mean_absolute_error(bos_y_test, y_pred)"
   ]
  },
  {
   "cell_type": "markdown",
   "id": "3153bb05",
   "metadata": {},
   "source": [
    "_Root mean squared error_ (`neg_mean_squared_error`) also measures models error in terms of the target. However, because it averages the sqaure errors before talking the square root, it penalizes large errors. If you want to penalize large errors, this is a good metric to use. For example, if being off by eight is more than two times worse than being off by four. \n",
    "\n",
    "\n",
    "As with mean absolute error, this measure cannot indicate how bad a model is, but can be used to compare tow models. If you assume that errors are normally distirbuted, this is a good choice"
   ]
  },
  {
   "cell_type": "code",
   "execution_count": 9,
   "id": "5b58547d",
   "metadata": {},
   "outputs": [
    {
     "data": {
      "text/plain": [
       "9.619662013157892"
      ]
     },
     "execution_count": 9,
     "metadata": {},
     "output_type": "execute_result"
    }
   ],
   "source": [
    "metrics.mean_squared_error(bos_y_test, y_pred)"
   ]
  },
  {
   "cell_type": "markdown",
   "id": "060dec6a",
   "metadata": {},
   "source": [
    "The _mean squared logaritmic error_ penalizes underprediction more than overprediction. If you have targets that experience exponential growth (population, stock, etc.), this is a good metric. "
   ]
  },
  {
   "cell_type": "code",
   "execution_count": 10,
   "id": "984f5117",
   "metadata": {},
   "outputs": [
    {
     "data": {
      "text/plain": [
       "0.02128735507001923"
      ]
     },
     "execution_count": 10,
     "metadata": {},
     "output_type": "execute_result"
    }
   ],
   "source": [
    "metrics.mean_squared_log_error(bos_y_test, y_pred)"
   ]
  },
  {
   "cell_type": "markdown",
   "id": "d927f69c",
   "metadata": {},
   "source": [
    "## Residuals plot "
   ]
  },
  {
   "cell_type": "markdown",
   "id": "82b6577c",
   "metadata": {},
   "source": [
    "Good models with appropriate $R^2$ scores will exhibit _homoscedasticity_. This means the variance is the same for all values of targets regardless of the input. Plotted this looks like randomly distributed values in a residual plot. If there are patterns, the odel or the data are problematic. \n",
    "\n",
    "Residuals plot also show outliers, which can have a big impact on model fitting "
   ]
  },
  {
   "cell_type": "code",
   "execution_count": 12,
   "id": "f24573a6",
   "metadata": {},
   "outputs": [
    {
     "data": {
      "image/png": "[encoded data removed]",
      "text/plain": [
       "<Figure size 432x288 with 2 Axes>"
      ]
     },
     "metadata": {},
     "output_type": "display_data"
    },
    {
     "data": {
      "text/plain": [
       "<AxesSubplot:title={'center':'Residuals for RandomForestRegressor Model'}, xlabel='Predicted Value', ylabel='Residuals'>"
      ]
     },
     "execution_count": 12,
     "metadata": {},
     "output_type": "execute_result"
    }
   ],
   "source": [
    "import matplotlib.pyplot as plt\n",
    "from yellowbrick.regressor import ResidualsPlot\n",
    "\n",
    "\n",
    "fig, ax = plt.subplots(figsize = (6,4))\n",
    "rpv = ResidualsPlot(rfr)\n",
    "rpv.fit(bos_X_train, bos_y_train)\n",
    "rpv.poof()"
   ]
  },
  {
   "cell_type": "markdown",
   "id": "dcbb7f0c",
   "metadata": {},
   "source": [
    "## Heteroscedasticity "
   ]
  },
  {
   "cell_type": "markdown",
   "id": "5c97d8af",
   "metadata": {},
   "source": [
    "The statsmodel library includes the _Breusch-Pagan test_ for heteroscedasticity. This means that variance of the residuals varies over the predicted values. In the Bresuch-Pagan test, if the p-values are significant ( p-values less than 0.05), the null hypothesis of homoscedasticity is rejected. This indicates that residuals are heteroscedastic, and the prediction are biased.  "
   ]
  },
  {
   "cell_type": "code",
   "execution_count": 18,
   "id": "14950950",
   "metadata": {},
   "outputs": [],
   "source": [
    "import statsmodels.api as sm\n",
    "import numpy as np "
   ]
  },
  {
   "cell_type": "code",
   "execution_count": 19,
   "id": "2d3e9a92",
   "metadata": {},
   "outputs": [],
   "source": [
    "df = pd.DataFrame({'rating': [90, 85, 82, 88, 94, 90, 76, 75, 87, 86],\n",
    "                   'points': [25, 20, 14, 16, 27, 20, 12, 15, 14, 19],\n",
    "                   'assists': [5, 7, 7, 8, 5, 7, 6, 9, 9, 5],\n",
    "                   'rebounds': [11, 8, 10, 6, 6, 9, 6, 10, 10, 7]})"
   ]
  },
  {
   "cell_type": "code",
   "execution_count": 20,
   "id": "e4eea3cb",
   "metadata": {},
   "outputs": [
    {
     "data": {
      "text/html": [
       "<div>\n",
       "<style scoped>\n",
       "    .dataframe tbody tr th:only-of-type {\n",
       "        vertical-align: middle;\n",
       "    }\n",
       "\n",
       "    .dataframe tbody tr th {\n",
       "        vertical-align: top;\n",
       "    }\n",
       "\n",
       "    .dataframe thead th {\n",
       "        text-align: right;\n",
       "    }\n",
       "</style>\n",
       "<table border=\"1\" class=\"dataframe\">\n",
       "  <thead>\n",
       "    <tr style=\"text-align: right;\">\n",
       "      <th></th>\n",
       "      <th>rating</th>\n",
       "      <th>points</th>\n",
       "      <th>assists</th>\n",
       "      <th>rebounds</th>\n",
       "    </tr>\n",
       "  </thead>\n",
       "  <tbody>\n",
       "    <tr>\n",
       "      <th>0</th>\n",
       "      <td>90</td>\n",
       "      <td>25</td>\n",
       "      <td>5</td>\n",
       "      <td>11</td>\n",
       "    </tr>\n",
       "    <tr>\n",
       "      <th>1</th>\n",
       "      <td>85</td>\n",
       "      <td>20</td>\n",
       "      <td>7</td>\n",
       "      <td>8</td>\n",
       "    </tr>\n",
       "    <tr>\n",
       "      <th>2</th>\n",
       "      <td>82</td>\n",
       "      <td>14</td>\n",
       "      <td>7</td>\n",
       "      <td>10</td>\n",
       "    </tr>\n",
       "    <tr>\n",
       "      <th>3</th>\n",
       "      <td>88</td>\n",
       "      <td>16</td>\n",
       "      <td>8</td>\n",
       "      <td>6</td>\n",
       "    </tr>\n",
       "    <tr>\n",
       "      <th>4</th>\n",
       "      <td>94</td>\n",
       "      <td>27</td>\n",
       "      <td>5</td>\n",
       "      <td>6</td>\n",
       "    </tr>\n",
       "    <tr>\n",
       "      <th>5</th>\n",
       "      <td>90</td>\n",
       "      <td>20</td>\n",
       "      <td>7</td>\n",
       "      <td>9</td>\n",
       "    </tr>\n",
       "    <tr>\n",
       "      <th>6</th>\n",
       "      <td>76</td>\n",
       "      <td>12</td>\n",
       "      <td>6</td>\n",
       "      <td>6</td>\n",
       "    </tr>\n",
       "    <tr>\n",
       "      <th>7</th>\n",
       "      <td>75</td>\n",
       "      <td>15</td>\n",
       "      <td>9</td>\n",
       "      <td>10</td>\n",
       "    </tr>\n",
       "    <tr>\n",
       "      <th>8</th>\n",
       "      <td>87</td>\n",
       "      <td>14</td>\n",
       "      <td>9</td>\n",
       "      <td>10</td>\n",
       "    </tr>\n",
       "    <tr>\n",
       "      <th>9</th>\n",
       "      <td>86</td>\n",
       "      <td>19</td>\n",
       "      <td>5</td>\n",
       "      <td>7</td>\n",
       "    </tr>\n",
       "  </tbody>\n",
       "</table>\n",
       "</div>"
      ],
      "text/plain": [
       "   rating  points  assists  rebounds\n",
       "0      90      25        5        11\n",
       "1      85      20        7         8\n",
       "2      82      14        7        10\n",
       "3      88      16        8         6\n",
       "4      94      27        5         6\n",
       "5      90      20        7         9\n",
       "6      76      12        6         6\n",
       "7      75      15        9        10\n",
       "8      87      14        9        10\n",
       "9      86      19        5         7"
      ]
     },
     "execution_count": 20,
     "metadata": {},
     "output_type": "execute_result"
    }
   ],
   "source": [
    "df"
   ]
  },
  {
   "cell_type": "code",
   "execution_count": 21,
   "id": "0bb5bc29",
   "metadata": {},
   "outputs": [
    {
     "name": "stdout",
     "output_type": "stream",
     "text": [
      "                            OLS Regression Results                            \n",
      "==============================================================================\n",
      "Dep. Variable:                 rating   R-squared:                       0.623\n",
      "Model:                            OLS   Adj. R-squared:                  0.434\n",
      "Method:                 Least Squares   F-statistic:                     3.299\n",
      "Date:                Mon, 18 Oct 2021   Prob (F-statistic):             0.0995\n",
      "Time:                        12:20:46   Log-Likelihood:                -26.862\n",
      "No. Observations:                  10   AIC:                             61.72\n",
      "Df Residuals:                       6   BIC:                             62.93\n",
      "Df Model:                           3                                         \n",
      "Covariance Type:            nonrobust                                         \n",
      "==============================================================================\n",
      "                 coef    std err          t      P>|t|      [0.025      0.975]\n",
      "------------------------------------------------------------------------------\n",
      "Intercept     62.4716     14.588      4.282      0.005      26.776      98.168\n",
      "points         1.1193      0.411      2.724      0.034       0.114       2.125\n",
      "assists        0.8834      1.381      0.640      0.546      -2.495       4.262\n",
      "rebounds      -0.4278      0.851     -0.503      0.633      -2.510       1.655\n",
      "==============================================================================\n",
      "Omnibus:                        2.711   Durbin-Watson:                   2.392\n",
      "Prob(Omnibus):                  0.258   Jarque-Bera (JB):                0.945\n",
      "Skew:                          -0.751   Prob(JB):                        0.624\n",
      "Kurtosis:                       3.115   Cond. No.                         217.\n",
      "==============================================================================\n",
      "\n",
      "Notes:\n",
      "[1] Standard Errors assume that the covariance matrix of the errors is correctly specified.\n"
     ]
    },
    {
     "name": "stderr",
     "output_type": "stream",
     "text": [
      "C:\\Users\\alber\\anaconda3\\lib\\site-packages\\scipy\\stats\\stats.py:1603: UserWarning: kurtosistest only valid for n>=20 ... continuing anyway, n=10\n",
      "  warnings.warn(\"kurtosistest only valid for n>=20 ... continuing \"\n"
     ]
    }
   ],
   "source": [
    "import statsmodels.formula.api as smf\n",
    "\n",
    "#fit regression model\n",
    "fit = smf.ols('rating ~ points+assists+rebounds', data=df).fit()\n",
    "\n",
    "#view model summary\n",
    "print(fit.summary())"
   ]
  },
  {
   "cell_type": "code",
   "execution_count": 24,
   "id": "ffe19097",
   "metadata": {},
   "outputs": [
    {
     "name": "stdout",
     "output_type": "stream",
     "text": [
      "Lagrange multiplier statistic     6.004\n",
      "p-value        0.111\n",
      "f-value        3.005\n",
      "f p-value      0.117\n"
     ]
    }
   ],
   "source": [
    "from statsmodels.compat import lzip\n",
    "import statsmodels.stats.api as sms\n",
    "\n",
    "#perform Bresuch-Pagan test\n",
    "names = ['Lagrange multiplier statistic', 'p-value',\n",
    "        'f-value', 'f p-value']\n",
    "test = sms.het_breuschpagan(fit.resid, fit.model.exog)\n",
    "\n",
    "lzip(names, test)\n",
    "\n",
    "for name, num in zip(names, test):\n",
    "    print(f'{name:10}{num:10.3f}')"
   ]
  },
  {
   "cell_type": "markdown",
   "id": "c915d43e",
   "metadata": {},
   "source": [
    "## Normal residuals "
   ]
  },
  {
   "cell_type": "markdown",
   "id": "bfb9c804",
   "metadata": {},
   "source": [
    "The scipy labrary includes a _probability plot_ and the _Kolmogorov-Smirnov_ test, both of which measures whether the residuals are normal. \n",
    "\n",
    "We can plot a histogram to visualize the residuals and check for normality"
   ]
  },
  {
   "cell_type": "code",
   "execution_count": 26,
   "id": "6df3d10b",
   "metadata": {},
   "outputs": [
    {
     "data": {
      "text/plain": [
       "<AxesSubplot:title={'center':'Residual Histogram'}, ylabel='Frequency'>"
      ]
     },
     "execution_count": 26,
     "metadata": {},
     "output_type": "execute_result"
    },
    {
     "data": {
      "image/png": "[encoded data removed]",
      "text/plain": [
       "<Figure size 432x288 with 1 Axes>"
      ]
     },
     "metadata": {},
     "output_type": "display_data"
    }
   ],
   "source": [
    "fig,ax = plt.subplots(figsize = (6,4))\n",
    "resids = bos_y_test - rfr.predict(bos_X_test)\n",
    "pd.Series(resids, name = 'residuals').plot.hist(bins = 20, ax = ax, title = 'Residual Histogram')"
   ]
  },
  {
   "cell_type": "markdown",
   "id": "02437faa",
   "metadata": {},
   "source": [
    "The above shows a probability ploy. If the samples plotted againts the quantiles line up, the residuals are normal. We can see that this fails in this case:"
   ]
  },
  {
   "cell_type": "code",
   "execution_count": 29,
   "id": "d451d7dc",
   "metadata": {},
   "outputs": [
    {
     "data": {
      "image/png": "[encoded data removed]",
      "text/plain": [
       "<Figure size 432x288 with 1 Axes>"
      ]
     },
     "metadata": {},
     "output_type": "display_data"
    }
   ],
   "source": [
    "from scipy import stats \n",
    "\n",
    "fig,ax = plt.subplots(figsize = (6,4))\n",
    "_ = stats.probplot(resids, plot = ax)\n"
   ]
  },
  {
   "cell_type": "markdown",
   "id": "c3cf2746",
   "metadata": {},
   "source": [
    "The Kolmogorov-Smirnov test can evaluate whether a distribution is normal. If the p-value is significant (<0.05), then the values are not normal. "
   ]
  },
  {
   "cell_type": "code",
   "execution_count": 30,
   "id": "57f72448",
   "metadata": {},
   "outputs": [
    {
     "data": {
      "text/plain": [
       "KstestResult(statistic=0.2030324289045929, pvalue=5.705755737845543e-06)"
      ]
     },
     "execution_count": 30,
     "metadata": {},
     "output_type": "execute_result"
    }
   ],
   "source": [
    "stats.kstest(resids, cdf = 'norm')\n",
    "    "
   ]
  },
  {
   "cell_type": "markdown",
   "id": "ff2c687c",
   "metadata": {},
   "source": [
    "This fails as well, which tells us the residuals are not normal."
   ]
  },
  {
   "cell_type": "markdown",
   "id": "1efbe5b5",
   "metadata": {},
   "source": [
    "## Prediction Error Plot"
   ]
  },
  {
   "cell_type": "markdown",
   "id": "535c8ffa",
   "metadata": {},
   "source": [
    "A prediction error plot shows the real targets againts the predicted values. For a perfect model these points would line up in a 45-degree line. \n",
    "\n",
    "As our model seems to predict lower values for  the high  end of y, the model has some performance issues. This is also evident in the residuals plot. "
   ]
  },
  {
   "cell_type": "code",
   "execution_count": 32,
   "id": "a5da0c7f",
   "metadata": {},
   "outputs": [
    {
     "data": {
      "image/png": "[encoded data removed]",
      "text/plain": [
       "<Figure size 720x576 with 1 Axes>"
      ]
     },
     "metadata": {},
     "output_type": "display_data"
    },
    {
     "data": {
      "text/plain": [
       "<AxesSubplot:title={'center':'Prediction Error for RandomForestRegressor'}, xlabel='$y$', ylabel='$\\\\hat{y}$'>"
      ]
     },
     "execution_count": 32,
     "metadata": {},
     "output_type": "execute_result"
    }
   ],
   "source": [
    "from yellowbrick.regressor import PredictionError\n",
    "\n",
    "fig, ax = plt.subplots(figsize = (10,8))\n",
    "pev = PredictionError(rfr)\n",
    "pev.fit(bos_X_train, bos_y_train)\n",
    "pev.score(bos_X_test, bos_y_test)\n",
    "pev.poof()"
   ]
  },
  {
   "cell_type": "code",
   "execution_count": null,
   "id": "9bb23a8f",
   "metadata": {},
   "outputs": [],
   "source": []
  }
 ],
 "metadata": {
  "kernelspec": {
   "display_name": "Python 3 (ipykernel)",
   "language": "python",
   "name": "python3"
  },
  "language_info": {
   "codemirror_mode": {
    "name": "ipython",
    "version": 3
   },
   "file_extension": ".py",
   "mimetype": "text/x-python",
   "name": "python",
   "nbconvert_exporter": "python",
   "pygments_lexer": "ipython3",
   "version": "3.8.3"
  },
  "toc": {
   "base_numbering": 1,
   "nav_menu": {},
   "number_sections": true,
   "sideBar": true,
   "skip_h1_title": false,
   "title_cell": "Table of Contents",
   "title_sidebar": "Contents",
   "toc_cell": false,
   "toc_position": {},
   "toc_section_display": true,
   "toc_window_display": false
  }
 },
 "nbformat": 4,
 "nbformat_minor": 5
}
